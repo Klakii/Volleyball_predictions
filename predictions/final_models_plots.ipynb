{
 "cells": [
  {
   "cell_type": "code",
   "execution_count": 4,
   "id": "a8d35d73",
   "metadata": {},
   "outputs": [],
   "source": [
    "# import data\n",
    "\n",
    "import re\n",
    "import pandas as pd\n",
    "import numpy as np\n",
    "import sqlite3\n",
    "\n",
    "# read database, change path and database name if needed\n",
    "conn = sqlite3.connect('final_db_2.db')\n",
    "cursor = conn.cursor()\n",
    "result = cursor.execute(\"SELECT name FROM sqlite_master WHERE type='table';\").fetchall()"
   ]
  },
  {
   "cell_type": "code",
   "execution_count": 5,
   "id": "aa166f69",
   "metadata": {},
   "outputs": [],
   "source": [
    "# find table names - match data\n",
    "table_names = sorted(list(zip(*result))[0])\n",
    "\n",
    "# create first table\n",
    "test_name = table_names[0]\n",
    "data = pd.read_sql(\"SELECT * FROM '{}'\".format(test_name), conn)\n",
    "\n",
    "# append all match stats to one table\n",
    "for name in table_names[1:]:\n",
    "    data_i = pd.read_sql(\"SELECT * FROM '{}'\".format(name), conn)\n",
    "    data = pd.concat([data, data_i])"
   ]
  },
  {
   "cell_type": "code",
   "execution_count": 6,
   "id": "b6b9008b",
   "metadata": {},
   "outputs": [],
   "source": [
    "data2 = data[['Team_name_home', 'Round_home', 'Team_name_away', 'Year_away', 'Round_away', \n",
    "                            'Results_away', 'Round_diff', 'Year_diff', 'Team_name_diff' ]]"
   ]
  },
  {
   "cell_type": "code",
   "execution_count": 7,
   "id": "18c6efd5",
   "metadata": {},
   "outputs": [],
   "source": [
    "data = data.drop(columns = ['Team_name_home', 'Round_home', 'Team_name_away', 'Year_away', 'Round_away', \n",
    "                            'Results_away', 'Round_diff', 'Year_diff', 'Team_name_diff' ]) \n",
    "# only need result home "
   ]
  },
  {
   "cell_type": "code",
   "execution_count": 8,
   "id": "d4e36377",
   "metadata": {},
   "outputs": [
    {
     "data": {
      "text/html": [
       "<div>\n",
       "<style scoped>\n",
       "    .dataframe tbody tr th:only-of-type {\n",
       "        vertical-align: middle;\n",
       "    }\n",
       "\n",
       "    .dataframe tbody tr th {\n",
       "        vertical-align: top;\n",
       "    }\n",
       "\n",
       "    .dataframe thead th {\n",
       "        text-align: right;\n",
       "    }\n",
       "</style>\n",
       "<table border=\"1\" class=\"dataframe\">\n",
       "  <thead>\n",
       "    <tr style=\"text-align: right;\">\n",
       "      <th></th>\n",
       "      <th>AVG_1_Points_home</th>\n",
       "      <th>AVG_1_Serve_number_home</th>\n",
       "      <th>AVG_1_Serve_errors_home</th>\n",
       "      <th>AVG_1_Serve_aces_home</th>\n",
       "      <th>AVG_1_Serve_%_effic_home</th>\n",
       "      <th>AVG_1_Rec_number_home</th>\n",
       "      <th>AVG_1_Rec_errors_home</th>\n",
       "      <th>AVG_1_Rec_%_pos_home</th>\n",
       "      <th>AVG_1_Rec_%_perf_home</th>\n",
       "      <th>AVG_1_Atack_number_home</th>\n",
       "      <th>...</th>\n",
       "      <th>Last_3_Points_lost_diff</th>\n",
       "      <th>Last_5_Points_diff</th>\n",
       "      <th>Last_5_Matches_won_diff</th>\n",
       "      <th>Last_5_Matches_lost_diff</th>\n",
       "      <th>Last_5_Sets_won_diff</th>\n",
       "      <th>Last_5_Sets_lost_diff</th>\n",
       "      <th>Last_5_Points_won_diff</th>\n",
       "      <th>Last_5_Points_lost_diff</th>\n",
       "      <th>%_points_poss_home</th>\n",
       "      <th>%_points_poss_away</th>\n",
       "    </tr>\n",
       "  </thead>\n",
       "  <tbody>\n",
       "    <tr>\n",
       "      <th>687</th>\n",
       "      <td>55.0</td>\n",
       "      <td>76.0</td>\n",
       "      <td>13.0</td>\n",
       "      <td>4.0</td>\n",
       "      <td>-0.12</td>\n",
       "      <td>45.0</td>\n",
       "      <td>5.0</td>\n",
       "      <td>55.0</td>\n",
       "      <td>31.0</td>\n",
       "      <td>69.0</td>\n",
       "      <td>...</td>\n",
       "      <td>-12.0</td>\n",
       "      <td>3.0</td>\n",
       "      <td>1.0</td>\n",
       "      <td>-1.0</td>\n",
       "      <td>3.0</td>\n",
       "      <td>-3.0</td>\n",
       "      <td>24.0</td>\n",
       "      <td>-12.0</td>\n",
       "      <td>0.50</td>\n",
       "      <td>0.00</td>\n",
       "    </tr>\n",
       "    <tr>\n",
       "      <th>695</th>\n",
       "      <td>NaN</td>\n",
       "      <td>NaN</td>\n",
       "      <td>NaN</td>\n",
       "      <td>NaN</td>\n",
       "      <td>NaN</td>\n",
       "      <td>NaN</td>\n",
       "      <td>NaN</td>\n",
       "      <td>NaN</td>\n",
       "      <td>NaN</td>\n",
       "      <td>NaN</td>\n",
       "      <td>...</td>\n",
       "      <td>-25.0</td>\n",
       "      <td>4.0</td>\n",
       "      <td>2.0</td>\n",
       "      <td>-2.0</td>\n",
       "      <td>4.0</td>\n",
       "      <td>-4.0</td>\n",
       "      <td>15.0</td>\n",
       "      <td>-25.0</td>\n",
       "      <td>0.56</td>\n",
       "      <td>0.11</td>\n",
       "    </tr>\n",
       "    <tr>\n",
       "      <th>916</th>\n",
       "      <td>NaN</td>\n",
       "      <td>NaN</td>\n",
       "      <td>NaN</td>\n",
       "      <td>NaN</td>\n",
       "      <td>NaN</td>\n",
       "      <td>NaN</td>\n",
       "      <td>NaN</td>\n",
       "      <td>NaN</td>\n",
       "      <td>NaN</td>\n",
       "      <td>NaN</td>\n",
       "      <td>...</td>\n",
       "      <td>17.0</td>\n",
       "      <td>-3.0</td>\n",
       "      <td>-1.0</td>\n",
       "      <td>1.0</td>\n",
       "      <td>-3.0</td>\n",
       "      <td>3.0</td>\n",
       "      <td>-14.0</td>\n",
       "      <td>17.0</td>\n",
       "      <td>0.00</td>\n",
       "      <td>0.50</td>\n",
       "    </tr>\n",
       "    <tr>\n",
       "      <th>921</th>\n",
       "      <td>NaN</td>\n",
       "      <td>NaN</td>\n",
       "      <td>NaN</td>\n",
       "      <td>NaN</td>\n",
       "      <td>NaN</td>\n",
       "      <td>NaN</td>\n",
       "      <td>NaN</td>\n",
       "      <td>NaN</td>\n",
       "      <td>NaN</td>\n",
       "      <td>NaN</td>\n",
       "      <td>...</td>\n",
       "      <td>17.0</td>\n",
       "      <td>-3.0</td>\n",
       "      <td>-1.0</td>\n",
       "      <td>1.0</td>\n",
       "      <td>-3.0</td>\n",
       "      <td>3.0</td>\n",
       "      <td>-20.0</td>\n",
       "      <td>17.0</td>\n",
       "      <td>0.00</td>\n",
       "      <td>0.50</td>\n",
       "    </tr>\n",
       "    <tr>\n",
       "      <th>925</th>\n",
       "      <td>NaN</td>\n",
       "      <td>NaN</td>\n",
       "      <td>NaN</td>\n",
       "      <td>NaN</td>\n",
       "      <td>NaN</td>\n",
       "      <td>NaN</td>\n",
       "      <td>NaN</td>\n",
       "      <td>NaN</td>\n",
       "      <td>NaN</td>\n",
       "      <td>NaN</td>\n",
       "      <td>...</td>\n",
       "      <td>6.0</td>\n",
       "      <td>-3.0</td>\n",
       "      <td>-1.0</td>\n",
       "      <td>1.0</td>\n",
       "      <td>-3.0</td>\n",
       "      <td>3.0</td>\n",
       "      <td>-13.0</td>\n",
       "      <td>6.0</td>\n",
       "      <td>0.33</td>\n",
       "      <td>0.67</td>\n",
       "    </tr>\n",
       "    <tr>\n",
       "      <th>1152</th>\n",
       "      <td>NaN</td>\n",
       "      <td>NaN</td>\n",
       "      <td>NaN</td>\n",
       "      <td>NaN</td>\n",
       "      <td>NaN</td>\n",
       "      <td>NaN</td>\n",
       "      <td>NaN</td>\n",
       "      <td>NaN</td>\n",
       "      <td>NaN</td>\n",
       "      <td>NaN</td>\n",
       "      <td>...</td>\n",
       "      <td>-88.0</td>\n",
       "      <td>-3.0</td>\n",
       "      <td>-1.0</td>\n",
       "      <td>0.0</td>\n",
       "      <td>-3.0</td>\n",
       "      <td>-1.0</td>\n",
       "      <td>-98.0</td>\n",
       "      <td>-88.0</td>\n",
       "      <td>0.00</td>\n",
       "      <td>0.50</td>\n",
       "    </tr>\n",
       "    <tr>\n",
       "      <th>1298</th>\n",
       "      <td>69.0</td>\n",
       "      <td>104.0</td>\n",
       "      <td>16.0</td>\n",
       "      <td>3.0</td>\n",
       "      <td>-0.12</td>\n",
       "      <td>81.0</td>\n",
       "      <td>5.0</td>\n",
       "      <td>49.0</td>\n",
       "      <td>25.0</td>\n",
       "      <td>108.0</td>\n",
       "      <td>...</td>\n",
       "      <td>8.0</td>\n",
       "      <td>1.0</td>\n",
       "      <td>0.0</td>\n",
       "      <td>0.0</td>\n",
       "      <td>1.0</td>\n",
       "      <td>0.0</td>\n",
       "      <td>13.0</td>\n",
       "      <td>8.0</td>\n",
       "      <td>0.17</td>\n",
       "      <td>0.00</td>\n",
       "    </tr>\n",
       "    <tr>\n",
       "      <th>1304</th>\n",
       "      <td>NaN</td>\n",
       "      <td>NaN</td>\n",
       "      <td>NaN</td>\n",
       "      <td>NaN</td>\n",
       "      <td>NaN</td>\n",
       "      <td>NaN</td>\n",
       "      <td>NaN</td>\n",
       "      <td>NaN</td>\n",
       "      <td>NaN</td>\n",
       "      <td>NaN</td>\n",
       "      <td>...</td>\n",
       "      <td>-3.0</td>\n",
       "      <td>3.0</td>\n",
       "      <td>1.0</td>\n",
       "      <td>-1.0</td>\n",
       "      <td>2.0</td>\n",
       "      <td>-2.0</td>\n",
       "      <td>9.0</td>\n",
       "      <td>-3.0</td>\n",
       "      <td>0.50</td>\n",
       "      <td>0.00</td>\n",
       "    </tr>\n",
       "    <tr>\n",
       "      <th>1459</th>\n",
       "      <td>72.0</td>\n",
       "      <td>107.0</td>\n",
       "      <td>26.0</td>\n",
       "      <td>8.0</td>\n",
       "      <td>-14.00</td>\n",
       "      <td>76.0</td>\n",
       "      <td>5.0</td>\n",
       "      <td>47.0</td>\n",
       "      <td>19.0</td>\n",
       "      <td>103.0</td>\n",
       "      <td>...</td>\n",
       "      <td>-13.0</td>\n",
       "      <td>1.0</td>\n",
       "      <td>1.0</td>\n",
       "      <td>-1.0</td>\n",
       "      <td>1.0</td>\n",
       "      <td>-1.0</td>\n",
       "      <td>-8.0</td>\n",
       "      <td>-13.0</td>\n",
       "      <td>0.33</td>\n",
       "      <td>0.17</td>\n",
       "    </tr>\n",
       "    <tr>\n",
       "      <th>1460</th>\n",
       "      <td>85.0</td>\n",
       "      <td>104.0</td>\n",
       "      <td>19.0</td>\n",
       "      <td>9.0</td>\n",
       "      <td>-4.00</td>\n",
       "      <td>97.0</td>\n",
       "      <td>6.0</td>\n",
       "      <td>40.0</td>\n",
       "      <td>13.0</td>\n",
       "      <td>136.0</td>\n",
       "      <td>...</td>\n",
       "      <td>-7.0</td>\n",
       "      <td>0.0</td>\n",
       "      <td>0.0</td>\n",
       "      <td>0.0</td>\n",
       "      <td>0.0</td>\n",
       "      <td>0.0</td>\n",
       "      <td>-9.0</td>\n",
       "      <td>-7.0</td>\n",
       "      <td>0.33</td>\n",
       "      <td>0.33</td>\n",
       "    </tr>\n",
       "  </tbody>\n",
       "</table>\n",
       "<p>10 rows × 278 columns</p>\n",
       "</div>"
      ],
      "text/plain": [
       "      AVG_1_Points_home  AVG_1_Serve_number_home  AVG_1_Serve_errors_home   \n",
       "687                55.0                     76.0                     13.0  \\\n",
       "695                 NaN                      NaN                      NaN   \n",
       "916                 NaN                      NaN                      NaN   \n",
       "921                 NaN                      NaN                      NaN   \n",
       "925                 NaN                      NaN                      NaN   \n",
       "1152                NaN                      NaN                      NaN   \n",
       "1298               69.0                    104.0                     16.0   \n",
       "1304                NaN                      NaN                      NaN   \n",
       "1459               72.0                    107.0                     26.0   \n",
       "1460               85.0                    104.0                     19.0   \n",
       "\n",
       "      AVG_1_Serve_aces_home  AVG_1_Serve_%_effic_home  AVG_1_Rec_number_home   \n",
       "687                     4.0                     -0.12                   45.0  \\\n",
       "695                     NaN                       NaN                    NaN   \n",
       "916                     NaN                       NaN                    NaN   \n",
       "921                     NaN                       NaN                    NaN   \n",
       "925                     NaN                       NaN                    NaN   \n",
       "1152                    NaN                       NaN                    NaN   \n",
       "1298                    3.0                     -0.12                   81.0   \n",
       "1304                    NaN                       NaN                    NaN   \n",
       "1459                    8.0                    -14.00                   76.0   \n",
       "1460                    9.0                     -4.00                   97.0   \n",
       "\n",
       "      AVG_1_Rec_errors_home  AVG_1_Rec_%_pos_home  AVG_1_Rec_%_perf_home   \n",
       "687                     5.0                  55.0                   31.0  \\\n",
       "695                     NaN                   NaN                    NaN   \n",
       "916                     NaN                   NaN                    NaN   \n",
       "921                     NaN                   NaN                    NaN   \n",
       "925                     NaN                   NaN                    NaN   \n",
       "1152                    NaN                   NaN                    NaN   \n",
       "1298                    5.0                  49.0                   25.0   \n",
       "1304                    NaN                   NaN                    NaN   \n",
       "1459                    5.0                  47.0                   19.0   \n",
       "1460                    6.0                  40.0                   13.0   \n",
       "\n",
       "      AVG_1_Atack_number_home  ...  Last_3_Points_lost_diff   \n",
       "687                      69.0  ...                    -12.0  \\\n",
       "695                       NaN  ...                    -25.0   \n",
       "916                       NaN  ...                     17.0   \n",
       "921                       NaN  ...                     17.0   \n",
       "925                       NaN  ...                      6.0   \n",
       "1152                      NaN  ...                    -88.0   \n",
       "1298                    108.0  ...                      8.0   \n",
       "1304                      NaN  ...                     -3.0   \n",
       "1459                    103.0  ...                    -13.0   \n",
       "1460                    136.0  ...                     -7.0   \n",
       "\n",
       "      Last_5_Points_diff  Last_5_Matches_won_diff  Last_5_Matches_lost_diff   \n",
       "687                  3.0                      1.0                      -1.0  \\\n",
       "695                  4.0                      2.0                      -2.0   \n",
       "916                 -3.0                     -1.0                       1.0   \n",
       "921                 -3.0                     -1.0                       1.0   \n",
       "925                 -3.0                     -1.0                       1.0   \n",
       "1152                -3.0                     -1.0                       0.0   \n",
       "1298                 1.0                      0.0                       0.0   \n",
       "1304                 3.0                      1.0                      -1.0   \n",
       "1459                 1.0                      1.0                      -1.0   \n",
       "1460                 0.0                      0.0                       0.0   \n",
       "\n",
       "      Last_5_Sets_won_diff  Last_5_Sets_lost_diff  Last_5_Points_won_diff   \n",
       "687                    3.0                   -3.0                    24.0  \\\n",
       "695                    4.0                   -4.0                    15.0   \n",
       "916                   -3.0                    3.0                   -14.0   \n",
       "921                   -3.0                    3.0                   -20.0   \n",
       "925                   -3.0                    3.0                   -13.0   \n",
       "1152                  -3.0                   -1.0                   -98.0   \n",
       "1298                   1.0                    0.0                    13.0   \n",
       "1304                   2.0                   -2.0                     9.0   \n",
       "1459                   1.0                   -1.0                    -8.0   \n",
       "1460                   0.0                    0.0                    -9.0   \n",
       "\n",
       "      Last_5_Points_lost_diff  %_points_poss_home  %_points_poss_away  \n",
       "687                     -12.0                0.50                0.00  \n",
       "695                     -25.0                0.56                0.11  \n",
       "916                      17.0                0.00                0.50  \n",
       "921                      17.0                0.00                0.50  \n",
       "925                       6.0                0.33                0.67  \n",
       "1152                    -88.0                0.00                0.50  \n",
       "1298                      8.0                0.17                0.00  \n",
       "1304                     -3.0                0.50                0.00  \n",
       "1459                    -13.0                0.33                0.17  \n",
       "1460                     -7.0                0.33                0.33  \n",
       "\n",
       "[10 rows x 278 columns]"
      ]
     },
     "execution_count": 8,
     "metadata": {},
     "output_type": "execute_result"
    }
   ],
   "source": [
    "data[data.isna().any(axis=1)]"
   ]
  },
  {
   "cell_type": "code",
   "execution_count": 9,
   "id": "1b21ed51",
   "metadata": {},
   "outputs": [
    {
     "data": {
      "text/plain": [
       "AVG_1_Points_home           0\n",
       "AVG_1_Serve_number_home     0\n",
       "AVG_1_Serve_errors_home     0\n",
       "AVG_1_Serve_aces_home       0\n",
       "AVG_1_Serve_%_effic_home    0\n",
       "                           ..\n",
       "Last_5_Sets_lost_diff       0\n",
       "Last_5_Points_won_diff      0\n",
       "Last_5_Points_lost_diff     0\n",
       "%_points_poss_home          0\n",
       "%_points_poss_away          0\n",
       "Length: 278, dtype: int64"
      ]
     },
     "execution_count": 9,
     "metadata": {},
     "output_type": "execute_result"
    }
   ],
   "source": [
    "data = data.dropna()\n",
    "# check missing values for each of the variables\n",
    "data.isnull().sum()"
   ]
  },
  {
   "cell_type": "code",
   "execution_count": 10,
   "id": "d918b8d1",
   "metadata": {},
   "outputs": [],
   "source": [
    "# define columns' names\n",
    "new_col2 = ['AVG_1_Points_home',\n",
    " 'AVG_1_Serve_number_home',\n",
    " 'AVG_1_Serve_errors_home',\n",
    " 'AVG_1_Serve_aces_home',\n",
    " 'AVG_1_Serve_%_effic_home',\n",
    " 'AVG_1_Rec_number_home',\n",
    " 'AVG_1_Rec_errors_home',\n",
    " 'AVG_1_Rec_%_pos_home',\n",
    " 'AVG_1_Rec_%_perf_home',\n",
    " 'AVG_1_Atack_number_home',\n",
    " 'AVG_1_Atack_error_home',\n",
    " 'AVG_1_Atack_blocked_home',\n",
    " 'AVG_1_Atack_%_eff_home',\n",
    " 'AVG_1_Block_points_home',\n",
    " 'AVG_1_Points_net_home',\n",
    " 'AVG_3_Points_home',\n",
    " 'AVG_3_Serve_number_home',\n",
    " 'AVG_3_Serve_errors_home',\n",
    " 'AVG_3_Serve_aces_home',\n",
    " 'AVG_3_Serve_%_effic_home',\n",
    " 'AVG_3_Rec_number_home',\n",
    " 'AVG_3_Rec_errors_home',\n",
    " 'AVG_3_Rec_%_pos_home',\n",
    " 'AVG_3_Rec_%_perf_home',\n",
    " 'AVG_3_Atack_number_home',\n",
    " 'AVG_3_Atack_error_home',\n",
    " 'AVG_3_Atack_blocked_home',\n",
    " 'AVG_3_Atack_%_eff_home',\n",
    " 'AVG_3_Block_points_home',\n",
    " 'AVG_3_Points_net_home',\n",
    " 'AVG_5_Points_home',\n",
    " 'AVG_5_Serve_number_home',\n",
    " 'AVG_5_Serve_errors_home',\n",
    " 'AVG_5_Serve_aces_home',\n",
    " 'AVG_5_Serve_%_effic_home',\n",
    " 'AVG_5_Rec_number_home',\n",
    " 'AVG_5_Rec_errors_home',\n",
    " 'AVG_5_Rec_%_pos_home',\n",
    " 'AVG_5_Rec_%_perf_home',\n",
    " 'AVG_5_Atack_number_home',\n",
    " 'AVG_5_Atack_error_home',\n",
    " 'AVG_5_Atack_blocked_home',\n",
    " 'AVG_5_Atack_%_eff_home',\n",
    " 'AVG_5_Block_points_home',\n",
    " 'AVG_5_Points_net_home',\n",
    " 'Height_avg_home',\n",
    " 'Weight_avg_home',\n",
    " 'Range_avg_home',\n",
    " 'Opposite_Height_home',\n",
    " 'Libero_Height_home',\n",
    " 'Outside_Height_home',\n",
    " 'Setter_Height_home',\n",
    " 'Middle_Height_home',\n",
    " 'Opposite_Weight_home',\n",
    " 'Libero_Weight_home',\n",
    " 'Outside_Weight_home',\n",
    " 'Setter_Weight_home',\n",
    " 'Middle_Weight_home',\n",
    " 'Opposite_Range_home',\n",
    " 'Libero_Range_home',\n",
    " 'Outside_Range_home',\n",
    " 'Setter_Range_home',\n",
    " 'Middle_Range_home',\n",
    " 'Points_home',\n",
    " 'Matches_won_home',\n",
    " 'Matches_lost_home',\n",
    " 'Sets_won_home',\n",
    " 'Sets_lost_home',\n",
    " 'Points_won_home',\n",
    " 'Points_lost_home',\n",
    " 'Last_1_Points_home',\n",
    " 'Last_1_Matches_won_home',\n",
    " 'Last_1_Matches_lost_home',\n",
    " 'Last_1_Sets_won_home',\n",
    " 'Last_1_Sets_lost_home',\n",
    " 'Last_1_Points_won_home',\n",
    " 'Last_1_Points_lost_home',\n",
    " 'Last_3_Points_home',\n",
    " 'Last_3_Matches_won_home',\n",
    " 'Last_3_Matches_lost_home',\n",
    " 'Last_3_Sets_won_home',\n",
    " 'Last_3_Sets_lost_home',\n",
    " 'Last_3_Points_won_home',\n",
    " 'Last_3_Points_lost_home',\n",
    " 'Last_5_Points_home',\n",
    " 'Last_5_Matches_won_home',\n",
    " 'Last_5_Matches_lost_home',\n",
    " 'Last_5_Sets_won_home',\n",
    " 'Last_5_Sets_lost_home',\n",
    " 'Last_5_Points_won_home',\n",
    " 'Last_5_Points_lost_home',\n",
    " 'ID',\n",
    " 'Year_home',\n",
    " 'Results_home',\n",
    " 'AVG_1_Points_away',\n",
    " 'AVG_1_Serve_number_away',\n",
    " 'AVG_1_Serve_errors_away',\n",
    " 'AVG_1_Serve_aces_away',\n",
    " 'AVG_1_Serve_%_effic_away',\n",
    " 'AVG_1_Rec_number_away',\n",
    " 'AVG_1_Rec_errors_away',\n",
    " 'AVG_1_Rec_%_pos_away',\n",
    " 'AVG_1_Rec_%_perf_away',\n",
    " 'AVG_1_Atack_number_away',\n",
    " 'AVG_1_Atack_error_away',\n",
    " 'AVG_1_Atack_blocked_away',\n",
    " 'AVG_1_Atack_%_eff_away',\n",
    " 'AVG_1_Block_points_away',\n",
    " 'AVG_1_Points_net_away',\n",
    " 'AVG_3_Points_away',\n",
    " 'AVG_3_Serve_number_away',\n",
    " 'AVG_3_Serve_errors_away',\n",
    " 'AVG_3_Serve_aces_away',\n",
    " 'AVG_3_Serve_%_effic_away',\n",
    " 'AVG_3_Rec_number_away',\n",
    " 'AVG_3_Rec_errors_away',\n",
    " 'AVG_3_Rec_%_pos_away',\n",
    " 'AVG_3_Rec_%_perf_away',\n",
    " 'AVG_3_Atack_number_away',\n",
    " 'AVG_3_Atack_error_away',\n",
    " 'AVG_3_Atack_blocked_away',\n",
    " 'AVG_3_Atack_%_eff_away',\n",
    " 'AVG_3_Block_points_away',\n",
    " 'AVG_3_Points_net_away',\n",
    " 'AVG_5_Points_away',\n",
    " 'AVG_5_Serve_number_away',\n",
    " 'AVG_5_Serve_errors_away',\n",
    " 'AVG_5_Serve_aces_away',\n",
    " 'AVG_5_Serve_%_effic_away',\n",
    " 'AVG_5_Rec_number_away',\n",
    " 'AVG_5_Rec_errors_away',\n",
    " 'AVG_5_Rec_%_pos_away',\n",
    " 'AVG_5_Rec_%_perf_away',\n",
    " 'AVG_5_Atack_number_away',\n",
    " 'AVG_5_Atack_error_away',\n",
    " 'AVG_5_Atack_blocked_away',\n",
    " 'AVG_5_Atack_%_eff_away',\n",
    " 'AVG_5_Block_points_away',\n",
    " 'AVG_5_Points_net_away',\n",
    " 'Height_avg_away',\n",
    " 'Weight_avg_away',\n",
    " 'Range_avg_away',\n",
    " 'Opposite_Height_away',\n",
    " 'Libero_Height_away',\n",
    " 'Outside_Height_away',\n",
    " 'Setter_Height_away',\n",
    " 'Middle_Height_away',\n",
    " 'Opposite_Weight_away',\n",
    " 'Libero_Weight_away',\n",
    " 'Outside_Weight_away',\n",
    " 'Setter_Weight_away',\n",
    " 'Middle_Weight_away',\n",
    " 'Opposite_Range_away',\n",
    " 'Libero_Range_away',\n",
    " 'Outside_Range_away',\n",
    " 'Setter_Range_away',\n",
    " 'Middle_Range_away',\n",
    " 'Points_away',\n",
    " 'Matches_won_away',\n",
    " 'Matches_lost_away',\n",
    " 'Sets_won_away',\n",
    " 'Sets_lost_away',\n",
    " 'Points_won_away',\n",
    " 'Points_lost_away',\n",
    " 'Last_1_Points_away',\n",
    " 'Last_1_Matches_won_away',\n",
    " 'Last_1_Matches_lost_away',\n",
    " 'Last_1_Sets_won_away',\n",
    " 'Last_1_Sets_lost_away',\n",
    " 'Last_1_Points_won_away',\n",
    " 'Last_1_Points_lost_away',\n",
    " 'Last_3_Points_away',\n",
    " 'Last_3_Matches_won_away',\n",
    " 'Last_3_Matches_lost_away',\n",
    " 'Last_3_Sets_won_away',\n",
    " 'Last_3_Sets_lost_away',\n",
    " 'Last_3_Points_won_away',\n",
    " 'Last_3_Points_lost_away',\n",
    " 'Last_5_Points_away',\n",
    " 'Last_5_Matches_won_away',\n",
    " 'Last_5_Matches_lost_away',\n",
    " 'Last_5_Sets_won_away',\n",
    " 'Last_5_Sets_lost_away',\n",
    " 'Last_5_Points_won_away',\n",
    " 'Last_5_Points_lost_away',\n",
    " 'AVG_1_Points_diff',\n",
    " 'AVG_1_Serve_number_diff',\n",
    " 'AVG_1_Serve_errors_diff',\n",
    " 'AVG_1_Serve_aces_diff',\n",
    " 'AVG_1_Serve_%_effic_diff',\n",
    " 'AVG_1_Rec_number_diff',\n",
    " 'AVG_1_Rec_errors_diff',\n",
    " 'AVG_1_Rec_%_pos_diff',\n",
    " 'AVG_1_Rec_%_perf_diff',\n",
    " 'AVG_1_Atack_number_diff',\n",
    " 'AVG_1_Atack_error_diff',\n",
    " 'AVG_1_Atack_blocked_diff',\n",
    " 'AVG_1_Atack_%_eff_diff',\n",
    " 'AVG_1_Block_points_diff',\n",
    " 'AVG_1_Points_net_diff',\n",
    " 'AVG_3_Points_diff',\n",
    " 'AVG_3_Serve_number_diff',\n",
    " 'AVG_3_Serve_errors_diff',\n",
    " 'AVG_3_Serve_aces_diff',\n",
    " 'AVG_3_Serve_%_effic_diff',\n",
    " 'AVG_3_Rec_number_diff',\n",
    " 'AVG_3_Rec_errors_diff',\n",
    " 'AVG_3_Rec_%_pos_diff',\n",
    " 'AVG_3_Rec_%_perf_diff',\n",
    " 'AVG_3_Atack_number_diff',\n",
    " 'AVG_3_Atack_error_diff',\n",
    " 'AVG_3_Atack_blocked_diff',\n",
    " 'AVG_3_Atack_%_eff_diff',\n",
    " 'AVG_3_Block_points_diff',\n",
    " 'AVG_3_Points_net_diff',\n",
    " 'AVG_5_Points_diff',\n",
    " 'AVG_5_Serve_number_diff',\n",
    " 'AVG_5_Serve_errors_diff',\n",
    " 'AVG_5_Serve_aces_diff',\n",
    " 'AVG_5_Serve_%_effic_diff',\n",
    " 'AVG_5_Rec_number_diff',\n",
    " 'AVG_5_Rec_errors_diff',\n",
    " 'AVG_5_Rec_%_pos_diff',\n",
    " 'AVG_5_Rec_%_perf_diff',\n",
    " 'AVG_5_Atack_number_diff',\n",
    " 'AVG_5_Atack_error_diff',\n",
    " 'AVG_5_Atack_blocked_diff',\n",
    " 'AVG_5_Atack_%_eff_diff',\n",
    " 'AVG_5_Block_points_diff',\n",
    " 'AVG_5_Points_net_diff',\n",
    " 'Height_avg_diff',\n",
    " 'Weight_avg_diff',\n",
    " 'Range_avg_diff',\n",
    " 'Opposite_Height_diff',\n",
    " 'Libero_Height_diff',\n",
    " 'Outside_Height_diff',\n",
    " 'Setter_Height_diff',\n",
    " 'Middle_Height_diff',\n",
    " 'Opposite_Weight_diff',\n",
    " 'Libero_Weight_diff',\n",
    " 'Outside_Weight_diff',\n",
    " 'Setter_Weight_diff',\n",
    " 'Middle_Weight_diff',\n",
    " 'Opposite_Range_diff',\n",
    " 'Libero_Range_diff',\n",
    " 'Outside_Range_diff',\n",
    " 'Setter_Range_diff',\n",
    " 'Middle_Range_diff',\n",
    " 'Points_diff',\n",
    " 'Matches_won_diff',\n",
    " 'Matches_lost_diff',\n",
    " 'Sets_won_diff',\n",
    " 'Sets_lost_diff',\n",
    " 'Points_won_diff',\n",
    " 'Points_lost_diff',\n",
    " 'Last_1_Points_diff',\n",
    " 'Last_1_Matches_won_diff',\n",
    " 'Last_1_Matches_lost_diff',\n",
    " 'Last_1_Sets_won_diff',\n",
    " 'Last_1_Sets_lost_diff',\n",
    " 'Last_1_Points_won_diff',\n",
    " 'Last_1_Points_lost_diff',\n",
    " 'Last_3_Points_diff',\n",
    " 'Last_3_Matches_won_diff',\n",
    " 'Last_3_Matches_lost_diff',\n",
    " 'Last_3_Sets_won_diff',\n",
    " 'Last_3_Sets_lost_diff',\n",
    " 'Last_3_Points_won_diff',\n",
    " 'Last_3_Points_lost_diff',\n",
    " 'Last_5_Points_diff',\n",
    " 'Last_5_Matches_won_diff',\n",
    " 'Last_5_Matches_lost_diff',\n",
    " 'Last_5_Sets_won_diff',\n",
    " 'Last_5_Sets_lost_diff',\n",
    " 'Last_5_Points_won_diff',\n",
    " 'Last_5_Points_lost_diff',\n",
    " '%_points_poss_home',\n",
    " '%_points_poss_away',\n",
    " '%_points_poss_diff']"
   ]
  },
  {
   "cell_type": "code",
   "execution_count": 11,
   "id": "7a6277dd",
   "metadata": {},
   "outputs": [],
   "source": [
    "data['%_points_poss_diff'] = data['%_points_poss_home'] - data['%_points_poss_away']"
   ]
  },
  {
   "cell_type": "code",
   "execution_count": 12,
   "id": "35490a30",
   "metadata": {},
   "outputs": [],
   "source": [
    "data.columns = new_col2"
   ]
  },
  {
   "cell_type": "code",
   "execution_count": 13,
   "id": "0212cb21",
   "metadata": {},
   "outputs": [],
   "source": [
    "# define column with the result\n",
    "df1 = data.pop('Results_home') \n",
    "data['Result']=df1 "
   ]
  },
  {
   "cell_type": "code",
   "execution_count": 14,
   "id": "5c671789",
   "metadata": {},
   "outputs": [],
   "source": [
    "in_sample = data[data['Year_home'].isin(['2020/2021', '2019/2020', '2018/2019', '2017/2018', '2016/2017', '2015/2016', '2014/2015', '2013/2014', \n",
    "        '2012/2013', '2011/2012', '2010/2011'])]"
   ]
  },
  {
   "cell_type": "code",
   "execution_count": 15,
   "id": "61a0570a",
   "metadata": {},
   "outputs": [],
   "source": [
    "labels = in_sample.pop('Result')"
   ]
  },
  {
   "cell_type": "code",
   "execution_count": 16,
   "id": "0e4b2da3",
   "metadata": {},
   "outputs": [],
   "source": [
    "in_sample = in_sample.drop(columns=['ID', 'Year_home'])"
   ]
  },
  {
   "cell_type": "code",
   "execution_count": 17,
   "id": "a48e871d",
   "metadata": {},
   "outputs": [],
   "source": [
    "# split X and y into training and testing sets\n",
    "from sklearn.model_selection import train_test_split\n",
    "X_train, X_test, y_train, y_test = train_test_split(in_sample, labels, test_size = 0.3, random_state = 30)"
   ]
  },
  {
   "cell_type": "code",
   "execution_count": 18,
   "id": "2f575675",
   "metadata": {},
   "outputs": [],
   "source": [
    "out_of_time = data[data['Year_home'] == ('2021/2022')]"
   ]
  },
  {
   "cell_type": "code",
   "execution_count": 19,
   "id": "8caba9fe",
   "metadata": {},
   "outputs": [],
   "source": [
    "y_oot = out_of_time['Result']"
   ]
  },
  {
   "cell_type": "code",
   "execution_count": 20,
   "id": "ad364877",
   "metadata": {},
   "outputs": [],
   "source": [
    "X_oot = out_of_time.drop(columns=['ID', 'Result', 'Year_home'])"
   ]
  },
  {
   "cell_type": "code",
   "execution_count": null,
   "id": "6eae4f39",
   "metadata": {},
   "outputs": [],
   "source": []
  },
  {
   "cell_type": "markdown",
   "id": "c3e4a198",
   "metadata": {},
   "source": [
    "### Read data"
   ]
  },
  {
   "cell_type": "code",
   "execution_count": 21,
   "id": "5c9af1c5",
   "metadata": {},
   "outputs": [],
   "source": [
    "bets = pd.read_csv('bets2.csv', sep = ';')"
   ]
  },
  {
   "cell_type": "code",
   "execution_count": 22,
   "id": "5d901fbb",
   "metadata": {},
   "outputs": [
    {
     "data": {
      "text/html": [
       "<div>\n",
       "<style scoped>\n",
       "    .dataframe tbody tr th:only-of-type {\n",
       "        vertical-align: middle;\n",
       "    }\n",
       "\n",
       "    .dataframe tbody tr th {\n",
       "        vertical-align: top;\n",
       "    }\n",
       "\n",
       "    .dataframe thead th {\n",
       "        text-align: right;\n",
       "    }\n",
       "</style>\n",
       "<table border=\"1\" class=\"dataframe\">\n",
       "  <thead>\n",
       "    <tr style=\"text-align: right;\">\n",
       "      <th></th>\n",
       "      <th>Unnamed: 0</th>\n",
       "      <th>Team_name_home</th>\n",
       "      <th>Round_home</th>\n",
       "      <th>Team_name_away</th>\n",
       "      <th>Home</th>\n",
       "      <th>Away</th>\n",
       "    </tr>\n",
       "  </thead>\n",
       "  <tbody>\n",
       "    <tr>\n",
       "      <th>0</th>\n",
       "      <td>1634</td>\n",
       "      <td>Suwałki</td>\n",
       "      <td>2</td>\n",
       "      <td>Lublin</td>\n",
       "      <td>1.22</td>\n",
       "      <td>4.02</td>\n",
       "    </tr>\n",
       "    <tr>\n",
       "      <th>1</th>\n",
       "      <td>1635</td>\n",
       "      <td>Gdańsk</td>\n",
       "      <td>2</td>\n",
       "      <td>Aluron</td>\n",
       "      <td>2.60</td>\n",
       "      <td>1.50</td>\n",
       "    </tr>\n",
       "    <tr>\n",
       "      <th>2</th>\n",
       "      <td>1636</td>\n",
       "      <td>GKS</td>\n",
       "      <td>2</td>\n",
       "      <td>Asseco</td>\n",
       "      <td>6.35</td>\n",
       "      <td>1.12</td>\n",
       "    </tr>\n",
       "    <tr>\n",
       "      <th>3</th>\n",
       "      <td>1637</td>\n",
       "      <td>Skra</td>\n",
       "      <td>2</td>\n",
       "      <td>Indykpol</td>\n",
       "      <td>1.20</td>\n",
       "      <td>4.60</td>\n",
       "    </tr>\n",
       "    <tr>\n",
       "      <th>4</th>\n",
       "      <td>1638</td>\n",
       "      <td>Warsza</td>\n",
       "      <td>2</td>\n",
       "      <td>Lubin</td>\n",
       "      <td>1.10</td>\n",
       "      <td>7.10</td>\n",
       "    </tr>\n",
       "    <tr>\n",
       "      <th>...</th>\n",
       "      <td>...</td>\n",
       "      <td>...</td>\n",
       "      <td>...</td>\n",
       "      <td>...</td>\n",
       "      <td>...</td>\n",
       "      <td>...</td>\n",
       "    </tr>\n",
       "    <tr>\n",
       "      <th>170</th>\n",
       "      <td>1804</td>\n",
       "      <td>Gdańsk</td>\n",
       "      <td>26</td>\n",
       "      <td>Indykpol</td>\n",
       "      <td>1.32</td>\n",
       "      <td>3.40</td>\n",
       "    </tr>\n",
       "    <tr>\n",
       "      <th>171</th>\n",
       "      <td>1805</td>\n",
       "      <td>Asseco</td>\n",
       "      <td>26</td>\n",
       "      <td>Lubin</td>\n",
       "      <td>1.07</td>\n",
       "      <td>8.50</td>\n",
       "    </tr>\n",
       "    <tr>\n",
       "      <th>172</th>\n",
       "      <td>1806</td>\n",
       "      <td>Skra</td>\n",
       "      <td>26</td>\n",
       "      <td>Czarni</td>\n",
       "      <td>1.15</td>\n",
       "      <td>5.55</td>\n",
       "    </tr>\n",
       "    <tr>\n",
       "      <th>173</th>\n",
       "      <td>1807</td>\n",
       "      <td>Warsza</td>\n",
       "      <td>26</td>\n",
       "      <td>Nysa</td>\n",
       "      <td>1.45</td>\n",
       "      <td>2.80</td>\n",
       "    </tr>\n",
       "    <tr>\n",
       "      <th>174</th>\n",
       "      <td>1808</td>\n",
       "      <td>Węgiel</td>\n",
       "      <td>26</td>\n",
       "      <td>ZAKSA</td>\n",
       "      <td>3.55</td>\n",
       "      <td>1.30</td>\n",
       "    </tr>\n",
       "  </tbody>\n",
       "</table>\n",
       "<p>175 rows × 6 columns</p>\n",
       "</div>"
      ],
      "text/plain": [
       "     Unnamed: 0 Team_name_home  Round_home Team_name_away  Home  Away\n",
       "0          1634        Suwałki           2         Lublin  1.22  4.02\n",
       "1          1635         Gdańsk           2         Aluron  2.60  1.50\n",
       "2          1636            GKS           2         Asseco  6.35  1.12\n",
       "3          1637           Skra           2       Indykpol  1.20  4.60\n",
       "4          1638         Warsza           2          Lubin  1.10  7.10\n",
       "..          ...            ...         ...            ...   ...   ...\n",
       "170        1804         Gdańsk          26       Indykpol  1.32  3.40\n",
       "171        1805         Asseco          26          Lubin  1.07  8.50\n",
       "172        1806           Skra          26         Czarni  1.15  5.55\n",
       "173        1807         Warsza          26           Nysa  1.45  2.80\n",
       "174        1808         Węgiel          26          ZAKSA  3.55  1.30\n",
       "\n",
       "[175 rows x 6 columns]"
      ]
     },
     "execution_count": 22,
     "metadata": {},
     "output_type": "execute_result"
    }
   ],
   "source": [
    "bets"
   ]
  },
  {
   "cell_type": "markdown",
   "id": "4ba729a2",
   "metadata": {},
   "source": [
    "## Generate predictions"
   ]
  },
  {
   "cell_type": "markdown",
   "id": "6b98063c",
   "metadata": {},
   "source": [
    "### XGBoost"
   ]
  },
  {
   "cell_type": "code",
   "execution_count": 23,
   "id": "8bc5a1b6",
   "metadata": {},
   "outputs": [
    {
     "name": "stdout",
     "output_type": "stream",
     "text": [
      "Training set accuracy: 0.7676\n",
      "Training set AUC: 0.8575\n",
      "Test set accuracy: 0.7295\n",
      "Test set AUC: 0.7837\n",
      "Out of time accuracy: 0.7257\n",
      "Out of time set AUC: 0.7575\n"
     ]
    }
   ],
   "source": [
    "# import XGBClassifier\n",
    "from xgboost import XGBClassifier\n",
    "from sklearn.model_selection import GridSearchCV\n",
    "from sklearn.metrics import roc_auc_score\n",
    "\n",
    "# final model\n",
    "xgb_model = XGBClassifier(colsample_bytree=0.5,learning_rate=0.01, max_depth= 5, min_child_weight=1,\n",
    " n_estimators=200, objective='binary:logistic', subsample= 0.1)\n",
    "xgb_model.fit(X_train, y_train, verbose=True)\n",
    "\n",
    "# calculate predictions\n",
    "y_train_pred = xgb_model.predict_proba(X_train)[:,1]\n",
    "y_test_pred = xgb_model.predict_proba(X_test)[:,1]\n",
    "\n",
    "# print scores on training and testing set\n",
    "print('Training set accuracy: {:.4f}'.format(xgb_model.score(X_train, y_train)))\n",
    "print('Training set AUC: {:.4f}'.format(roc_auc_score(y_train, y_train_pred)))\n",
    "print('Test set accuracy: {:.4f}'.format(xgb_model.score(X_test, y_test)))\n",
    "print('Test set AUC: {:.4f}'.format(roc_auc_score(y_test, y_test_pred)))\n",
    "\n",
    "y_oot_pred = xgb_model.predict_proba(X_oot)[:,1]\n",
    "\n",
    "print('Out of time accuracy: {:.4f}'.format(xgb_model.score(X_oot, y_oot)))\n",
    "print('Out of time set AUC: {:.4f}'.format(roc_auc_score(y_oot, y_oot_pred)))\n",
    "\n",
    "predictions_test = xgb_model.predict(X_test)\n",
    "predictions_oot_xgb = xgb_model.predict(X_oot)\n",
    "predictions_oot_xgb = pd.Series(predictions_oot_xgb)"
   ]
  },
  {
   "cell_type": "code",
   "execution_count": null,
   "id": "a6402fa5",
   "metadata": {},
   "outputs": [],
   "source": []
  },
  {
   "cell_type": "code",
   "execution_count": 24,
   "id": "60b99f36",
   "metadata": {},
   "outputs": [
    {
     "name": "stdout",
     "output_type": "stream",
     "text": [
      "In sample precision: 0.7809\n",
      "In sample set recall: 0.7835\n",
      "In sample f1 score: 0.7822\n",
      "Out of sample precision: 0.7591\n",
      "Out of sample set recall: 0.7591\n",
      "Out of sample f1 score: 0.7591\n",
      "Out of time precision: 0.7292\n",
      "Out of time set recall: 0.7609\n",
      "Out of time f1 score: 0.7447\n"
     ]
    }
   ],
   "source": [
    "from sklearn import metrics\n",
    "\n",
    "y_is_result = xgb_model.predict(X_train)\n",
    "y_oos_result = xgb_model.predict(X_test)\n",
    "y_oot_result = xgb_model.predict(X_oot)\n",
    "\n",
    "print('In sample precision: {:.4f}'.format(metrics.precision_score(y_train, y_is_result)))\n",
    "print('In sample set recall: {:.4f}'.format(metrics.recall_score(y_train, y_is_result)))\n",
    "print('In sample f1 score: {:.4f}'.format(metrics.f1_score(y_train, y_is_result)))\n",
    "\n",
    "print('Out of sample precision: {:.4f}'.format(metrics.precision_score(y_test, y_oos_result)))\n",
    "print('Out of sample set recall: {:.4f}'.format(metrics.recall_score(y_test, y_oos_result)))\n",
    "print('Out of sample f1 score: {:.4f}'.format(metrics.f1_score(y_test, y_oos_result)))\n",
    "\n",
    "\n",
    "print('Out of time precision: {:.4f}'.format(metrics.precision_score(y_oot, y_oot_result)))\n",
    "print('Out of time set recall: {:.4f}'.format(metrics.recall_score(y_oot, y_oot_result)))\n",
    "print('Out of time f1 score: {:.4f}'.format(metrics.f1_score(y_oot, y_oot_result)))"
   ]
  },
  {
   "cell_type": "code",
   "execution_count": null,
   "id": "cd5c5341",
   "metadata": {},
   "outputs": [],
   "source": []
  },
  {
   "cell_type": "markdown",
   "id": "2217973d",
   "metadata": {},
   "source": [
    "### Histograms "
   ]
  },
  {
   "cell_type": "code",
   "execution_count": 25,
   "id": "ac863673",
   "metadata": {},
   "outputs": [],
   "source": [
    "y_pred_test_all = xgb_model.predict_proba(X_test)[:, 1]\n",
    "pred = pd.DataFrame(y_pred_test_all, columns = ['win'])\n",
    "df_plot1 = pd.concat([pred, y_test], axis=1)"
   ]
  },
  {
   "cell_type": "code",
   "execution_count": 26,
   "id": "77f3aad7",
   "metadata": {
    "scrolled": false
   },
   "outputs": [
    {
     "data": {
      "image/png": "[encoded data removed]",
      "text/plain": [
       "<Figure size 720x504 with 1 Axes>"
      ]
     },
     "metadata": {
      "needs_background": "light"
     },
     "output_type": "display_data"
    }
   ],
   "source": [
    "import matplotlib.pyplot as plt\n",
    "plt.figure(figsize=(10,7))\n",
    "plt.hist(df_plot1.iloc[:, 0][df_plot1.iloc[:, 1]==0], bins=50, label='Defeat', color='darkblue', alpha=0.7, histtype='stepfilled',)\n",
    "plt.hist(df_plot1.iloc[:, 0][df_plot1.iloc[:, 1]==1], bins=50, label='Win', alpha=0.7, color='red', histtype='stepfilled')\n",
    "plt.xlabel('Probability of winning ', fontsize=25)\n",
    "plt.ylabel('Frequency', fontsize=25)\n",
    "plt.title(\"XGBoost\")\n",
    "plt.legend(fontsize=15)\n",
    "plt.tick_params(axis='both', labelsize=25, pad=5)\n",
    "plt.savefig('xgboost.png')"
   ]
  },
  {
   "cell_type": "code",
   "execution_count": null,
   "id": "00105623",
   "metadata": {},
   "outputs": [],
   "source": []
  },
  {
   "cell_type": "markdown",
   "id": "556cf8f4",
   "metadata": {},
   "source": [
    "### Plot labels"
   ]
  },
  {
   "cell_type": "code",
   "execution_count": 27,
   "id": "8dfecb16",
   "metadata": {},
   "outputs": [],
   "source": [
    "y_labels = xgb_model.predict(X_test)\n",
    "y_labels = pd.Series(y_labels)\n",
    "y_test = y_test.astype('int32')\n",
    "y_test = y_test.reset_index(drop=True)\n",
    "y_labels = y_labels.reset_index(drop=True)\n",
    "plott = [y_test, y_labels]"
   ]
  },
  {
   "cell_type": "code",
   "execution_count": 28,
   "id": "8ff2b795",
   "metadata": {
    "scrolled": true
   },
   "outputs": [
    {
     "data": {
      "image/png": "[encoded data removed]",
      "text/plain": [
       "<Figure size 432x288 with 1 Axes>"
      ]
     },
     "metadata": {
      "needs_background": "light"
     },
     "output_type": "display_data"
    }
   ],
   "source": [
    "#Plot Real vs Predict\n",
    "colors = ['red', 'darkblue']\n",
    "labels = ['Real', 'Predicted']\n",
    "\n",
    "plt.hist(plott, label=labels, color=colors, histtype='bar')\n",
    "plt.title(\"Real vs Predicted\")\n",
    "plt.legend(loc='best')\n",
    "plt.show()"
   ]
  },
  {
   "cell_type": "code",
   "execution_count": null,
   "id": "5393183f",
   "metadata": {},
   "outputs": [],
   "source": []
  },
  {
   "cell_type": "code",
   "execution_count": 29,
   "id": "36941e64",
   "metadata": {},
   "outputs": [],
   "source": [
    "# predicted labels vs real\n",
    "base = pd.DataFrame()\n",
    "base[\"actual\"] = y_test\n",
    "base[\"predictions\"] = y_labels"
   ]
  },
  {
   "cell_type": "code",
   "execution_count": 30,
   "id": "3ee06038",
   "metadata": {
    "scrolled": true
   },
   "outputs": [
    {
     "data": {
      "text/html": [
       "<div>\n",
       "<style scoped>\n",
       "    .dataframe tbody tr th:only-of-type {\n",
       "        vertical-align: middle;\n",
       "    }\n",
       "\n",
       "    .dataframe tbody tr th {\n",
       "        vertical-align: top;\n",
       "    }\n",
       "\n",
       "    .dataframe thead th {\n",
       "        text-align: right;\n",
       "    }\n",
       "</style>\n",
       "<table border=\"1\" class=\"dataframe\">\n",
       "  <thead>\n",
       "    <tr style=\"text-align: right;\">\n",
       "      <th></th>\n",
       "      <th>actual</th>\n",
       "      <th>predictions</th>\n",
       "    </tr>\n",
       "  </thead>\n",
       "  <tbody>\n",
       "    <tr>\n",
       "      <th>0</th>\n",
       "      <td>1</td>\n",
       "      <td>0</td>\n",
       "    </tr>\n",
       "    <tr>\n",
       "      <th>1</th>\n",
       "      <td>0</td>\n",
       "      <td>1</td>\n",
       "    </tr>\n",
       "    <tr>\n",
       "      <th>2</th>\n",
       "      <td>0</td>\n",
       "      <td>1</td>\n",
       "    </tr>\n",
       "    <tr>\n",
       "      <th>3</th>\n",
       "      <td>1</td>\n",
       "      <td>1</td>\n",
       "    </tr>\n",
       "    <tr>\n",
       "      <th>4</th>\n",
       "      <td>0</td>\n",
       "      <td>1</td>\n",
       "    </tr>\n",
       "    <tr>\n",
       "      <th>...</th>\n",
       "      <td>...</td>\n",
       "      <td>...</td>\n",
       "    </tr>\n",
       "    <tr>\n",
       "      <th>483</th>\n",
       "      <td>1</td>\n",
       "      <td>1</td>\n",
       "    </tr>\n",
       "    <tr>\n",
       "      <th>484</th>\n",
       "      <td>1</td>\n",
       "      <td>0</td>\n",
       "    </tr>\n",
       "    <tr>\n",
       "      <th>485</th>\n",
       "      <td>1</td>\n",
       "      <td>1</td>\n",
       "    </tr>\n",
       "    <tr>\n",
       "      <th>486</th>\n",
       "      <td>0</td>\n",
       "      <td>0</td>\n",
       "    </tr>\n",
       "    <tr>\n",
       "      <th>487</th>\n",
       "      <td>1</td>\n",
       "      <td>1</td>\n",
       "    </tr>\n",
       "  </tbody>\n",
       "</table>\n",
       "<p>488 rows × 2 columns</p>\n",
       "</div>"
      ],
      "text/plain": [
       "     actual  predictions\n",
       "0         1            0\n",
       "1         0            1\n",
       "2         0            1\n",
       "3         1            1\n",
       "4         0            1\n",
       "..      ...          ...\n",
       "483       1            1\n",
       "484       1            0\n",
       "485       1            1\n",
       "486       0            0\n",
       "487       1            1\n",
       "\n",
       "[488 rows x 2 columns]"
      ]
     },
     "execution_count": 30,
     "metadata": {},
     "output_type": "execute_result"
    }
   ],
   "source": [
    "base"
   ]
  },
  {
   "cell_type": "code",
   "execution_count": 31,
   "id": "65fb776a",
   "metadata": {},
   "outputs": [
    {
     "data": {
      "text/plain": [
       "actual\n",
       "0    214\n",
       "1    274\n",
       "dtype: int64"
      ]
     },
     "execution_count": 31,
     "metadata": {},
     "output_type": "execute_result"
    }
   ],
   "source": [
    "base.groupby(['actual']).size()"
   ]
  },
  {
   "cell_type": "code",
   "execution_count": 32,
   "id": "22646b41",
   "metadata": {
    "scrolled": false
   },
   "outputs": [
    {
     "data": {
      "text/plain": [
       "predictions\n",
       "0    214\n",
       "1    274\n",
       "dtype: int64"
      ]
     },
     "execution_count": 32,
     "metadata": {},
     "output_type": "execute_result"
    }
   ],
   "source": [
    "base.groupby(['predictions']).size()"
   ]
  },
  {
   "cell_type": "code",
   "execution_count": null,
   "id": "8490d096",
   "metadata": {},
   "outputs": [],
   "source": []
  },
  {
   "cell_type": "markdown",
   "id": "f6ade06e",
   "metadata": {},
   "source": [
    "## Random forest"
   ]
  },
  {
   "cell_type": "code",
   "execution_count": 44,
   "id": "edbc7b3e",
   "metadata": {
    "scrolled": true
   },
   "outputs": [
    {
     "name": "stderr",
     "output_type": "stream",
     "text": [
      "C:\\Users\\Rodzinka\\anaconda3\\lib\\site-packages\\sklearn\\ensemble\\_forest.py:424: FutureWarning: `max_features='auto'` has been deprecated in 1.1 and will be removed in 1.3. To keep the past behaviour, explicitly set `max_features='sqrt'` or remove this parameter as it is also the default value for RandomForestClassifiers and ExtraTreesClassifiers.\n",
      "  warn(\n"
     ]
    },
    {
     "name": "stdout",
     "output_type": "stream",
     "text": [
      "Training set accuracy: 0.9639\n",
      "Test set accuracy: 0.7234\n",
      "Training set AUC: 0.9962\n",
      "Test set AUC: 0.7696\n",
      "Out of time accuracy: 0.7029\n",
      "Out of time set AUC: 0.7745\n"
     ]
    }
   ],
   "source": [
    "# import RandomForestClassifier\n",
    "from sklearn.ensemble import RandomForestClassifier\n",
    "from sklearn.metrics import accuracy_score\n",
    "from sklearn.metrics import roc_auc_score\n",
    "from sklearn.model_selection import RandomizedSearchCV\n",
    "\n",
    "# define RandomForestClassifier\n",
    "rf = RandomForestClassifier()\n",
    "\n",
    "# final model\n",
    "rnd_forest = RandomForestClassifier(n_estimators = 300, min_samples_split = 6, min_samples_leaf= 4, max_features = 'auto', max_depth= 10, bootstrap=True) \n",
    "rnd_forest.fit(X_train, y_train) \n",
    "\n",
    "# calculate predictions\n",
    "y_train_pred = rnd_forest.predict_proba(X_train)[:,1]\n",
    "y_test_pred = rnd_forest.predict_proba(X_test)[:,1]\n",
    "\n",
    "# print the scores on training and testing set\n",
    "print('Training set accuracy: {:.4f}'.format(rnd_forest.score(X_train, y_train)))\n",
    "print('Test set accuracy: {:.4f}'.format(rnd_forest.score(X_test, y_test)))\n",
    "print('Training set AUC: {:.4f}'.format(roc_auc_score(y_train, y_train_pred)))\n",
    "print('Test set AUC: {:.4f}'.format(roc_auc_score(y_test, y_test_pred)))\n",
    "\n",
    "y_oot_pred = rnd_forest.predict_proba(X_oot)[:,1]\n",
    "\n",
    "print('Out of time accuracy: {:.4f}'.format(rnd_forest.score(X_oot, y_oot)))\n",
    "print('Out of time set AUC: {:.4f}'.format(roc_auc_score(y_oot, y_oot_pred)))\n",
    "\n",
    "predictions_test = rnd_forest.predict(X_test)\n",
    "predictions_oot_rf = rnd_forest.predict(X_oot)\n",
    "predictions_oot_rf = pd.Series(predictions_oot_rf)"
   ]
  },
  {
   "cell_type": "code",
   "execution_count": 45,
   "id": "5e64996c",
   "metadata": {},
   "outputs": [],
   "source": [
    "bets = pd.read_csv('bets2.csv', sep = ';')"
   ]
  },
  {
   "cell_type": "code",
   "execution_count": null,
   "id": "a56b450f",
   "metadata": {},
   "outputs": [],
   "source": []
  },
  {
   "cell_type": "code",
   "execution_count": 46,
   "id": "9e630427",
   "metadata": {},
   "outputs": [
    {
     "name": "stdout",
     "output_type": "stream",
     "text": [
      "In sample precision: 0.9593\n",
      "In sample set recall: 0.9736\n",
      "In sample f1 score: 0.9664\n",
      "Out of sample precision: 0.7565\n",
      "Out of sample set recall: 0.7482\n",
      "Out of sample f1 score: 0.7523\n",
      "Out of time precision: 0.7083\n",
      "Out of time set recall: 0.7391\n",
      "Out of time f1 score: 0.7234\n"
     ]
    }
   ],
   "source": [
    "from sklearn import metrics\n",
    "\n",
    "y_is_result = rnd_forest.predict(X_train)\n",
    "y_oos_result = rnd_forest.predict(X_test)\n",
    "y_oot_result = rnd_forest.predict(X_oot)\n",
    "\n",
    "print('In sample precision: {:.4f}'.format(metrics.precision_score(y_train, y_is_result)))\n",
    "print('In sample set recall: {:.4f}'.format(metrics.recall_score(y_train, y_is_result)))\n",
    "print('In sample f1 score: {:.4f}'.format(metrics.f1_score(y_train, y_is_result)))\n",
    "\n",
    "print('Out of sample precision: {:.4f}'.format(metrics.precision_score(y_test, y_oos_result)))\n",
    "print('Out of sample set recall: {:.4f}'.format(metrics.recall_score(y_test, y_oos_result)))\n",
    "print('Out of sample f1 score: {:.4f}'.format(metrics.f1_score(y_test, y_oos_result)))\n",
    "\n",
    "\n",
    "print('Out of time precision: {:.4f}'.format(metrics.precision_score(y_oot, y_oot_result)))\n",
    "print('Out of time set recall: {:.4f}'.format(metrics.recall_score(y_oot, y_oot_result)))\n",
    "print('Out of time f1 score: {:.4f}'.format(metrics.f1_score(y_oot, y_oot_result)))"
   ]
  },
  {
   "cell_type": "code",
   "execution_count": null,
   "id": "b8164d11",
   "metadata": {},
   "outputs": [],
   "source": []
  },
  {
   "cell_type": "markdown",
   "id": "66929f37",
   "metadata": {},
   "source": [
    "### Histograms"
   ]
  },
  {
   "cell_type": "code",
   "execution_count": 47,
   "id": "bf11ec2d",
   "metadata": {},
   "outputs": [],
   "source": [
    "y_pred_test_all = rnd_forest.predict_proba(X_test)[:, 1]\n",
    "pred = pd.DataFrame(y_pred_test_all, columns = ['win'])\n",
    "df_plot1 = pd.concat([pred, y_test], axis=1)"
   ]
  },
  {
   "cell_type": "code",
   "execution_count": 48,
   "id": "51dba0a8",
   "metadata": {},
   "outputs": [
    {
     "data": {
      "image/png": "[encoded data removed]",
      "text/plain": [
       "<Figure size 720x504 with 1 Axes>"
      ]
     },
     "metadata": {
      "needs_background": "light"
     },
     "output_type": "display_data"
    }
   ],
   "source": [
    "import matplotlib.pyplot as plt\n",
    "plt.figure(figsize=(10,7))\n",
    "plt.hist(df_plot1.iloc[:, 0][df_plot1.iloc[:, 1]==0], bins=50, label='Defeat', color='darkblue', alpha=0.7, histtype='stepfilled',)\n",
    "plt.hist(df_plot1.iloc[:, 0][df_plot1.iloc[:, 1]==1], bins=50, label='Win', alpha=0.7, color='red', histtype='stepfilled')\n",
    "plt.xlabel('Probability of winning ', fontsize=25)\n",
    "plt.ylabel('Frequency', fontsize=25)\n",
    "plt.title(\"Random forest\")\n",
    "plt.legend(fontsize=15)\n",
    "plt.tick_params(axis='both', labelsize=25, pad=5)\n",
    "plt.savefig('Random_forest.png')"
   ]
  },
  {
   "cell_type": "markdown",
   "id": "687dac11",
   "metadata": {},
   "source": [
    "### Plot labels"
   ]
  },
  {
   "cell_type": "code",
   "execution_count": 35,
   "id": "f6ecacf9",
   "metadata": {},
   "outputs": [],
   "source": [
    "y_labels = rnd_forest.predict(X_test)\n",
    "plott = [y_test, y_labels]"
   ]
  },
  {
   "cell_type": "code",
   "execution_count": 36,
   "id": "a560b7d8",
   "metadata": {},
   "outputs": [
    {
     "data": {
      "image/png": "[encoded data removed]",
      "text/plain": [
       "<Figure size 432x288 with 1 Axes>"
      ]
     },
     "metadata": {
      "needs_background": "light"
     },
     "output_type": "display_data"
    }
   ],
   "source": [
    "#Plot Real vs Predict\n",
    "colors = ['red', 'darkblue']\n",
    "labels = ['Real', 'Predicted']\n",
    "\n",
    "plt.hist(plott, label=labels, color=colors, histtype='bar')\n",
    "plt.title(\"Real vs Predicted\")\n",
    "plt.legend(loc='best')\n",
    "plt.show()"
   ]
  },
  {
   "cell_type": "code",
   "execution_count": null,
   "id": "53ed4c51",
   "metadata": {},
   "outputs": [],
   "source": []
  },
  {
   "cell_type": "markdown",
   "id": "1f65515c",
   "metadata": {},
   "source": [
    "## Decision trees"
   ]
  },
  {
   "cell_type": "code",
   "execution_count": 37,
   "id": "e15e15d0",
   "metadata": {},
   "outputs": [
    {
     "name": "stdout",
     "output_type": "stream",
     "text": [
      "Training set accuracy: 0.7157\n",
      "Test set accuracy: 0.7172\n",
      "Training set AUC: 0.7886\n",
      "Test set AUC: 0.7545\n",
      "Out of time accuracy: 0.7486\n",
      "Out of time set AUC: 0.7801\n"
     ]
    }
   ],
   "source": [
    "# import DecisionTreeClassifier\n",
    "from sklearn.tree import DecisionTreeClassifier\n",
    "from sklearn.model_selection import GridSearchCV\n",
    "from sklearn.metrics import roc_auc_score\n",
    "import sklearn\n",
    "from sklearn import preprocessing\n",
    "from tensorflow.keras.utils import to_categorical\n",
    "\n",
    "# best model used for testing data\n",
    "dt_final = DecisionTreeClassifier(criterion='entropy', max_depth=4, min_samples_leaf=100)\n",
    "\n",
    "# fit the final model\n",
    "dt_final.fit(X_train, y_train)\n",
    "\n",
    "# calculate predictions\n",
    "y_train_pred = dt_final.predict_proba(X_train)[:,1]\n",
    "y_test_pred = dt_final.predict_proba(X_test)[:,1]\n",
    "\n",
    "# print the scores on training and testing set\n",
    "print('Training set accuracy: {:.4f}'.format(dt_final.score(X_train, y_train)))\n",
    "print('Test set accuracy: {:.4f}'.format(dt_final.score(X_test, y_test)))\n",
    "print('Training set AUC: {:.4f}'.format(roc_auc_score(y_train, y_train_pred)))\n",
    "print('Test set AUC: {:.4f}'.format(roc_auc_score(y_test, y_test_pred)))\n",
    "y_oot_pred = dt_final.predict_proba(X_oot)[:,1]\n",
    "print('Out of time accuracy: {:.4f}'.format(dt_final.score(X_oot, y_oot)))\n",
    "print('Out of time set AUC: {:.4f}'.format(roc_auc_score(y_oot, y_oot_pred)))\n",
    "\n",
    "predictions_test = dt_final.predict(X_test)\n",
    "predictions_oot_dt = dt_final.predict(X_oot)\n",
    "predictions_oot_dt = pd.Series(predictions_oot_dt)"
   ]
  },
  {
   "cell_type": "code",
   "execution_count": null,
   "id": "a1aca800",
   "metadata": {},
   "outputs": [],
   "source": []
  },
  {
   "cell_type": "code",
   "execution_count": 38,
   "id": "686de5a0",
   "metadata": {},
   "outputs": [
    {
     "name": "stdout",
     "output_type": "stream",
     "text": [
      "In sample precision: 0.7382\n",
      "In sample set recall: 0.7223\n",
      "In sample f1 score: 0.7302\n",
      "Out of sample precision: 0.7595\n",
      "Out of sample set recall: 0.7263\n",
      "Out of sample f1 score: 0.7425\n",
      "Out of time precision: 0.7500\n",
      "Out of time set recall: 0.7826\n",
      "Out of time f1 score: 0.7660\n"
     ]
    }
   ],
   "source": [
    "from sklearn import metrics\n",
    "\n",
    "y_is_result = dt_final.predict(X_train)\n",
    "y_oos_result = dt_final.predict(X_test)\n",
    "y_oot_result = dt_final.predict(X_oot)\n",
    "\n",
    "print('In sample precision: {:.4f}'.format(metrics.precision_score(y_train, y_is_result)))\n",
    "print('In sample set recall: {:.4f}'.format(metrics.recall_score(y_train, y_is_result)))\n",
    "print('In sample f1 score: {:.4f}'.format(metrics.f1_score(y_train, y_is_result)))\n",
    "\n",
    "print('Out of sample precision: {:.4f}'.format(metrics.precision_score(y_test, y_oos_result)))\n",
    "print('Out of sample set recall: {:.4f}'.format(metrics.recall_score(y_test, y_oos_result)))\n",
    "print('Out of sample f1 score: {:.4f}'.format(metrics.f1_score(y_test, y_oos_result)))\n",
    "\n",
    "\n",
    "print('Out of time precision: {:.4f}'.format(metrics.precision_score(y_oot, y_oot_result)))\n",
    "print('Out of time set recall: {:.4f}'.format(metrics.recall_score(y_oot, y_oot_result)))\n",
    "print('Out of time f1 score: {:.4f}'.format(metrics.f1_score(y_oot, y_oot_result)))"
   ]
  },
  {
   "cell_type": "code",
   "execution_count": null,
   "id": "fe2b3e5e",
   "metadata": {},
   "outputs": [],
   "source": []
  },
  {
   "cell_type": "code",
   "execution_count": 39,
   "id": "55a6b5ed",
   "metadata": {},
   "outputs": [],
   "source": [
    "bets = pd.read_csv('bets2.csv', sep = ';')"
   ]
  },
  {
   "cell_type": "markdown",
   "id": "5da717c6",
   "metadata": {},
   "source": [
    "## Histograms"
   ]
  },
  {
   "cell_type": "code",
   "execution_count": 40,
   "id": "eb6b6d42",
   "metadata": {},
   "outputs": [],
   "source": [
    "y_pred_test_all = dt_final.predict_proba(X_test)[:, 1]\n",
    "pred = pd.DataFrame(y_pred_test_all, columns = ['win'])\n",
    "df_plot1 = pd.concat([pred, y_test], axis=1)"
   ]
  },
  {
   "cell_type": "code",
   "execution_count": 41,
   "id": "8ad7564b",
   "metadata": {},
   "outputs": [
    {
     "data": {
      "image/png": "[encoded data removed]",
      "text/plain": [
       "<Figure size 720x504 with 1 Axes>"
      ]
     },
     "metadata": {
      "needs_background": "light"
     },
     "output_type": "display_data"
    }
   ],
   "source": [
    "import matplotlib.pyplot as plt\n",
    "plt.figure(figsize=(10,7))\n",
    "plt.hist(df_plot1.iloc[:, 0][df_plot1.iloc[:, 1]==0], bins=50, label='Defeat', color='darkblue', alpha=0.7, histtype='stepfilled',)\n",
    "plt.hist(df_plot1.iloc[:, 0][df_plot1.iloc[:, 1]==1], bins=50, label='Win', alpha=0.7, color='red', histtype='stepfilled')\n",
    "plt.xlabel('Probability of winning ', fontsize=25)\n",
    "plt.ylabel('Frequency', fontsize=25)\n",
    "plt.title(\"Decision trees\")\n",
    "plt.legend(fontsize=15)\n",
    "plt.tick_params(axis='both', labelsize=25, pad=5)\n",
    "plt.savefig('Decision_trees.png')"
   ]
  },
  {
   "cell_type": "code",
   "execution_count": 42,
   "id": "1bae6d91",
   "metadata": {},
   "outputs": [],
   "source": [
    "y_labels = dt_final.predict(X_test)\n",
    "plott = [y_test, y_labels]"
   ]
  },
  {
   "cell_type": "code",
   "execution_count": 43,
   "id": "2853283b",
   "metadata": {
    "scrolled": true
   },
   "outputs": [
    {
     "data": {
      "image/png": "[encoded data removed]",
      "text/plain": [
       "<Figure size 432x288 with 1 Axes>"
      ]
     },
     "metadata": {
      "needs_background": "light"
     },
     "output_type": "display_data"
    }
   ],
   "source": [
    "#Plot Real vs Predict\n",
    "colors = ['red', 'darkblue']\n",
    "labels = ['Real', 'Predicted']\n",
    "\n",
    "plt.hist(plott, label=labels, color=colors, histtype='bar')\n",
    "plt.title(\"Real vs Predicted\")\n",
    "plt.legend(loc='best')\n",
    "plt.show()"
   ]
  },
  {
   "cell_type": "markdown",
   "id": "98baddec",
   "metadata": {},
   "source": [
    "## Adaboost"
   ]
  },
  {
   "cell_type": "code",
   "execution_count": 49,
   "id": "d72bd2e7",
   "metadata": {
    "scrolled": true
   },
   "outputs": [
    {
     "name": "stdout",
     "output_type": "stream",
     "text": [
      "Fitting 5 folds for each of 72 candidates, totalling 360 fits\n",
      "In sample set score: 0.718\n",
      "Out of sample set score: 0.711\n",
      "In sample set auc: 0.756\n",
      "Out of sample set auc: 0.744\n",
      "Out of time accuracy: 0.7486\n",
      "Out of time set AUC: 0.7672\n"
     ]
    }
   ],
   "source": [
    "from sklearn.ensemble import AdaBoostClassifier\n",
    "from sklearn.model_selection import GridSearchCV, cross_validate, validation_curve\n",
    "from sklearn.metrics import roc_auc_score\n",
    "\n",
    "# create GBM model\n",
    "ab_clf = AdaBoostClassifier(random_state=30)\n",
    "\n",
    "parameters = {\n",
    "    'n_estimators': [2, 3, 4, 5, 6, 7, 8, 9, 10, 11, 12, 20],\n",
    "    'learning_rate': [0.1, 0.5, 1],\n",
    "    'algorithm': ['SAMME', 'SAMME.R']\n",
    "}\n",
    "clf = GridSearchCV(ab_clf, parameters, cv=5, verbose=1, n_jobs=1)\n",
    "clf.fit(X_train, y_train)\n",
    "\n",
    "y_pred_train = clf.predict_proba(X_train)[:,1]\n",
    "y_pred_test = clf.predict_proba(X_test)[:,1]\n",
    "\n",
    "from sklearn.metrics import confusion_matrix, accuracy_score, roc_curve, auc\n",
    "\n",
    "#train data ROC\n",
    "fpr_tr, tpr_tr, threshold = roc_curve(y_train, y_pred_train)\n",
    "roc_auc_train = auc(fpr_tr, tpr_tr)\n",
    "\n",
    "#test data ROC\n",
    "fpr_ts, tpr_ts, threshold = roc_curve(y_test, y_pred_test)\n",
    "roc_auc_test = auc(fpr_ts, tpr_ts)\n",
    "\n",
    "# print scores on training and test set\n",
    "print('In sample set score: {:.3f}'.format(clf.score(X_train, y_train)))\n",
    "print('Out of sample set score: {:.3f}'.format(clf.score(X_test, y_test)))\n",
    "print('In sample set auc: {:.3f}'.format(roc_auc_train))\n",
    "print('Out of sample set auc: {:.3f}'.format(roc_auc_test))\n",
    "\n",
    "y_oot_pred = clf.predict_proba(X_oot)[:,1]\n",
    "\n",
    "print('Out of time accuracy: {:.4f}'.format(clf.score(X_oot, y_oot)))\n",
    "print('Out of time set AUC: {:.4f}'.format(roc_auc_score(y_oot, y_oot_pred)))\n",
    "\n",
    "predictions_test = clf.predict(X_test)\n",
    "predictions_oot_ada = clf.predict(X_oot)\n",
    "predictions_oot_ada = pd.Series(predictions_oot_ada)"
   ]
  },
  {
   "cell_type": "code",
   "execution_count": 50,
   "id": "0bea4dda",
   "metadata": {},
   "outputs": [
    {
     "data": {
      "text/html": [
       "<style>#sk-container-id-1 {color: black;background-color: white;}#sk-container-id-1 pre{padding: 0;}#sk-container-id-1 div.sk-toggleable {background-color: white;}#sk-container-id-1 label.sk-toggleable__label {cursor: pointer;display: block;width: 100%;margin-bottom: 0;padding: 0.3em;box-sizing: border-box;text-align: center;}#sk-container-id-1 label.sk-toggleable__label-arrow:before {content: \"▸\";float: left;margin-right: 0.25em;color: #696969;}#sk-container-id-1 label.sk-toggleable__label-arrow:hover:before {color: black;}#sk-container-id-1 div.sk-estimator:hover label.sk-toggleable__label-arrow:before {color: black;}#sk-container-id-1 div.sk-toggleable__content {max-height: 0;max-width: 0;overflow: hidden;text-align: left;background-color: #f0f8ff;}#sk-container-id-1 div.sk-toggleable__content pre {margin: 0.2em;color: black;border-radius: 0.25em;background-color: #f0f8ff;}#sk-container-id-1 input.sk-toggleable__control:checked~div.sk-toggleable__content {max-height: 200px;max-width: 100%;overflow: auto;}#sk-container-id-1 input.sk-toggleable__control:checked~label.sk-toggleable__label-arrow:before {content: \"▾\";}#sk-container-id-1 div.sk-estimator input.sk-toggleable__control:checked~label.sk-toggleable__label {background-color: #d4ebff;}#sk-container-id-1 div.sk-label input.sk-toggleable__control:checked~label.sk-toggleable__label {background-color: #d4ebff;}#sk-container-id-1 input.sk-hidden--visually {border: 0;clip: rect(1px 1px 1px 1px);clip: rect(1px, 1px, 1px, 1px);height: 1px;margin: -1px;overflow: hidden;padding: 0;position: absolute;width: 1px;}#sk-container-id-1 div.sk-estimator {font-family: monospace;background-color: #f0f8ff;border: 1px dotted black;border-radius: 0.25em;box-sizing: border-box;margin-bottom: 0.5em;}#sk-container-id-1 div.sk-estimator:hover {background-color: #d4ebff;}#sk-container-id-1 div.sk-parallel-item::after {content: \"\";width: 100%;border-bottom: 1px solid gray;flex-grow: 1;}#sk-container-id-1 div.sk-label:hover label.sk-toggleable__label {background-color: #d4ebff;}#sk-container-id-1 div.sk-serial::before {content: \"\";position: absolute;border-left: 1px solid gray;box-sizing: border-box;top: 0;bottom: 0;left: 50%;z-index: 0;}#sk-container-id-1 div.sk-serial {display: flex;flex-direction: column;align-items: center;background-color: white;padding-right: 0.2em;padding-left: 0.2em;position: relative;}#sk-container-id-1 div.sk-item {position: relative;z-index: 1;}#sk-container-id-1 div.sk-parallel {display: flex;align-items: stretch;justify-content: center;background-color: white;position: relative;}#sk-container-id-1 div.sk-item::before, #sk-container-id-1 div.sk-parallel-item::before {content: \"\";position: absolute;border-left: 1px solid gray;box-sizing: border-box;top: 0;bottom: 0;left: 50%;z-index: -1;}#sk-container-id-1 div.sk-parallel-item {display: flex;flex-direction: column;z-index: 1;position: relative;background-color: white;}#sk-container-id-1 div.sk-parallel-item:first-child::after {align-self: flex-end;width: 50%;}#sk-container-id-1 div.sk-parallel-item:last-child::after {align-self: flex-start;width: 50%;}#sk-container-id-1 div.sk-parallel-item:only-child::after {width: 0;}#sk-container-id-1 div.sk-dashed-wrapped {border: 1px dashed gray;margin: 0 0.4em 0.5em 0.4em;box-sizing: border-box;padding-bottom: 0.4em;background-color: white;}#sk-container-id-1 div.sk-label label {font-family: monospace;font-weight: bold;display: inline-block;line-height: 1.2em;}#sk-container-id-1 div.sk-label-container {text-align: center;}#sk-container-id-1 div.sk-container {/* jupyter's `normalize.less` sets `[hidden] { display: none; }` but bootstrap.min.css set `[hidden] { display: none !important; }` so we also need the `!important` here to be able to override the default hidden behavior on the sphinx rendered scikit-learn.org. See: https://github.com/scikit-learn/scikit-learn/issues/21755 */display: inline-block !important;position: relative;}#sk-container-id-1 div.sk-text-repr-fallback {display: none;}</style><div id=\"sk-container-id-1\" class=\"sk-top-container\"><div class=\"sk-text-repr-fallback\"><pre>AdaBoostClassifier(algorithm=&#x27;SAMME&#x27;, learning_rate=0.1, n_estimators=6,\n",
       "                   random_state=30)</pre><b>In a Jupyter environment, please rerun this cell to show the HTML representation or trust the notebook. <br />On GitHub, the HTML representation is unable to render, please try loading this page with nbviewer.org.</b></div><div class=\"sk-container\" hidden><div class=\"sk-item\"><div class=\"sk-estimator sk-toggleable\"><input class=\"sk-toggleable__control sk-hidden--visually\" id=\"sk-estimator-id-1\" type=\"checkbox\" checked><label for=\"sk-estimator-id-1\" class=\"sk-toggleable__label sk-toggleable__label-arrow\">AdaBoostClassifier</label><div class=\"sk-toggleable__content\"><pre>AdaBoostClassifier(algorithm=&#x27;SAMME&#x27;, learning_rate=0.1, n_estimators=6,\n",
       "                   random_state=30)</pre></div></div></div></div></div>"
      ],
      "text/plain": [
       "AdaBoostClassifier(algorithm='SAMME', learning_rate=0.1, n_estimators=6,\n",
       "                   random_state=30)"
      ]
     },
     "execution_count": 50,
     "metadata": {},
     "output_type": "execute_result"
    }
   ],
   "source": [
    "clf.best_estimator_"
   ]
  },
  {
   "cell_type": "code",
   "execution_count": null,
   "id": "847b2a2b",
   "metadata": {},
   "outputs": [],
   "source": []
  },
  {
   "cell_type": "code",
   "execution_count": 51,
   "id": "30000ef0",
   "metadata": {},
   "outputs": [],
   "source": [
    "bets = pd.read_csv('bets2.csv', sep = ';')"
   ]
  },
  {
   "cell_type": "code",
   "execution_count": 52,
   "id": "78c6b138",
   "metadata": {},
   "outputs": [
    {
     "name": "stdout",
     "output_type": "stream",
     "text": [
      "In sample precision: 0.7363\n",
      "In sample set recall: 0.7339\n",
      "In sample f1 score: 0.7351\n",
      "Out of sample precision: 0.7548\n",
      "Out of sample set recall: 0.7190\n",
      "Out of sample f1 score: 0.7364\n",
      "Out of time precision: 0.7500\n",
      "Out of time set recall: 0.7826\n",
      "Out of time f1 score: 0.7660\n"
     ]
    }
   ],
   "source": [
    "from sklearn import metrics\n",
    "\n",
    "y_is_result = clf.predict(X_train)\n",
    "y_oos_result = clf.predict(X_test)\n",
    "y_oot_result = clf.predict(X_oot)\n",
    "\n",
    "print('In sample precision: {:.4f}'.format(metrics.precision_score(y_train, y_is_result)))\n",
    "print('In sample set recall: {:.4f}'.format(metrics.recall_score(y_train, y_is_result)))\n",
    "print('In sample f1 score: {:.4f}'.format(metrics.f1_score(y_train, y_is_result)))\n",
    "\n",
    "print('Out of sample precision: {:.4f}'.format(metrics.precision_score(y_test, y_oos_result)))\n",
    "print('Out of sample set recall: {:.4f}'.format(metrics.recall_score(y_test, y_oos_result)))\n",
    "print('Out of sample f1 score: {:.4f}'.format(metrics.f1_score(y_test, y_oos_result)))\n",
    "\n",
    "\n",
    "print('Out of time precision: {:.4f}'.format(metrics.precision_score(y_oot, y_oot_result)))\n",
    "print('Out of time set recall: {:.4f}'.format(metrics.recall_score(y_oot, y_oot_result)))\n",
    "print('Out of time f1 score: {:.4f}'.format(metrics.f1_score(y_oot, y_oot_result)))"
   ]
  },
  {
   "cell_type": "code",
   "execution_count": null,
   "id": "0a7d0b7a",
   "metadata": {},
   "outputs": [],
   "source": []
  },
  {
   "cell_type": "code",
   "execution_count": 48,
   "id": "bd151891",
   "metadata": {},
   "outputs": [
    {
     "name": "stdout",
     "output_type": "stream",
     "text": [
      "Confusion matrix, without normalization\n",
      "[[59 24]\n",
      " [20 72]]\n",
      "Normalized confusion matrix\n",
      "[[0.71 0.29]\n",
      " [0.22 0.78]]\n"
     ]
    },
    {
     "data": {
      "image/png": "[encoded data removed]",
      "text/plain": [
       "<Figure size 432x288 with 2 Axes>"
      ]
     },
     "metadata": {
      "needs_background": "light"
     },
     "output_type": "display_data"
    },
    {
     "data": {
      "image/png": "[encoded data removed]",
      "text/plain": [
       "<Figure size 432x288 with 2 Axes>"
      ]
     },
     "metadata": {
      "needs_background": "light"
     },
     "output_type": "display_data"
    }
   ],
   "source": [
    "import numpy as np\n",
    "import matplotlib.pyplot as plt\n",
    "\n",
    "from sklearn.metrics import confusion_matrix\n",
    "\n",
    "\n",
    "def plot_confusion_matrix(cm, title='Confusion matrix', cmap=plt.cm.Blues):\n",
    "    plt.imshow(cm, interpolation='nearest', cmap=cmap)\n",
    "    plt.title(title)\n",
    "    plt.colorbar()\n",
    "    tick_marks = np.arange(2)\n",
    "    plt.xticks(tick_marks, ['win', 'defeat'], rotation=45)\n",
    "    plt.yticks(tick_marks, ['win', 'defeat'])\n",
    "    plt.tight_layout()\n",
    "    plt.ylabel('True label')\n",
    "    plt.xlabel('Predicted label')\n",
    "\n",
    "\n",
    "# Compute confusion matrix\n",
    "cm = confusion_matrix(y_oot, y_oot_result)\n",
    "np.set_printoptions(precision=2)\n",
    "print('Confusion matrix, without normalization')\n",
    "print(cm)\n",
    "plt.figure()\n",
    "plot_confusion_matrix(cm)\n",
    "\n",
    "# Normalize the confusion matrix by row (i.e by the number of samples\n",
    "# in each class)\n",
    "cm_normalized = cm.astype('float') / cm.sum(axis=1)[:, np.newaxis]\n",
    "print('Normalized confusion matrix')\n",
    "print(cm_normalized)\n",
    "plt.figure()\n",
    "plot_confusion_matrix(cm_normalized, title='Normalized confusion matrix')\n",
    "\n",
    "plt.show()"
   ]
  },
  {
   "cell_type": "code",
   "execution_count": 49,
   "id": "430e3a17",
   "metadata": {},
   "outputs": [
    {
     "data": {
      "image/png": "[encoded data removed]",
      "text/plain": [
       "<Figure size 432x288 with 2 Axes>"
      ]
     },
     "metadata": {},
     "output_type": "display_data"
    }
   ],
   "source": [
    "import seaborn as sn\n",
    "import pandas as pd\n",
    "import matplotlib.pyplot as plt\n",
    "from sklearn.metrics import confusion_matrix\n",
    "array = confusion_matrix(y_oot, y_oot_result)\n",
    "df_cm = pd.DataFrame(array, range(2), range(2))\n",
    "# plt.figure(figsize=(10,7))\n",
    "sn.set(font_scale=1.4) # for label size\n",
    "sn.heatmap(df_cm, annot=True, annot_kws={\"size\": 16}) # font size\n",
    "\n",
    "plt.show()"
   ]
  },
  {
   "cell_type": "code",
   "execution_count": null,
   "id": "240e429c",
   "metadata": {},
   "outputs": [],
   "source": []
  },
  {
   "cell_type": "markdown",
   "id": "4675c2ea",
   "metadata": {},
   "source": [
    "### Histograms"
   ]
  },
  {
   "cell_type": "code",
   "execution_count": 53,
   "id": "34e86ee3",
   "metadata": {},
   "outputs": [],
   "source": [
    "y_pred_test_all = clf.predict_proba(X_test)[:, 1]\n",
    "pred = pd.DataFrame(y_pred_test_all, columns = ['win'])\n",
    "df_plot1 = pd.concat([pred, y_test], axis=1)"
   ]
  },
  {
   "cell_type": "code",
   "execution_count": 54,
   "id": "82cef68e",
   "metadata": {
    "scrolled": false
   },
   "outputs": [
    {
     "data": {
      "image/png": "[encoded data removed]",
      "text/plain": [
       "<Figure size 720x504 with 1 Axes>"
      ]
     },
     "metadata": {
      "needs_background": "light"
     },
     "output_type": "display_data"
    }
   ],
   "source": [
    "import matplotlib.pyplot as plt\n",
    "plt.figure(figsize=(10,7))\n",
    "plt.hist(df_plot1.iloc[:, 0][df_plot1.iloc[:, 1]==0], bins=50, label='Defeat', color='darkblue', alpha=0.7, histtype='stepfilled',)\n",
    "plt.hist(df_plot1.iloc[:, 0][df_plot1.iloc[:, 1]==1], bins=50, label='Win', alpha=0.7, color='red', histtype='stepfilled')\n",
    "plt.xlabel('Probability of winning ', fontsize=25)\n",
    "plt.ylabel('Frequency', fontsize=25)\n",
    "plt.title(\"Adaboost\")\n",
    "plt.legend(fontsize=15)\n",
    "plt.tick_params(axis='both', labelsize=25, pad=5)\n",
    "plt.savefig('Adaboost.png')"
   ]
  },
  {
   "cell_type": "code",
   "execution_count": 52,
   "id": "3d8a0842",
   "metadata": {},
   "outputs": [],
   "source": [
    "y_labels = clf.predict(X_test)\n",
    "plott = [y_test, y_labels]"
   ]
  },
  {
   "cell_type": "code",
   "execution_count": 53,
   "id": "07ce24cc",
   "metadata": {},
   "outputs": [
    {
     "data": {
      "image/png": "[encoded data removed]",
      "text/plain": [
       "<Figure size 432x288 with 1 Axes>"
      ]
     },
     "metadata": {},
     "output_type": "display_data"
    }
   ],
   "source": [
    "#Plot Real vs Predict\n",
    "colors = ['red', 'darkblue']\n",
    "labels = ['Real', 'Predicted']\n",
    "\n",
    "plt.hist(plott, label=labels, color=colors, histtype='bar')\n",
    "plt.title(\"Real vs Predicted\")\n",
    "plt.legend(loc='best')\n",
    "plt.show()"
   ]
  },
  {
   "cell_type": "code",
   "execution_count": null,
   "id": "fea97bce",
   "metadata": {},
   "outputs": [],
   "source": []
  },
  {
   "cell_type": "markdown",
   "id": "ea9c0b56",
   "metadata": {},
   "source": [
    "## Neural nets"
   ]
  },
  {
   "cell_type": "code",
   "execution_count": 92,
   "id": "a21fe18b",
   "metadata": {
    "scrolled": true
   },
   "outputs": [
    {
     "name": "stdout",
     "output_type": "stream",
     "text": [
      "Fitting 3 folds for each of 1 candidates, totalling 3 fits\n",
      "Epoch 1/30\n"
     ]
    },
    {
     "name": "stderr",
     "output_type": "stream",
     "text": [
      "<ipython-input-92-a5fc9b928664>:54: DeprecationWarning: KerasClassifier is deprecated, use Sci-Keras (https://github.com/adriangb/scikeras) instead. See https://www.adriangb.com/scikeras/stable/migration.html for help migrating.\n",
      "  model_GridSearch0 = KerasClassifier(build_fn=build_model0, verbose=1)\n",
      "C:\\Users\\Rodzinka\\anaconda3\\lib\\site-packages\\keras\\optimizers\\optimizer_v2\\adam.py:117: UserWarning: The `lr` argument is deprecated, use `learning_rate` instead.\n",
      "  super().__init__(name, **kwargs)\n"
     ]
    },
    {
     "name": "stdout",
     "output_type": "stream",
     "text": [
      "24/24 [==============================] - 0s 2ms/step - loss: 119.2923 - accuracy: 0.5125\n",
      "Epoch 2/30\n",
      "24/24 [==============================] - 0s 2ms/step - loss: 1.0510 - accuracy: 0.5469\n",
      "Epoch 3/30\n",
      "24/24 [==============================] - 0s 2ms/step - loss: 0.7329 - accuracy: 0.5641\n",
      "Epoch 4/30\n",
      "24/24 [==============================] - 0s 2ms/step - loss: 0.6694 - accuracy: 0.6262\n",
      "Epoch 5/30\n",
      "24/24 [==============================] - 0s 2ms/step - loss: 0.6338 - accuracy: 0.6486\n",
      "Epoch 6/30\n",
      "24/24 [==============================] - 0s 2ms/step - loss: 0.6578 - accuracy: 0.6222\n",
      "Epoch 7/30\n",
      "24/24 [==============================] - 0s 2ms/step - loss: 0.6167 - accuracy: 0.6843\n",
      "Epoch 8/30\n",
      "24/24 [==============================] - 0s 2ms/step - loss: 0.6552 - accuracy: 0.6499\n",
      "Epoch 9/30\n",
      "24/24 [==============================] - 0s 2ms/step - loss: 0.6136 - accuracy: 0.6658\n",
      "Epoch 10/30\n",
      "24/24 [==============================] - 0s 2ms/step - loss: 0.6079 - accuracy: 0.6671\n",
      "Epoch 11/30\n",
      "24/24 [==============================] - 0s 2ms/step - loss: 0.6213 - accuracy: 0.6777\n",
      "Epoch 12/30\n",
      "24/24 [==============================] - 0s 2ms/step - loss: 0.5948 - accuracy: 0.6750\n",
      "Epoch 13/30\n",
      "24/24 [==============================] - 0s 2ms/step - loss: 0.6002 - accuracy: 0.6843\n",
      "Epoch 14/30\n",
      "24/24 [==============================] - 0s 2ms/step - loss: 0.6002 - accuracy: 0.7067\n",
      "Epoch 15/30\n",
      "24/24 [==============================] - 0s 2ms/step - loss: 0.5828 - accuracy: 0.6909\n",
      "Epoch 16/30\n",
      "24/24 [==============================] - 0s 2ms/step - loss: 0.5941 - accuracy: 0.6830\n",
      "Epoch 17/30\n",
      "24/24 [==============================] - 0s 2ms/step - loss: 0.5975 - accuracy: 0.6816\n",
      "Epoch 18/30\n",
      "24/24 [==============================] - 0s 2ms/step - loss: 0.6062 - accuracy: 0.6684\n",
      "Epoch 19/30\n",
      "24/24 [==============================] - 0s 2ms/step - loss: 0.5826 - accuracy: 0.6948\n",
      "Epoch 20/30\n",
      "24/24 [==============================] - 0s 2ms/step - loss: 0.6323 - accuracy: 0.6618\n",
      "Epoch 21/30\n",
      "24/24 [==============================] - 0s 2ms/step - loss: 0.5929 - accuracy: 0.6935\n",
      "Epoch 22/30\n",
      "24/24 [==============================] - 0s 2ms/step - loss: 0.5979 - accuracy: 0.6856\n",
      "Epoch 23/30\n",
      "24/24 [==============================] - 0s 2ms/step - loss: 0.5804 - accuracy: 0.6869\n",
      "Epoch 24/30\n",
      "24/24 [==============================] - 0s 2ms/step - loss: 0.5961 - accuracy: 0.7120\n",
      "Epoch 25/30\n",
      "24/24 [==============================] - 0s 2ms/step - loss: 0.5942 - accuracy: 0.6988\n",
      "Epoch 26/30\n",
      "24/24 [==============================] - 0s 2ms/step - loss: 0.6162 - accuracy: 0.6724\n",
      "Epoch 27/30\n",
      "24/24 [==============================] - 0s 2ms/step - loss: 0.5918 - accuracy: 0.6948\n",
      "Epoch 28/30\n",
      "24/24 [==============================] - 0s 2ms/step - loss: 0.6003 - accuracy: 0.6882\n",
      "Epoch 29/30\n",
      "24/24 [==============================] - 0s 2ms/step - loss: 0.5833 - accuracy: 0.6962\n",
      "Epoch 30/30\n",
      "24/24 [==============================] - 0s 2ms/step - loss: 0.6089 - accuracy: 0.6803\n",
      "12/12 [==============================] - 0s 1ms/step - loss: 0.5797 - accuracy: 0.7098\n",
      "Epoch 1/30\n"
     ]
    },
    {
     "name": "stderr",
     "output_type": "stream",
     "text": [
      "C:\\Users\\Rodzinka\\anaconda3\\lib\\site-packages\\keras\\optimizers\\optimizer_v2\\adam.py:117: UserWarning: The `lr` argument is deprecated, use `learning_rate` instead.\n",
      "  super().__init__(name, **kwargs)\n"
     ]
    },
    {
     "name": "stdout",
     "output_type": "stream",
     "text": [
      "24/24 [==============================] - 0s 2ms/step - loss: 100.1489 - accuracy: 0.5258\n",
      "Epoch 2/30\n",
      "24/24 [==============================] - 0s 2ms/step - loss: 1.0924 - accuracy: 0.5403\n",
      "Epoch 3/30\n",
      "24/24 [==============================] - 0s 2ms/step - loss: 0.8068 - accuracy: 0.5892\n",
      "Epoch 4/30\n",
      "24/24 [==============================] - 0s 2ms/step - loss: 0.6891 - accuracy: 0.5892\n",
      "Epoch 5/30\n",
      "24/24 [==============================] - 0s 2ms/step - loss: 0.6168 - accuracy: 0.6513\n",
      "Epoch 6/30\n",
      "24/24 [==============================] - 0s 2ms/step - loss: 0.6091 - accuracy: 0.6592\n",
      "Epoch 7/30\n",
      "24/24 [==============================] - 0s 2ms/step - loss: 0.6256 - accuracy: 0.6711\n",
      "Epoch 8/30\n",
      "24/24 [==============================] - 0s 2ms/step - loss: 0.6143 - accuracy: 0.6605\n",
      "Epoch 9/30\n",
      "24/24 [==============================] - 0s 2ms/step - loss: 0.5899 - accuracy: 0.6790\n",
      "Epoch 10/30\n",
      "24/24 [==============================] - 0s 2ms/step - loss: 0.5942 - accuracy: 0.6803\n",
      "Epoch 11/30\n",
      "24/24 [==============================] - 0s 2ms/step - loss: 0.5927 - accuracy: 0.6962\n",
      "Epoch 12/30\n",
      "24/24 [==============================] - 0s 2ms/step - loss: 0.5898 - accuracy: 0.6724\n",
      "Epoch 13/30\n",
      "24/24 [==============================] - 0s 2ms/step - loss: 0.5853 - accuracy: 0.6988\n",
      "Epoch 14/30\n",
      "24/24 [==============================] - 0s 2ms/step - loss: 0.6168 - accuracy: 0.6724\n",
      "Epoch 15/30\n",
      "24/24 [==============================] - 0s 2ms/step - loss: 0.5766 - accuracy: 0.6790\n",
      "Epoch 16/30\n",
      "24/24 [==============================] - 0s 2ms/step - loss: 0.5800 - accuracy: 0.6922\n",
      "Epoch 17/30\n",
      "24/24 [==============================] - 0s 2ms/step - loss: 0.5820 - accuracy: 0.6935\n",
      "Epoch 18/30\n",
      "24/24 [==============================] - 0s 2ms/step - loss: 0.6071 - accuracy: 0.6671\n",
      "Epoch 19/30\n",
      "24/24 [==============================] - 0s 2ms/step - loss: 0.5874 - accuracy: 0.6777\n",
      "Epoch 20/30\n",
      "24/24 [==============================] - 0s 2ms/step - loss: 0.5793 - accuracy: 0.6856\n",
      "Epoch 21/30\n",
      "24/24 [==============================] - 0s 2ms/step - loss: 0.5711 - accuracy: 0.7120\n",
      "Epoch 22/30\n",
      "24/24 [==============================] - 0s 2ms/step - loss: 0.5719 - accuracy: 0.6869\n",
      "Epoch 23/30\n",
      "24/24 [==============================] - 0s 2ms/step - loss: 0.5691 - accuracy: 0.7054\n",
      "Epoch 24/30\n",
      "24/24 [==============================] - 0s 2ms/step - loss: 0.5571 - accuracy: 0.6909\n",
      "Epoch 25/30\n",
      "24/24 [==============================] - 0s 2ms/step - loss: 0.5815 - accuracy: 0.7054\n",
      "Epoch 26/30\n",
      "24/24 [==============================] - 0s 2ms/step - loss: 0.6148 - accuracy: 0.6658\n",
      "Epoch 27/30\n",
      "24/24 [==============================] - 0s 2ms/step - loss: 0.5666 - accuracy: 0.6856\n",
      "Epoch 28/30\n",
      "24/24 [==============================] - 0s 2ms/step - loss: 0.6012 - accuracy: 0.6975\n",
      "Epoch 29/30\n",
      "24/24 [==============================] - 0s 2ms/step - loss: 0.5700 - accuracy: 0.7041\n",
      "Epoch 30/30\n",
      "24/24 [==============================] - 0s 2ms/step - loss: 0.5979 - accuracy: 0.6882\n",
      "12/12 [==============================] - 0s 1ms/step - loss: 0.6148 - accuracy: 0.7018\n",
      "Epoch 1/30\n"
     ]
    },
    {
     "name": "stderr",
     "output_type": "stream",
     "text": [
      "C:\\Users\\Rodzinka\\anaconda3\\lib\\site-packages\\keras\\optimizers\\optimizer_v2\\adam.py:117: UserWarning: The `lr` argument is deprecated, use `learning_rate` instead.\n",
      "  super().__init__(name, **kwargs)\n"
     ]
    },
    {
     "name": "stdout",
     "output_type": "stream",
     "text": [
      "24/24 [==============================] - 0s 2ms/step - loss: 76.1577 - accuracy: 0.5158\n",
      "Epoch 2/30\n",
      "24/24 [==============================] - 0s 2ms/step - loss: 1.1232 - accuracy: 0.5475\n",
      "Epoch 3/30\n",
      "24/24 [==============================] - 0s 2ms/step - loss: 0.6702 - accuracy: 0.6491\n",
      "Epoch 4/30\n",
      "24/24 [==============================] - 0s 2ms/step - loss: 0.6662 - accuracy: 0.6135\n",
      "Epoch 5/30\n",
      "24/24 [==============================] - 0s 2ms/step - loss: 0.6745 - accuracy: 0.6214\n",
      "Epoch 6/30\n",
      "24/24 [==============================] - 0s 2ms/step - loss: 0.6160 - accuracy: 0.6649\n",
      "Epoch 7/30\n",
      "24/24 [==============================] - 0s 2ms/step - loss: 0.6191 - accuracy: 0.6702\n",
      "Epoch 8/30\n",
      "24/24 [==============================] - 0s 2ms/step - loss: 0.6184 - accuracy: 0.6662\n",
      "Epoch 9/30\n",
      "24/24 [==============================] - 0s 2ms/step - loss: 0.6442 - accuracy: 0.6728\n",
      "Epoch 10/30\n",
      "24/24 [==============================] - 0s 2ms/step - loss: 0.6000 - accuracy: 0.6953\n",
      "Epoch 11/30\n",
      "24/24 [==============================] - 0s 2ms/step - loss: 0.5831 - accuracy: 0.7045\n",
      "Epoch 12/30\n",
      "24/24 [==============================] - 0s 2ms/step - loss: 0.5965 - accuracy: 0.6939\n",
      "Epoch 13/30\n",
      "24/24 [==============================] - 0s 2ms/step - loss: 0.5743 - accuracy: 0.6953\n",
      "Epoch 14/30\n",
      "24/24 [==============================] - 0s 2ms/step - loss: 0.5857 - accuracy: 0.6913\n",
      "Epoch 15/30\n",
      "24/24 [==============================] - 0s 2ms/step - loss: 0.5895 - accuracy: 0.7045\n",
      "Epoch 16/30\n",
      "24/24 [==============================] - 0s 2ms/step - loss: 0.6052 - accuracy: 0.7137\n",
      "Epoch 17/30\n",
      "24/24 [==============================] - 0s 2ms/step - loss: 0.6026 - accuracy: 0.6741\n",
      "Epoch 18/30\n",
      "24/24 [==============================] - 0s 2ms/step - loss: 0.5915 - accuracy: 0.6979\n",
      "Epoch 19/30\n",
      "24/24 [==============================] - 0s 2ms/step - loss: 0.5789 - accuracy: 0.6939\n",
      "Epoch 20/30\n",
      "24/24 [==============================] - 0s 2ms/step - loss: 0.5853 - accuracy: 0.6953\n",
      "Epoch 21/30\n",
      "24/24 [==============================] - 0s 2ms/step - loss: 0.5614 - accuracy: 0.7071\n",
      "Epoch 22/30\n",
      "24/24 [==============================] - 0s 2ms/step - loss: 0.5768 - accuracy: 0.6900\n",
      "Epoch 23/30\n",
      "24/24 [==============================] - 0s 2ms/step - loss: 0.5721 - accuracy: 0.7018\n",
      "Epoch 24/30\n",
      "24/24 [==============================] - 0s 2ms/step - loss: 0.5546 - accuracy: 0.7203\n",
      "Epoch 25/30\n",
      "24/24 [==============================] - 0s 2ms/step - loss: 0.5656 - accuracy: 0.7203\n",
      "Epoch 26/30\n",
      "24/24 [==============================] - 0s 2ms/step - loss: 0.5704 - accuracy: 0.6966\n",
      "Epoch 27/30\n",
      "24/24 [==============================] - 0s 2ms/step - loss: 0.5469 - accuracy: 0.7190\n",
      "Epoch 28/30\n",
      "24/24 [==============================] - 0s 2ms/step - loss: 0.5591 - accuracy: 0.7230\n",
      "Epoch 29/30\n",
      "24/24 [==============================] - 0s 2ms/step - loss: 0.5685 - accuracy: 0.7243\n",
      "Epoch 30/30\n",
      "24/24 [==============================] - 0s 2ms/step - loss: 0.5652 - accuracy: 0.6992\n",
      "12/12 [==============================] - 0s 1ms/step - loss: 0.6093 - accuracy: 0.6825\n",
      "Epoch 1/30\n"
     ]
    },
    {
     "name": "stderr",
     "output_type": "stream",
     "text": [
      "C:\\Users\\Rodzinka\\anaconda3\\lib\\site-packages\\keras\\optimizers\\optimizer_v2\\adam.py:117: UserWarning: The `lr` argument is deprecated, use `learning_rate` instead.\n",
      "  super().__init__(name, **kwargs)\n"
     ]
    },
    {
     "name": "stdout",
     "output_type": "stream",
     "text": [
      "36/36 [==============================] - 0s 2ms/step - loss: 50.1577 - accuracy: 0.5053\n",
      "Epoch 2/30\n",
      "36/36 [==============================] - 0s 2ms/step - loss: 0.7090 - accuracy: 0.5669\n",
      "Epoch 3/30\n",
      "36/36 [==============================] - 0s 2ms/step - loss: 0.6629 - accuracy: 0.6197\n",
      "Epoch 4/30\n",
      "36/36 [==============================] - 0s 2ms/step - loss: 0.6417 - accuracy: 0.6400\n",
      "Epoch 5/30\n",
      "36/36 [==============================] - 0s 2ms/step - loss: 0.6321 - accuracy: 0.6391\n",
      "Epoch 6/30\n",
      "36/36 [==============================] - 0s 2ms/step - loss: 0.6325 - accuracy: 0.6294\n",
      "Epoch 7/30\n",
      "36/36 [==============================] - 0s 2ms/step - loss: 0.6312 - accuracy: 0.6444\n",
      "Epoch 8/30\n",
      "36/36 [==============================] - 0s 2ms/step - loss: 0.5962 - accuracy: 0.6796\n",
      "Epoch 9/30\n",
      "36/36 [==============================] - 0s 2ms/step - loss: 0.6204 - accuracy: 0.6664\n",
      "Epoch 10/30\n",
      "36/36 [==============================] - 0s 2ms/step - loss: 0.6227 - accuracy: 0.6646\n",
      "Epoch 11/30\n",
      "36/36 [==============================] - 0s 2ms/step - loss: 0.6078 - accuracy: 0.6717\n",
      "Epoch 12/30\n",
      "36/36 [==============================] - 0s 2ms/step - loss: 0.6379 - accuracy: 0.6435\n",
      "Epoch 13/30\n",
      "36/36 [==============================] - 0s 2ms/step - loss: 0.5959 - accuracy: 0.6954\n",
      "Epoch 14/30\n",
      "36/36 [==============================] - 0s 2ms/step - loss: 0.5949 - accuracy: 0.6901\n",
      "Epoch 15/30\n",
      "36/36 [==============================] - 0s 2ms/step - loss: 0.6047 - accuracy: 0.6761\n",
      "Epoch 16/30\n",
      "36/36 [==============================] - 0s 2ms/step - loss: 0.6311 - accuracy: 0.6364\n",
      "Epoch 17/30\n",
      "36/36 [==============================] - 0s 2ms/step - loss: 0.6165 - accuracy: 0.6611\n",
      "Epoch 18/30\n",
      "36/36 [==============================] - 0s 2ms/step - loss: 0.6081 - accuracy: 0.6620\n",
      "Epoch 19/30\n",
      "36/36 [==============================] - 0s 2ms/step - loss: 0.5925 - accuracy: 0.6875\n",
      "Epoch 20/30\n",
      "36/36 [==============================] - 0s 2ms/step - loss: 0.5968 - accuracy: 0.6734\n",
      "Epoch 21/30\n",
      "36/36 [==============================] - 0s 2ms/step - loss: 0.5969 - accuracy: 0.6611\n",
      "Epoch 22/30\n",
      "36/36 [==============================] - 0s 2ms/step - loss: 0.6003 - accuracy: 0.6629\n",
      "Epoch 23/30\n",
      "36/36 [==============================] - 0s 2ms/step - loss: 0.5935 - accuracy: 0.6884\n",
      "Epoch 24/30\n",
      "36/36 [==============================] - 0s 2ms/step - loss: 0.5942 - accuracy: 0.6681\n",
      "Epoch 25/30\n",
      "36/36 [==============================] - 0s 2ms/step - loss: 0.5882 - accuracy: 0.6893\n",
      "Epoch 26/30\n",
      "36/36 [==============================] - 0s 2ms/step - loss: 0.5834 - accuracy: 0.6893\n",
      "Epoch 27/30\n",
      "36/36 [==============================] - 0s 2ms/step - loss: 0.5900 - accuracy: 0.6664\n",
      "Epoch 28/30\n",
      "36/36 [==============================] - 0s 2ms/step - loss: 0.5802 - accuracy: 0.6893\n",
      "Epoch 29/30\n",
      "36/36 [==============================] - 0s 2ms/step - loss: 0.5730 - accuracy: 0.6849\n",
      "Epoch 30/30\n",
      "36/36 [==============================] - 0s 2ms/step - loss: 0.5990 - accuracy: 0.6452\n",
      "Epoch 1/30\n"
     ]
    },
    {
     "name": "stderr",
     "output_type": "stream",
     "text": [
      "C:\\Users\\Rodzinka\\anaconda3\\lib\\site-packages\\keras\\optimizers\\optimizer_v2\\adam.py:117: UserWarning: The `lr` argument is deprecated, use `learning_rate` instead.\n",
      "  super().__init__(name, **kwargs)\n"
     ]
    },
    {
     "name": "stdout",
     "output_type": "stream",
     "text": [
      "36/36 [==============================] - 0s 2ms/step - loss: 17.9075 - accuracy: 0.5423\n",
      "Epoch 2/30\n",
      "36/36 [==============================] - 0s 2ms/step - loss: 4.8348 - accuracy: 0.5713\n",
      "Epoch 3/30\n",
      "36/36 [==============================] - 0s 2ms/step - loss: 2.9769 - accuracy: 0.5792\n",
      "Epoch 4/30\n",
      "36/36 [==============================] - 0s 2ms/step - loss: 2.3155 - accuracy: 0.5687\n",
      "Epoch 5/30\n",
      "36/36 [==============================] - 0s 2ms/step - loss: 1.6940 - accuracy: 0.5942\n",
      "Epoch 6/30\n",
      "36/36 [==============================] - 0s 2ms/step - loss: 1.4749 - accuracy: 0.5942\n",
      "Epoch 7/30\n",
      "36/36 [==============================] - 0s 2ms/step - loss: 1.1977 - accuracy: 0.6118\n",
      "Epoch 8/30\n",
      "36/36 [==============================] - 0s 2ms/step - loss: 1.1351 - accuracy: 0.5977\n",
      "Epoch 9/30\n",
      "36/36 [==============================] - 0s 2ms/step - loss: 0.9389 - accuracy: 0.6294\n",
      "Epoch 10/30\n",
      "36/36 [==============================] - 0s 2ms/step - loss: 0.8582 - accuracy: 0.6144\n",
      "Epoch 11/30\n",
      "36/36 [==============================] - 0s 2ms/step - loss: 0.8241 - accuracy: 0.6276\n",
      "Epoch 12/30\n",
      "36/36 [==============================] - 0s 2ms/step - loss: 0.7680 - accuracy: 0.6206\n",
      "Epoch 13/30\n",
      "36/36 [==============================] - 0s 2ms/step - loss: 0.6965 - accuracy: 0.6514\n",
      "Epoch 14/30\n",
      "36/36 [==============================] - 0s 2ms/step - loss: 0.6752 - accuracy: 0.6690\n",
      "Epoch 15/30\n",
      "36/36 [==============================] - 0s 2ms/step - loss: 0.7014 - accuracy: 0.6479\n",
      "Epoch 16/30\n",
      "36/36 [==============================] - 0s 2ms/step - loss: 0.7250 - accuracy: 0.6100\n",
      "Epoch 17/30\n",
      "36/36 [==============================] - 0s 2ms/step - loss: 0.7408 - accuracy: 0.6373\n",
      "Epoch 18/30\n",
      "36/36 [==============================] - 0s 2ms/step - loss: 0.6972 - accuracy: 0.6232\n",
      "Epoch 19/30\n",
      "36/36 [==============================] - 0s 2ms/step - loss: 0.6433 - accuracy: 0.6523\n",
      "Epoch 20/30\n",
      "36/36 [==============================] - 0s 2ms/step - loss: 0.6384 - accuracy: 0.6637\n",
      "Epoch 21/30\n",
      "36/36 [==============================] - 0s 2ms/step - loss: 0.6350 - accuracy: 0.6690\n",
      "Epoch 22/30\n",
      "36/36 [==============================] - 0s 2ms/step - loss: 0.6375 - accuracy: 0.6673\n",
      "Epoch 23/30\n",
      "36/36 [==============================] - 0s 2ms/step - loss: 0.6808 - accuracy: 0.6400\n",
      "Epoch 24/30\n",
      "36/36 [==============================] - 0s 2ms/step - loss: 0.6661 - accuracy: 0.6320\n",
      "Epoch 25/30\n",
      "36/36 [==============================] - 0s 2ms/step - loss: 0.6470 - accuracy: 0.6364\n",
      "Epoch 26/30\n",
      "36/36 [==============================] - 0s 2ms/step - loss: 0.6277 - accuracy: 0.6496\n",
      "Epoch 27/30\n",
      "36/36 [==============================] - 0s 2ms/step - loss: 0.6187 - accuracy: 0.6752\n",
      "Epoch 28/30\n",
      "36/36 [==============================] - 0s 2ms/step - loss: 0.6106 - accuracy: 0.6945\n",
      "Epoch 29/30\n",
      "36/36 [==============================] - 0s 2ms/step - loss: 0.6206 - accuracy: 0.6567\n",
      "Epoch 30/30\n",
      "36/36 [==============================] - 0s 2ms/step - loss: 0.5931 - accuracy: 0.7033\n",
      "36/36 [==============================] - 0s 763us/step\n",
      "16/16 [==============================] - 0s 864us/step\n",
      "36/36 [==============================] - 0s 826us/step - loss: 0.5563 - accuracy: 0.7069\n",
      "Training set accuracy: 0.7069\n",
      "16/16 [==============================] - 0s 951us/step - loss: 0.5981 - accuracy: 0.6721\n",
      "Test set accuracy: 0.6721\n",
      "Training set AUC: 0.7760\n",
      "Test set AUC: 0.7554\n",
      "6/6 [==============================] - 0s 1ms/step\n",
      "6/6 [==============================] - 0s 1ms/step - loss: 0.6205 - accuracy: 0.6971\n",
      "Oot set accuracy: 0.6971\n",
      "Oot set AUC: 0.7442\n",
      "16/16 [==============================] - 0s 754us/step\n",
      "16/16 [==============================] - 0s 878us/step\n",
      "6/6 [==============================] - 0s 997us/step\n"
     ]
    }
   ],
   "source": [
    "import random\n",
    "import numpy as np\n",
    "import tensorflow as tf\n",
    "random.seed(22)\n",
    "np.random.seed(22)\n",
    "tf.random.set_seed(22)\n",
    "\n",
    "from keras import metrics\n",
    "from keras import layers\n",
    "from keras.models import Sequential\n",
    "from keras.layers import Dense, Flatten, Conv2D, Dropout, MaxPooling2D\n",
    "from keras.optimizers import *\n",
    "from keras.wrappers.scikit_learn import KerasClassifier\n",
    "from sklearn.model_selection import GridSearchCV\n",
    "\n",
    "metrics = ['accuracy']\n",
    "\n",
    "epochs = [30]\n",
    "\n",
    "learning_rate = [0.01]\n",
    "\n",
    "dropout = [0.2]\n",
    "\n",
    "activation_final = ['sigmoid']\n",
    "\n",
    "activation = ['relu',]\n",
    "\n",
    "optimizer = [Adam]\n",
    "\n",
    "parameters0 = dict(metrics = metrics,\n",
    "                  epochs = epochs,\n",
    "                  dropout = dropout,\n",
    "                  learning_rate = learning_rate,\n",
    "                  activation = activation,\n",
    "                  activation_final = activation_final,\n",
    "                  optimizer = optimizer)\n",
    "\n",
    "def build_model0(activation, dropout, activation_final, learning_rate, epochs,\n",
    "                optimizer, metrics):\n",
    "    model = Sequential([\n",
    "      layers.Dense(276, activation=activation),\n",
    "      layers.Dropout(dropout),\n",
    "      layers.Dense(276, activation=activation),\n",
    "      layers.Dropout(dropout),\n",
    "      layers.Dense(276, activation=activation),\n",
    "      layers.Dense(1, name=\"outputs\", activation=activation_final),\n",
    "\n",
    "    ])\n",
    "    model.compile(loss='binary_crossentropy',\n",
    "                  optimizer=optimizer(lr=learning_rate),\n",
    "                  metrics=metrics)\n",
    "    return model\n",
    "\n",
    "model_GridSearch0 = KerasClassifier(build_fn=build_model0, verbose=1)\n",
    "nn = GridSearchCV(estimator=model_GridSearch0, param_grid=parameters0, n_jobs=1, cv=3, verbose = 1)\n",
    "\n",
    "nn_result = nn.fit(X_train, y_train)\n",
    "\n",
    "# final model\n",
    "model = Sequential([\n",
    "  layers.Dense(276, activation='relu'),\n",
    "  layers.Dropout(0.2),\n",
    "  layers.Dense(276, activation='relu'),\n",
    "  layers.Dropout(0.2),\n",
    "  layers.Dense(276, activation='relu'),\n",
    "  layers.Dense(1, name=\"outputs\", activation='sigmoid'),\n",
    "\n",
    "])\n",
    "model.compile(loss='binary_crossentropy',\n",
    "              optimizer=Adam(lr=0.001),\n",
    "              metrics='accuracy')\n",
    "\n",
    "model.fit(X_train, y_train, epochs=30)\n",
    "\n",
    "# calculate predictions\n",
    "y_train_pred= nn_result.predict_proba(X_train)\n",
    "y_test_pred = nn_result.predict_proba(X_test)\n",
    "y_test_pred\n",
    "\n",
    "# print scores on training and testing set\n",
    "print('Training set accuracy: {:.4f}'.format(model.evaluate(X_train, y_train)[1]))\n",
    "print('Test set accuracy: {:.4f}'.format(model.evaluate(X_test, y_test)[1]))\n",
    "print('Training set AUC: {:.4f}'.format(roc_auc_score(y_train, y_train_pred[:,1])))\n",
    "print('Test set AUC: {:.4f}'.format(roc_auc_score(y_test, y_test_pred[:,1])))\n",
    "\n",
    "y_oot_pred = nn_result.predict_proba(X_oot)\n",
    "\n",
    "print('Oot set accuracy: {:.4f}'.format(model.evaluate(X_oot, y_oot)[1]))\n",
    "print('Oot set AUC: {:.4f}'.format(roc_auc_score(y_oot, y_oot_pred[:,1])))\n",
    "\n",
    "y_pred_test_all = model.predict(X_test)\n",
    "\n",
    "predictions_test = nn_result.predict_proba(X_test)\n",
    "predictions_oot_nn = nn_result.predict(X_oot)\n",
    "predictions_oot_nn = np.concatenate(predictions_oot_nn, axis=0 )\n",
    "predictions_oot_nn = pd.Series(predictions_oot_nn)"
   ]
  },
  {
   "cell_type": "code",
   "execution_count": 55,
   "id": "cc24b025",
   "metadata": {},
   "outputs": [],
   "source": [
    "bets = pd.read_csv('bets2.csv', sep = ';')"
   ]
  },
  {
   "cell_type": "code",
   "execution_count": null,
   "id": "5ee1aae7",
   "metadata": {},
   "outputs": [],
   "source": []
  },
  {
   "cell_type": "code",
   "execution_count": 56,
   "id": "c26ad7c1",
   "metadata": {},
   "outputs": [
    {
     "name": "stdout",
     "output_type": "stream",
     "text": [
      "36/36 [==============================] - 0s 741us/step\n",
      "16/16 [==============================] - 0s 885us/step\n",
      "6/6 [==============================] - 0s 1ms/step\n",
      "In sample precision: 0.6885\n",
      "In sample set recall: 0.7455\n",
      "In sample f1 score: 0.7159\n",
      "Out of sample precision: 0.7250\n",
      "Out of sample set recall: 0.7409\n",
      "Out of sample f1 score: 0.7329\n",
      "Out of time precision: 0.7000\n",
      "Out of time set recall: 0.7609\n",
      "Out of time f1 score: 0.7292\n"
     ]
    }
   ],
   "source": [
    "from sklearn import metrics\n",
    "\n",
    "y_is_result = nn_result.predict(X_train)\n",
    "y_oos_result = nn_result.predict(X_test)\n",
    "y_oot_result = nn_result.predict(X_oot)\n",
    "\n",
    "print('In sample precision: {:.4f}'.format(metrics.precision_score(y_train, y_is_result)))\n",
    "print('In sample set recall: {:.4f}'.format(metrics.recall_score(y_train, y_is_result)))\n",
    "print('In sample f1 score: {:.4f}'.format(metrics.f1_score(y_train, y_is_result)))\n",
    "\n",
    "print('Out of sample precision: {:.4f}'.format(metrics.precision_score(y_test, y_oos_result)))\n",
    "print('Out of sample set recall: {:.4f}'.format(metrics.recall_score(y_test, y_oos_result)))\n",
    "print('Out of sample f1 score: {:.4f}'.format(metrics.f1_score(y_test, y_oos_result)))\n",
    "\n",
    "\n",
    "print('Out of time precision: {:.4f}'.format(metrics.precision_score(y_oot, y_oot_result)))\n",
    "print('Out of time set recall: {:.4f}'.format(metrics.recall_score(y_oot, y_oot_result)))\n",
    "print('Out of time f1 score: {:.4f}'.format(metrics.f1_score(y_oot, y_oot_result)))"
   ]
  },
  {
   "cell_type": "code",
   "execution_count": null,
   "id": "fe0ebd96",
   "metadata": {},
   "outputs": [],
   "source": []
  },
  {
   "cell_type": "markdown",
   "id": "d9e901d6",
   "metadata": {},
   "source": [
    "### Histograms"
   ]
  },
  {
   "cell_type": "code",
   "execution_count": 57,
   "id": "a83b7058",
   "metadata": {},
   "outputs": [
    {
     "name": "stdout",
     "output_type": "stream",
     "text": [
      "16/16 [==============================] - 0s 885us/step\n"
     ]
    }
   ],
   "source": [
    "y_pred_test_all = nn_result.predict_proba(X_test)[:, 1]\n",
    "pred = pd.DataFrame(y_pred_test_all, columns = ['win'])\n",
    "df_plot1 = pd.concat([pred, y_test], axis=1)"
   ]
  },
  {
   "cell_type": "code",
   "execution_count": 58,
   "id": "6ba807ce",
   "metadata": {},
   "outputs": [
    {
     "data": {
      "image/png": "[encoded data removed]",
      "text/plain": [
       "<Figure size 720x504 with 1 Axes>"
      ]
     },
     "metadata": {},
     "output_type": "display_data"
    }
   ],
   "source": [
    "import matplotlib.pyplot as plt\n",
    "plt.figure(figsize=(10,7))\n",
    "plt.hist(df_plot1.iloc[:, 0][df_plot1.iloc[:, 1]==0], bins=50, label='Defeat', color='darkblue', alpha=0.7, histtype='stepfilled',)\n",
    "plt.hist(df_plot1.iloc[:, 0][df_plot1.iloc[:, 1]==1], bins=50, label='Win', alpha=0.7, color='red', histtype='stepfilled')\n",
    "plt.xlabel('Probability of winning ', fontsize=25)\n",
    "plt.ylabel('Frequency', fontsize=25)\n",
    "plt.title(\"Neural network\")\n",
    "plt.legend(fontsize=15)\n",
    "plt.tick_params(axis='both', labelsize=25, pad=5)\n",
    "plt.savefig('Neural_network.png')"
   ]
  },
  {
   "cell_type": "code",
   "execution_count": 59,
   "id": "aa00166c",
   "metadata": {},
   "outputs": [
    {
     "name": "stdout",
     "output_type": "stream",
     "text": [
      "16/16 [==============================] - 0s 860us/step\n"
     ]
    }
   ],
   "source": [
    "y_labels = nn_result.predict(X_test)\n",
    "plott = [y_test, np.concatenate(y_labels, axis=0 )]"
   ]
  },
  {
   "cell_type": "code",
   "execution_count": 60,
   "id": "ba2f168f",
   "metadata": {},
   "outputs": [
    {
     "data": {
      "image/png": "[encoded data removed]",
      "text/plain": [
       "<Figure size 432x288 with 1 Axes>"
      ]
     },
     "metadata": {},
     "output_type": "display_data"
    }
   ],
   "source": [
    "#Plot Real vs Predict\n",
    "colors = ['red', 'darkblue']\n",
    "labels = ['Real', 'Predicted']\n",
    "\n",
    "plt.hist(plott, label=labels, color=colors, histtype='bar')\n",
    "plt.title(\"Real vs Predicted\")\n",
    "plt.legend(loc='best')\n",
    "plt.show()"
   ]
  },
  {
   "cell_type": "code",
   "execution_count": 61,
   "id": "1865c3fe",
   "metadata": {},
   "outputs": [
    {
     "ename": "NameError",
     "evalue": "name 'df_plot5' is not defined",
     "output_type": "error",
     "traceback": [
      "\u001b[1;31m---------------------------------------------------------------------------\u001b[0m",
      "\u001b[1;31mNameError\u001b[0m                                 Traceback (most recent call last)",
      "\u001b[1;32m<ipython-input-61-7cd5b26ed4b7>\u001b[0m in \u001b[0;36m<module>\u001b[1;34m\u001b[0m\n\u001b[1;32m----> 1\u001b[1;33m \u001b[0mdf_plot5\u001b[0m\u001b[1;33m\u001b[0m\u001b[1;33m\u001b[0m\u001b[0m\n\u001b[0m",
      "\u001b[1;31mNameError\u001b[0m: name 'df_plot5' is not defined"
     ]
    }
   ],
   "source": [
    "df_plot5"
   ]
  },
  {
   "cell_type": "code",
   "execution_count": null,
   "id": "8fcb5797",
   "metadata": {},
   "outputs": [],
   "source": [
    "from collections import Counter\n",
    "\n",
    "def Most_Common(lst):\n",
    "    data = Counter(lst)\n",
    "    return data.most_common(1)[0][0]"
   ]
  },
  {
   "cell_type": "code",
   "execution_count": null,
   "id": "c1ce717d",
   "metadata": {},
   "outputs": [],
   "source": [
    "Most_Common(df_plot5.iloc[:, 0])"
   ]
  },
  {
   "cell_type": "code",
   "execution_count": null,
   "id": "dd349c94",
   "metadata": {},
   "outputs": [],
   "source": [
    "Most_Common(df_plot5.iloc[:, 1])"
   ]
  },
  {
   "cell_type": "code",
   "execution_count": null,
   "id": "53341c6a",
   "metadata": {},
   "outputs": [],
   "source": []
  },
  {
   "cell_type": "code",
   "execution_count": null,
   "id": "60a57226",
   "metadata": {},
   "outputs": [],
   "source": []
  },
  {
   "cell_type": "code",
   "execution_count": 62,
   "id": "fb5df746",
   "metadata": {},
   "outputs": [
    {
     "name": "stdout",
     "output_type": "stream",
     "text": [
      "16/16 [==============================] - 0s 864us/step\n"
     ]
    }
   ],
   "source": [
    "y_pred_test_ada = clf.predict_proba(X_test)[:,1]\n",
    "y_pred_test_xgb = xgb_model.predict_proba(X_test)[:,1]\n",
    "y_pred_test_nn = nn_result.predict_proba(X_test)[:,1]\n",
    "y_pred_test_rf = rnd_forest.predict_proba(X_test)[:,1]\n",
    "y_pred_test_dt = dt_final.predict_proba(X_test)[:,1]\n",
    "\n",
    "\n"
   ]
  },
  {
   "cell_type": "code",
   "execution_count": 63,
   "id": "b73fd191",
   "metadata": {},
   "outputs": [
    {
     "ename": "NameError",
     "evalue": "name 'fpr_ts_ada' is not defined",
     "output_type": "error",
     "traceback": [
      "\u001b[1;31m---------------------------------------------------------------------------\u001b[0m",
      "\u001b[1;31mNameError\u001b[0m                                 Traceback (most recent call last)",
      "\u001b[1;32m<ipython-input-63-498217bb9a48>\u001b[0m in \u001b[0;36m<module>\u001b[1;34m\u001b[0m\n\u001b[1;32m----> 1\u001b[1;33m \u001b[0mfpr_ts_ada\u001b[0m\u001b[1;33m\u001b[0m\u001b[1;33m\u001b[0m\u001b[0m\n\u001b[0m",
      "\u001b[1;31mNameError\u001b[0m: name 'fpr_ts_ada' is not defined"
     ]
    }
   ],
   "source": [
    "fpr_ts_ada"
   ]
  },
  {
   "cell_type": "code",
   "execution_count": 64,
   "id": "77d1902c",
   "metadata": {},
   "outputs": [
    {
     "ename": "NameError",
     "evalue": "name 'tpr_ts_ada' is not defined",
     "output_type": "error",
     "traceback": [
      "\u001b[1;31m---------------------------------------------------------------------------\u001b[0m",
      "\u001b[1;31mNameError\u001b[0m                                 Traceback (most recent call last)",
      "\u001b[1;32m<ipython-input-64-8f6d747d9465>\u001b[0m in \u001b[0;36m<module>\u001b[1;34m\u001b[0m\n\u001b[1;32m----> 1\u001b[1;33m \u001b[0mtpr_ts_ada\u001b[0m\u001b[1;33m\u001b[0m\u001b[1;33m\u001b[0m\u001b[0m\n\u001b[0m",
      "\u001b[1;31mNameError\u001b[0m: name 'tpr_ts_ada' is not defined"
     ]
    }
   ],
   "source": [
    "tpr_ts_ada"
   ]
  },
  {
   "cell_type": "code",
   "execution_count": 72,
   "id": "d556b726",
   "metadata": {},
   "outputs": [],
   "source": [
    "#test data ROC\n",
    "fpr_ts_ada, tpr_ts_ada, threshold = roc_curve(y_test, y_pred_test_ada)\n",
    "roc_auc_test_ada = auc(fpr_ts_ada, tpr_ts_ada)\n",
    "\n",
    "fpr_ts_xgb, tpr_ts_xgb, threshold = roc_curve(y_test, y_pred_test_xgb)\n",
    "roc_auc_test_xgb = auc(fpr_ts_xgb, tpr_ts_xgb)\n",
    "\n",
    "fpr_ts_nn, tpr_ts_nn, threshold = roc_curve(y_test, y_pred_test_nn)\n",
    "roc_auc_test_nn = auc(fpr_ts_nn, tpr_ts_nn)\n",
    "\n",
    "fpr_ts_rf, tpr_ts_rf, threshold = roc_curve(y_test, y_pred_test_rf)\n",
    "roc_auc_test_rf = auc(fpr_ts_rf, tpr_ts_rf)\n",
    "\n",
    "fpr_ts_dt, tpr_ts_dt, threshold = roc_curve(y_test, y_pred_test_dt)\n",
    "roc_auc_test_dt = auc(fpr_ts_dt, tpr_ts_dt)"
   ]
  },
  {
   "cell_type": "code",
   "execution_count": 73,
   "id": "af3554ec",
   "metadata": {},
   "outputs": [
    {
     "name": "stderr",
     "output_type": "stream",
     "text": [
      "<ipython-input-73-2a6a2ee054b1>:6: UserWarning: color is redundantly defined by the 'color' keyword argument and the fmt string \"r--\" (-> color='r'). The keyword argument will take precedence.\n",
      "  plt.plot([0, 1], [0, 1],'r--', color = 'black')\n"
     ]
    },
    {
     "data": {
      "text/plain": [
       "<matplotlib.legend.Legend at 0x1b8a65c9220>"
      ]
     },
     "execution_count": 73,
     "metadata": {},
     "output_type": "execute_result"
    },
    {
     "data": {
      "image/png": "[encoded data removed]",
      "text/plain": [
       "<Figure size 720x504 with 1 Axes>"
      ]
     },
     "metadata": {},
     "output_type": "display_data"
    }
   ],
   "source": [
    "#set up plotting area\n",
    "plt.figure(figsize=(10,7))\n",
    "\n",
    "plt.plot(fpr_ts_ada,tpr_ts_ada,label=\"AdaBoost, AUC=\"+str(np.round(roc_auc_test_ada, 2)))\n",
    "plt.legend(loc = 'lower right')\n",
    "plt.plot([0, 1], [0, 1],'r--', color = 'black')\n",
    "plt.ylabel('True Positive Rate')\n",
    "plt.xlabel('False Positive Rate')\n",
    "#add legend\n",
    "\n",
    "plt.plot(fpr_ts_xgb,tpr_ts_xgb,label=\"XGBoost, AUC=\"+str(np.round(roc_auc_test_xgb, 2)))\n",
    "\n",
    "plt.plot(fpr_ts_nn,tpr_ts_nn,label=\"Neural Network, AUC=\"+str(np.round(roc_auc_test_nn, 2)))\n",
    "\n",
    "plt.plot(fpr_ts_rf,tpr_ts_rf,label=\"Random Forest, AUC=\"+str(np.round(roc_auc_test_rf, 2)))\n",
    "\n",
    "plt.plot(fpr_ts_dt,tpr_ts_dt,label=\"Decision Trees, AUC=\"+str(np.round(roc_auc_test_dt, 2)))\n",
    "\n",
    "plt.legend()"
   ]
  },
  {
   "cell_type": "code",
   "execution_count": null,
   "id": "f4edfa19",
   "metadata": {},
   "outputs": [],
   "source": []
  },
  {
   "cell_type": "code",
   "execution_count": 74,
   "id": "8166979f",
   "metadata": {},
   "outputs": [],
   "source": [
    "from sklearn.metrics import precision_recall_curve\n",
    "\n",
    "fpr_ts_ada, tpr_ts_ada, threshold = precision_recall_curve(y_test, y_pred_test_ada)\n",
    "\n",
    "fpr_ts_xgb, tpr_ts_xgb, threshold = precision_recall_curve(y_test, y_pred_test_xgb)\n",
    "\n",
    "fpr_ts_nn, tpr_ts_nn, threshold = precision_recall_curve(y_test, y_pred_test_nn)\n",
    "\n",
    "fpr_ts_rf, tpr_ts_rf, threshold = precision_recall_curve(y_test, y_pred_test_rf)\n",
    "\n",
    "fpr_ts_dt, tpr_ts_dt, threshold = precision_recall_curve(y_test, y_pred_test_dt)\n"
   ]
  },
  {
   "cell_type": "code",
   "execution_count": 78,
   "id": "55752d9f",
   "metadata": {},
   "outputs": [
    {
     "data": {
      "text/plain": [
       "array([0.15, 0.29, 0.46, 0.53, 0.74, 0.76, 0.91])"
      ]
     },
     "execution_count": 78,
     "metadata": {},
     "output_type": "execute_result"
    }
   ],
   "source": [
    "threshold"
   ]
  },
  {
   "cell_type": "code",
   "execution_count": 85,
   "id": "bc8ba9f1",
   "metadata": {
    "scrolled": true
   },
   "outputs": [
    {
     "name": "stderr",
     "output_type": "stream",
     "text": [
      "<ipython-input-85-03a7c417e35d>:6: UserWarning: color is redundantly defined by the 'color' keyword argument and the fmt string \"r--\" (-> color='r'). The keyword argument will take precedence.\n",
      "  plt.plot([0, 1], [0.5, 0.5],'r--', color = 'black')\n"
     ]
    },
    {
     "data": {
      "text/plain": [
       "<matplotlib.legend.Legend at 0x1b8a7c24b20>"
      ]
     },
     "execution_count": 85,
     "metadata": {},
     "output_type": "execute_result"
    },
    {
     "data": {
      "image/png": "[encoded data removed]",
      "text/plain": [
       "<Figure size 720x504 with 1 Axes>"
      ]
     },
     "metadata": {},
     "output_type": "display_data"
    }
   ],
   "source": [
    "#set up plotting area\n",
    "plt.figure(figsize=(10,7))\n",
    "\n",
    "plt.plot(fpr_ts_ada,tpr_ts_ada,label=\"AdaBoost\")\n",
    "plt.legend(loc = 'lower right')\n",
    "plt.plot([0, 1], [0.5, 0.5],'r--', color = 'black')\n",
    "plt.ylabel('Precision')\n",
    "plt.xlabel('Recall')\n",
    "#add legend\n",
    "\n",
    "plt.plot(fpr_ts_xgb,tpr_ts_xgb,label=\"XGBoost\")\n",
    "\n",
    "plt.plot(fpr_ts_nn,tpr_ts_nn,label=\"Neural Network\")\n",
    "\n",
    "plt.plot(fpr_ts_rf,tpr_ts_rf,label=\"Random Forest\")\n",
    "\n",
    "plt.plot(fpr_ts_dt,tpr_ts_dt,label=\"Decision Trees\")\n",
    "\n",
    "plt.ylim(0.35,1.4)\n",
    "\n",
    "plt.legend()"
   ]
  },
  {
   "cell_type": "code",
   "execution_count": 101,
   "id": "db056b64",
   "metadata": {},
   "outputs": [
    {
     "data": {
      "text/plain": [
       "Text(0.5, 1.0, '')"
      ]
     },
     "execution_count": 101,
     "metadata": {},
     "output_type": "execute_result"
    },
    {
     "data": {
      "image/png": "[encoded data removed]",
      "text/plain": [
       "<Figure size 720x504 with 1 Axes>"
      ]
     },
     "metadata": {},
     "output_type": "display_data"
    }
   ],
   "source": [
    "from sklearn.metrics import precision_recall_curve\n",
    "from sklearn.metrics import plot_precision_recall_curve\n",
    "import matplotlib.pyplot as plt\n",
    "\n",
    "plt.figure(figsize=(10,7))\n",
    "\n",
    "plot_precision_recall_curve(clf, X_test, y_test, ax = plt.gca(),name = \"AdaBoost\")\n",
    "\n",
    "plot_precision_recall_curve(xgb_model, X_test, y_test, ax = plt.gca(),name = \"XGBoost\")\n",
    "\n",
    "plot_precision_recall_curve(rnd_forest, X_test, y_test, ax = plt.gca(),name = \"Random Forest\")\n",
    "\n",
    "plot_precision_recall_curve(dt_final, X_test, y_test, ax = plt.gca(),name = \"Decision Trees\")\n",
    "\n",
    "plot_precision_recall_curve(xgb_model, X_test, y_test, ax = plt.gca(),name = \"Neural Network\")\n",
    "\n",
    "plt.xlabel('Recall')\n",
    "plt.ylabel('Precision')\n",
    "\n",
    "plt.title('')"
   ]
  },
  {
   "cell_type": "code",
   "execution_count": null,
   "id": "143987fc",
   "metadata": {},
   "outputs": [],
   "source": []
  }
 ],
 "metadata": {
  "kernelspec": {
   "display_name": "Python 3",
   "language": "python",
   "name": "python3"
  },
  "language_info": {
   "codemirror_mode": {
    "name": "ipython",
    "version": 3
   },
   "file_extension": ".py",
   "mimetype": "text/x-python",
   "name": "python",
   "nbconvert_exporter": "python",
   "pygments_lexer": "ipython3",
   "version": "3.8.8"
  }
 },
 "nbformat": 4,
 "nbformat_minor": 5
}
