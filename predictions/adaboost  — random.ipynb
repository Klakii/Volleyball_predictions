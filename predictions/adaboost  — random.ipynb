{
 "cells": [
  {
   "cell_type": "code",
   "execution_count": 1,
   "id": "95f8e14a",
   "metadata": {},
   "outputs": [],
   "source": [
    "# import data\n",
    "\n",
    "import re\n",
    "import pandas as pd\n",
    "import numpy as np\n",
    "import sqlite3\n",
    "\n",
    "# read database, change path and database name if needed\n",
    "conn = sqlite3.connect('final_db_2.db')\n",
    "cursor = conn.cursor()\n",
    "result = cursor.execute(\"SELECT name FROM sqlite_master WHERE type='table';\").fetchall()"
   ]
  },
  {
   "cell_type": "code",
   "execution_count": 2,
   "id": "13664e13",
   "metadata": {},
   "outputs": [],
   "source": [
    "# find table names - match data\n",
    "table_names = sorted(list(zip(*result))[0])\n",
    "\n",
    "# create first table\n",
    "test_name = table_names[0]\n",
    "data = pd.read_sql(\"SELECT * FROM '{}'\".format(test_name), conn)\n",
    "\n",
    "# append all match stats to one table\n",
    "for name in table_names[1:]:\n",
    "    data_i = pd.read_sql(\"SELECT * FROM '{}'\".format(name), conn)\n",
    "    data = pd.concat([data, data_i])"
   ]
  },
  {
   "cell_type": "code",
   "execution_count": 3,
   "id": "7cf9ee2d",
   "metadata": {},
   "outputs": [],
   "source": [
    "data = data.drop(columns = ['Team_name_home', 'Round_home', 'Team_name_away', 'Year_away', 'Round_away', \n",
    "                            'Results_away', 'Round_diff', 'Year_diff', 'Team_name_diff' ]) \n",
    "# only need result home "
   ]
  },
  {
   "cell_type": "code",
   "execution_count": 4,
   "id": "a7b54730",
   "metadata": {},
   "outputs": [
    {
     "data": {
      "text/html": [
       "<div>\n",
       "<style scoped>\n",
       "    .dataframe tbody tr th:only-of-type {\n",
       "        vertical-align: middle;\n",
       "    }\n",
       "\n",
       "    .dataframe tbody tr th {\n",
       "        vertical-align: top;\n",
       "    }\n",
       "\n",
       "    .dataframe thead th {\n",
       "        text-align: right;\n",
       "    }\n",
       "</style>\n",
       "<table border=\"1\" class=\"dataframe\">\n",
       "  <thead>\n",
       "    <tr style=\"text-align: right;\">\n",
       "      <th></th>\n",
       "      <th>AVG_1_Points_home</th>\n",
       "      <th>AVG_1_Serve_number_home</th>\n",
       "      <th>AVG_1_Serve_errors_home</th>\n",
       "      <th>AVG_1_Serve_aces_home</th>\n",
       "      <th>AVG_1_Serve_%_effic_home</th>\n",
       "      <th>AVG_1_Rec_number_home</th>\n",
       "      <th>AVG_1_Rec_errors_home</th>\n",
       "      <th>AVG_1_Rec_%_pos_home</th>\n",
       "      <th>AVG_1_Rec_%_perf_home</th>\n",
       "      <th>AVG_1_Atack_number_home</th>\n",
       "      <th>...</th>\n",
       "      <th>Last_3_Points_lost_diff</th>\n",
       "      <th>Last_5_Points_diff</th>\n",
       "      <th>Last_5_Matches_won_diff</th>\n",
       "      <th>Last_5_Matches_lost_diff</th>\n",
       "      <th>Last_5_Sets_won_diff</th>\n",
       "      <th>Last_5_Sets_lost_diff</th>\n",
       "      <th>Last_5_Points_won_diff</th>\n",
       "      <th>Last_5_Points_lost_diff</th>\n",
       "      <th>%_points_poss_home</th>\n",
       "      <th>%_points_poss_away</th>\n",
       "    </tr>\n",
       "  </thead>\n",
       "  <tbody>\n",
       "    <tr>\n",
       "      <th>687</th>\n",
       "      <td>55.0</td>\n",
       "      <td>76.0</td>\n",
       "      <td>13.0</td>\n",
       "      <td>4.0</td>\n",
       "      <td>-0.12</td>\n",
       "      <td>45.0</td>\n",
       "      <td>5.0</td>\n",
       "      <td>55.0</td>\n",
       "      <td>31.0</td>\n",
       "      <td>69.0</td>\n",
       "      <td>...</td>\n",
       "      <td>-12.0</td>\n",
       "      <td>3.0</td>\n",
       "      <td>1.0</td>\n",
       "      <td>-1.0</td>\n",
       "      <td>3.0</td>\n",
       "      <td>-3.0</td>\n",
       "      <td>24.0</td>\n",
       "      <td>-12.0</td>\n",
       "      <td>0.50</td>\n",
       "      <td>0.00</td>\n",
       "    </tr>\n",
       "    <tr>\n",
       "      <th>695</th>\n",
       "      <td>NaN</td>\n",
       "      <td>NaN</td>\n",
       "      <td>NaN</td>\n",
       "      <td>NaN</td>\n",
       "      <td>NaN</td>\n",
       "      <td>NaN</td>\n",
       "      <td>NaN</td>\n",
       "      <td>NaN</td>\n",
       "      <td>NaN</td>\n",
       "      <td>NaN</td>\n",
       "      <td>...</td>\n",
       "      <td>-25.0</td>\n",
       "      <td>4.0</td>\n",
       "      <td>2.0</td>\n",
       "      <td>-2.0</td>\n",
       "      <td>4.0</td>\n",
       "      <td>-4.0</td>\n",
       "      <td>15.0</td>\n",
       "      <td>-25.0</td>\n",
       "      <td>0.56</td>\n",
       "      <td>0.11</td>\n",
       "    </tr>\n",
       "    <tr>\n",
       "      <th>916</th>\n",
       "      <td>NaN</td>\n",
       "      <td>NaN</td>\n",
       "      <td>NaN</td>\n",
       "      <td>NaN</td>\n",
       "      <td>NaN</td>\n",
       "      <td>NaN</td>\n",
       "      <td>NaN</td>\n",
       "      <td>NaN</td>\n",
       "      <td>NaN</td>\n",
       "      <td>NaN</td>\n",
       "      <td>...</td>\n",
       "      <td>17.0</td>\n",
       "      <td>-3.0</td>\n",
       "      <td>-1.0</td>\n",
       "      <td>1.0</td>\n",
       "      <td>-3.0</td>\n",
       "      <td>3.0</td>\n",
       "      <td>-14.0</td>\n",
       "      <td>17.0</td>\n",
       "      <td>0.00</td>\n",
       "      <td>0.50</td>\n",
       "    </tr>\n",
       "    <tr>\n",
       "      <th>921</th>\n",
       "      <td>NaN</td>\n",
       "      <td>NaN</td>\n",
       "      <td>NaN</td>\n",
       "      <td>NaN</td>\n",
       "      <td>NaN</td>\n",
       "      <td>NaN</td>\n",
       "      <td>NaN</td>\n",
       "      <td>NaN</td>\n",
       "      <td>NaN</td>\n",
       "      <td>NaN</td>\n",
       "      <td>...</td>\n",
       "      <td>17.0</td>\n",
       "      <td>-3.0</td>\n",
       "      <td>-1.0</td>\n",
       "      <td>1.0</td>\n",
       "      <td>-3.0</td>\n",
       "      <td>3.0</td>\n",
       "      <td>-20.0</td>\n",
       "      <td>17.0</td>\n",
       "      <td>0.00</td>\n",
       "      <td>0.50</td>\n",
       "    </tr>\n",
       "    <tr>\n",
       "      <th>925</th>\n",
       "      <td>NaN</td>\n",
       "      <td>NaN</td>\n",
       "      <td>NaN</td>\n",
       "      <td>NaN</td>\n",
       "      <td>NaN</td>\n",
       "      <td>NaN</td>\n",
       "      <td>NaN</td>\n",
       "      <td>NaN</td>\n",
       "      <td>NaN</td>\n",
       "      <td>NaN</td>\n",
       "      <td>...</td>\n",
       "      <td>6.0</td>\n",
       "      <td>-3.0</td>\n",
       "      <td>-1.0</td>\n",
       "      <td>1.0</td>\n",
       "      <td>-3.0</td>\n",
       "      <td>3.0</td>\n",
       "      <td>-13.0</td>\n",
       "      <td>6.0</td>\n",
       "      <td>0.33</td>\n",
       "      <td>0.67</td>\n",
       "    </tr>\n",
       "    <tr>\n",
       "      <th>1152</th>\n",
       "      <td>NaN</td>\n",
       "      <td>NaN</td>\n",
       "      <td>NaN</td>\n",
       "      <td>NaN</td>\n",
       "      <td>NaN</td>\n",
       "      <td>NaN</td>\n",
       "      <td>NaN</td>\n",
       "      <td>NaN</td>\n",
       "      <td>NaN</td>\n",
       "      <td>NaN</td>\n",
       "      <td>...</td>\n",
       "      <td>-88.0</td>\n",
       "      <td>-3.0</td>\n",
       "      <td>-1.0</td>\n",
       "      <td>0.0</td>\n",
       "      <td>-3.0</td>\n",
       "      <td>-1.0</td>\n",
       "      <td>-98.0</td>\n",
       "      <td>-88.0</td>\n",
       "      <td>0.00</td>\n",
       "      <td>0.50</td>\n",
       "    </tr>\n",
       "    <tr>\n",
       "      <th>1298</th>\n",
       "      <td>69.0</td>\n",
       "      <td>104.0</td>\n",
       "      <td>16.0</td>\n",
       "      <td>3.0</td>\n",
       "      <td>-0.12</td>\n",
       "      <td>81.0</td>\n",
       "      <td>5.0</td>\n",
       "      <td>49.0</td>\n",
       "      <td>25.0</td>\n",
       "      <td>108.0</td>\n",
       "      <td>...</td>\n",
       "      <td>8.0</td>\n",
       "      <td>1.0</td>\n",
       "      <td>0.0</td>\n",
       "      <td>0.0</td>\n",
       "      <td>1.0</td>\n",
       "      <td>0.0</td>\n",
       "      <td>13.0</td>\n",
       "      <td>8.0</td>\n",
       "      <td>0.17</td>\n",
       "      <td>0.00</td>\n",
       "    </tr>\n",
       "    <tr>\n",
       "      <th>1304</th>\n",
       "      <td>NaN</td>\n",
       "      <td>NaN</td>\n",
       "      <td>NaN</td>\n",
       "      <td>NaN</td>\n",
       "      <td>NaN</td>\n",
       "      <td>NaN</td>\n",
       "      <td>NaN</td>\n",
       "      <td>NaN</td>\n",
       "      <td>NaN</td>\n",
       "      <td>NaN</td>\n",
       "      <td>...</td>\n",
       "      <td>-3.0</td>\n",
       "      <td>3.0</td>\n",
       "      <td>1.0</td>\n",
       "      <td>-1.0</td>\n",
       "      <td>2.0</td>\n",
       "      <td>-2.0</td>\n",
       "      <td>9.0</td>\n",
       "      <td>-3.0</td>\n",
       "      <td>0.50</td>\n",
       "      <td>0.00</td>\n",
       "    </tr>\n",
       "    <tr>\n",
       "      <th>1459</th>\n",
       "      <td>72.0</td>\n",
       "      <td>107.0</td>\n",
       "      <td>26.0</td>\n",
       "      <td>8.0</td>\n",
       "      <td>-14.00</td>\n",
       "      <td>76.0</td>\n",
       "      <td>5.0</td>\n",
       "      <td>47.0</td>\n",
       "      <td>19.0</td>\n",
       "      <td>103.0</td>\n",
       "      <td>...</td>\n",
       "      <td>-13.0</td>\n",
       "      <td>1.0</td>\n",
       "      <td>1.0</td>\n",
       "      <td>-1.0</td>\n",
       "      <td>1.0</td>\n",
       "      <td>-1.0</td>\n",
       "      <td>-8.0</td>\n",
       "      <td>-13.0</td>\n",
       "      <td>0.33</td>\n",
       "      <td>0.17</td>\n",
       "    </tr>\n",
       "    <tr>\n",
       "      <th>1460</th>\n",
       "      <td>85.0</td>\n",
       "      <td>104.0</td>\n",
       "      <td>19.0</td>\n",
       "      <td>9.0</td>\n",
       "      <td>-4.00</td>\n",
       "      <td>97.0</td>\n",
       "      <td>6.0</td>\n",
       "      <td>40.0</td>\n",
       "      <td>13.0</td>\n",
       "      <td>136.0</td>\n",
       "      <td>...</td>\n",
       "      <td>-7.0</td>\n",
       "      <td>0.0</td>\n",
       "      <td>0.0</td>\n",
       "      <td>0.0</td>\n",
       "      <td>0.0</td>\n",
       "      <td>0.0</td>\n",
       "      <td>-9.0</td>\n",
       "      <td>-7.0</td>\n",
       "      <td>0.33</td>\n",
       "      <td>0.33</td>\n",
       "    </tr>\n",
       "  </tbody>\n",
       "</table>\n",
       "<p>10 rows × 278 columns</p>\n",
       "</div>"
      ],
      "text/plain": [
       "      AVG_1_Points_home  AVG_1_Serve_number_home  AVG_1_Serve_errors_home   \n",
       "687                55.0                     76.0                     13.0  \\\n",
       "695                 NaN                      NaN                      NaN   \n",
       "916                 NaN                      NaN                      NaN   \n",
       "921                 NaN                      NaN                      NaN   \n",
       "925                 NaN                      NaN                      NaN   \n",
       "1152                NaN                      NaN                      NaN   \n",
       "1298               69.0                    104.0                     16.0   \n",
       "1304                NaN                      NaN                      NaN   \n",
       "1459               72.0                    107.0                     26.0   \n",
       "1460               85.0                    104.0                     19.0   \n",
       "\n",
       "      AVG_1_Serve_aces_home  AVG_1_Serve_%_effic_home  AVG_1_Rec_number_home   \n",
       "687                     4.0                     -0.12                   45.0  \\\n",
       "695                     NaN                       NaN                    NaN   \n",
       "916                     NaN                       NaN                    NaN   \n",
       "921                     NaN                       NaN                    NaN   \n",
       "925                     NaN                       NaN                    NaN   \n",
       "1152                    NaN                       NaN                    NaN   \n",
       "1298                    3.0                     -0.12                   81.0   \n",
       "1304                    NaN                       NaN                    NaN   \n",
       "1459                    8.0                    -14.00                   76.0   \n",
       "1460                    9.0                     -4.00                   97.0   \n",
       "\n",
       "      AVG_1_Rec_errors_home  AVG_1_Rec_%_pos_home  AVG_1_Rec_%_perf_home   \n",
       "687                     5.0                  55.0                   31.0  \\\n",
       "695                     NaN                   NaN                    NaN   \n",
       "916                     NaN                   NaN                    NaN   \n",
       "921                     NaN                   NaN                    NaN   \n",
       "925                     NaN                   NaN                    NaN   \n",
       "1152                    NaN                   NaN                    NaN   \n",
       "1298                    5.0                  49.0                   25.0   \n",
       "1304                    NaN                   NaN                    NaN   \n",
       "1459                    5.0                  47.0                   19.0   \n",
       "1460                    6.0                  40.0                   13.0   \n",
       "\n",
       "      AVG_1_Atack_number_home  ...  Last_3_Points_lost_diff   \n",
       "687                      69.0  ...                    -12.0  \\\n",
       "695                       NaN  ...                    -25.0   \n",
       "916                       NaN  ...                     17.0   \n",
       "921                       NaN  ...                     17.0   \n",
       "925                       NaN  ...                      6.0   \n",
       "1152                      NaN  ...                    -88.0   \n",
       "1298                    108.0  ...                      8.0   \n",
       "1304                      NaN  ...                     -3.0   \n",
       "1459                    103.0  ...                    -13.0   \n",
       "1460                    136.0  ...                     -7.0   \n",
       "\n",
       "      Last_5_Points_diff  Last_5_Matches_won_diff  Last_5_Matches_lost_diff   \n",
       "687                  3.0                      1.0                      -1.0  \\\n",
       "695                  4.0                      2.0                      -2.0   \n",
       "916                 -3.0                     -1.0                       1.0   \n",
       "921                 -3.0                     -1.0                       1.0   \n",
       "925                 -3.0                     -1.0                       1.0   \n",
       "1152                -3.0                     -1.0                       0.0   \n",
       "1298                 1.0                      0.0                       0.0   \n",
       "1304                 3.0                      1.0                      -1.0   \n",
       "1459                 1.0                      1.0                      -1.0   \n",
       "1460                 0.0                      0.0                       0.0   \n",
       "\n",
       "      Last_5_Sets_won_diff  Last_5_Sets_lost_diff  Last_5_Points_won_diff   \n",
       "687                    3.0                   -3.0                    24.0  \\\n",
       "695                    4.0                   -4.0                    15.0   \n",
       "916                   -3.0                    3.0                   -14.0   \n",
       "921                   -3.0                    3.0                   -20.0   \n",
       "925                   -3.0                    3.0                   -13.0   \n",
       "1152                  -3.0                   -1.0                   -98.0   \n",
       "1298                   1.0                    0.0                    13.0   \n",
       "1304                   2.0                   -2.0                     9.0   \n",
       "1459                   1.0                   -1.0                    -8.0   \n",
       "1460                   0.0                    0.0                    -9.0   \n",
       "\n",
       "      Last_5_Points_lost_diff  %_points_poss_home  %_points_poss_away  \n",
       "687                     -12.0                0.50                0.00  \n",
       "695                     -25.0                0.56                0.11  \n",
       "916                      17.0                0.00                0.50  \n",
       "921                      17.0                0.00                0.50  \n",
       "925                       6.0                0.33                0.67  \n",
       "1152                    -88.0                0.00                0.50  \n",
       "1298                      8.0                0.17                0.00  \n",
       "1304                     -3.0                0.50                0.00  \n",
       "1459                    -13.0                0.33                0.17  \n",
       "1460                     -7.0                0.33                0.33  \n",
       "\n",
       "[10 rows x 278 columns]"
      ]
     },
     "execution_count": 4,
     "metadata": {},
     "output_type": "execute_result"
    }
   ],
   "source": [
    "data[data.isna().any(axis=1)]"
   ]
  },
  {
   "cell_type": "code",
   "execution_count": 5,
   "id": "7358e01f",
   "metadata": {},
   "outputs": [
    {
     "data": {
      "text/plain": [
       "AVG_1_Points_home           0\n",
       "AVG_1_Serve_number_home     0\n",
       "AVG_1_Serve_errors_home     0\n",
       "AVG_1_Serve_aces_home       0\n",
       "AVG_1_Serve_%_effic_home    0\n",
       "                           ..\n",
       "Last_5_Sets_lost_diff       0\n",
       "Last_5_Points_won_diff      0\n",
       "Last_5_Points_lost_diff     0\n",
       "%_points_poss_home          0\n",
       "%_points_poss_away          0\n",
       "Length: 278, dtype: int64"
      ]
     },
     "execution_count": 5,
     "metadata": {},
     "output_type": "execute_result"
    }
   ],
   "source": [
    "data = data.dropna()\n",
    "# check missing values for each of the variables\n",
    "data.isnull().sum()"
   ]
  },
  {
   "cell_type": "code",
   "execution_count": 6,
   "id": "4c264da5",
   "metadata": {},
   "outputs": [
    {
     "data": {
      "text/html": [
       "<div>\n",
       "<style scoped>\n",
       "    .dataframe tbody tr th:only-of-type {\n",
       "        vertical-align: middle;\n",
       "    }\n",
       "\n",
       "    .dataframe tbody tr th {\n",
       "        vertical-align: top;\n",
       "    }\n",
       "\n",
       "    .dataframe thead th {\n",
       "        text-align: right;\n",
       "    }\n",
       "</style>\n",
       "<table border=\"1\" class=\"dataframe\">\n",
       "  <thead>\n",
       "    <tr style=\"text-align: right;\">\n",
       "      <th></th>\n",
       "      <th>AVG_1_Points_home</th>\n",
       "      <th>AVG_1_Serve_number_home</th>\n",
       "      <th>AVG_1_Serve_errors_home</th>\n",
       "      <th>AVG_1_Serve_aces_home</th>\n",
       "      <th>AVG_1_Serve_%_effic_home</th>\n",
       "      <th>AVG_1_Rec_number_home</th>\n",
       "      <th>AVG_1_Rec_errors_home</th>\n",
       "      <th>AVG_1_Rec_%_pos_home</th>\n",
       "      <th>AVG_1_Rec_%_perf_home</th>\n",
       "      <th>AVG_1_Atack_number_home</th>\n",
       "      <th>...</th>\n",
       "      <th>Last_3_Points_lost_diff</th>\n",
       "      <th>Last_5_Points_diff</th>\n",
       "      <th>Last_5_Matches_won_diff</th>\n",
       "      <th>Last_5_Matches_lost_diff</th>\n",
       "      <th>Last_5_Sets_won_diff</th>\n",
       "      <th>Last_5_Sets_lost_diff</th>\n",
       "      <th>Last_5_Points_won_diff</th>\n",
       "      <th>Last_5_Points_lost_diff</th>\n",
       "      <th>%_points_poss_home</th>\n",
       "      <th>%_points_poss_away</th>\n",
       "    </tr>\n",
       "  </thead>\n",
       "  <tbody>\n",
       "    <tr>\n",
       "      <th>0</th>\n",
       "      <td>56.0</td>\n",
       "      <td>85.0</td>\n",
       "      <td>17.0</td>\n",
       "      <td>0.0</td>\n",
       "      <td>-0.20</td>\n",
       "      <td>87.0</td>\n",
       "      <td>7.0</td>\n",
       "      <td>55.0</td>\n",
       "      <td>28.0</td>\n",
       "      <td>115.0</td>\n",
       "      <td>...</td>\n",
       "      <td>32.0</td>\n",
       "      <td>-2.0</td>\n",
       "      <td>-1.0</td>\n",
       "      <td>1.0</td>\n",
       "      <td>0.0</td>\n",
       "      <td>2.0</td>\n",
       "      <td>37.0</td>\n",
       "      <td>32.0</td>\n",
       "      <td>0.11</td>\n",
       "      <td>0.33</td>\n",
       "    </tr>\n",
       "    <tr>\n",
       "      <th>1</th>\n",
       "      <td>33.0</td>\n",
       "      <td>55.0</td>\n",
       "      <td>10.0</td>\n",
       "      <td>3.0</td>\n",
       "      <td>-0.13</td>\n",
       "      <td>55.0</td>\n",
       "      <td>5.0</td>\n",
       "      <td>61.0</td>\n",
       "      <td>27.0</td>\n",
       "      <td>68.0</td>\n",
       "      <td>...</td>\n",
       "      <td>-26.0</td>\n",
       "      <td>-2.0</td>\n",
       "      <td>-1.0</td>\n",
       "      <td>1.0</td>\n",
       "      <td>-3.0</td>\n",
       "      <td>1.0</td>\n",
       "      <td>-49.0</td>\n",
       "      <td>-26.0</td>\n",
       "      <td>0.00</td>\n",
       "      <td>0.33</td>\n",
       "    </tr>\n",
       "    <tr>\n",
       "      <th>2</th>\n",
       "      <td>33.0</td>\n",
       "      <td>55.0</td>\n",
       "      <td>14.0</td>\n",
       "      <td>2.0</td>\n",
       "      <td>-0.22</td>\n",
       "      <td>58.0</td>\n",
       "      <td>5.0</td>\n",
       "      <td>44.0</td>\n",
       "      <td>22.0</td>\n",
       "      <td>72.0</td>\n",
       "      <td>...</td>\n",
       "      <td>-28.0</td>\n",
       "      <td>-1.0</td>\n",
       "      <td>0.0</td>\n",
       "      <td>0.0</td>\n",
       "      <td>-2.0</td>\n",
       "      <td>0.0</td>\n",
       "      <td>-47.0</td>\n",
       "      <td>-28.0</td>\n",
       "      <td>0.00</td>\n",
       "      <td>0.17</td>\n",
       "    </tr>\n",
       "    <tr>\n",
       "      <th>3</th>\n",
       "      <td>71.0</td>\n",
       "      <td>106.0</td>\n",
       "      <td>15.0</td>\n",
       "      <td>5.0</td>\n",
       "      <td>-0.09</td>\n",
       "      <td>87.0</td>\n",
       "      <td>2.0</td>\n",
       "      <td>70.0</td>\n",
       "      <td>43.0</td>\n",
       "      <td>138.0</td>\n",
       "      <td>...</td>\n",
       "      <td>60.0</td>\n",
       "      <td>-2.0</td>\n",
       "      <td>-1.0</td>\n",
       "      <td>1.0</td>\n",
       "      <td>-1.0</td>\n",
       "      <td>3.0</td>\n",
       "      <td>32.0</td>\n",
       "      <td>60.0</td>\n",
       "      <td>0.17</td>\n",
       "      <td>0.50</td>\n",
       "    </tr>\n",
       "    <tr>\n",
       "      <th>4</th>\n",
       "      <td>71.0</td>\n",
       "      <td>93.0</td>\n",
       "      <td>18.0</td>\n",
       "      <td>10.0</td>\n",
       "      <td>-0.09</td>\n",
       "      <td>81.0</td>\n",
       "      <td>3.0</td>\n",
       "      <td>56.0</td>\n",
       "      <td>38.0</td>\n",
       "      <td>117.0</td>\n",
       "      <td>...</td>\n",
       "      <td>-14.0</td>\n",
       "      <td>1.0</td>\n",
       "      <td>0.0</td>\n",
       "      <td>0.0</td>\n",
       "      <td>0.0</td>\n",
       "      <td>-1.0</td>\n",
       "      <td>-20.0</td>\n",
       "      <td>-14.0</td>\n",
       "      <td>0.50</td>\n",
       "      <td>0.33</td>\n",
       "    </tr>\n",
       "  </tbody>\n",
       "</table>\n",
       "<p>5 rows × 278 columns</p>\n",
       "</div>"
      ],
      "text/plain": [
       "   AVG_1_Points_home  AVG_1_Serve_number_home  AVG_1_Serve_errors_home   \n",
       "0               56.0                     85.0                     17.0  \\\n",
       "1               33.0                     55.0                     10.0   \n",
       "2               33.0                     55.0                     14.0   \n",
       "3               71.0                    106.0                     15.0   \n",
       "4               71.0                     93.0                     18.0   \n",
       "\n",
       "   AVG_1_Serve_aces_home  AVG_1_Serve_%_effic_home  AVG_1_Rec_number_home   \n",
       "0                    0.0                     -0.20                   87.0  \\\n",
       "1                    3.0                     -0.13                   55.0   \n",
       "2                    2.0                     -0.22                   58.0   \n",
       "3                    5.0                     -0.09                   87.0   \n",
       "4                   10.0                     -0.09                   81.0   \n",
       "\n",
       "   AVG_1_Rec_errors_home  AVG_1_Rec_%_pos_home  AVG_1_Rec_%_perf_home   \n",
       "0                    7.0                  55.0                   28.0  \\\n",
       "1                    5.0                  61.0                   27.0   \n",
       "2                    5.0                  44.0                   22.0   \n",
       "3                    2.0                  70.0                   43.0   \n",
       "4                    3.0                  56.0                   38.0   \n",
       "\n",
       "   AVG_1_Atack_number_home  ...  Last_3_Points_lost_diff  Last_5_Points_diff   \n",
       "0                    115.0  ...                     32.0                -2.0  \\\n",
       "1                     68.0  ...                    -26.0                -2.0   \n",
       "2                     72.0  ...                    -28.0                -1.0   \n",
       "3                    138.0  ...                     60.0                -2.0   \n",
       "4                    117.0  ...                    -14.0                 1.0   \n",
       "\n",
       "   Last_5_Matches_won_diff  Last_5_Matches_lost_diff  Last_5_Sets_won_diff   \n",
       "0                     -1.0                       1.0                   0.0  \\\n",
       "1                     -1.0                       1.0                  -3.0   \n",
       "2                      0.0                       0.0                  -2.0   \n",
       "3                     -1.0                       1.0                  -1.0   \n",
       "4                      0.0                       0.0                   0.0   \n",
       "\n",
       "   Last_5_Sets_lost_diff  Last_5_Points_won_diff  Last_5_Points_lost_diff   \n",
       "0                    2.0                    37.0                     32.0  \\\n",
       "1                    1.0                   -49.0                    -26.0   \n",
       "2                    0.0                   -47.0                    -28.0   \n",
       "3                    3.0                    32.0                     60.0   \n",
       "4                   -1.0                   -20.0                    -14.0   \n",
       "\n",
       "   %_points_poss_home  %_points_poss_away  \n",
       "0                0.11                0.33  \n",
       "1                0.00                0.33  \n",
       "2                0.00                0.17  \n",
       "3                0.17                0.50  \n",
       "4                0.50                0.33  \n",
       "\n",
       "[5 rows x 278 columns]"
      ]
     },
     "execution_count": 6,
     "metadata": {},
     "output_type": "execute_result"
    }
   ],
   "source": [
    "data.head()"
   ]
  },
  {
   "cell_type": "code",
   "execution_count": 7,
   "id": "b9f5f8d5",
   "metadata": {},
   "outputs": [],
   "source": [
    "# define columns' names\n",
    "new_col2 = ['AVG_1_Points_home',\n",
    " 'AVG_1_Serve_number_home',\n",
    " 'AVG_1_Serve_errors_home',\n",
    " 'AVG_1_Serve_aces_home',\n",
    " 'AVG_1_Serve_%_effic_home',\n",
    " 'AVG_1_Rec_number_home',\n",
    " 'AVG_1_Rec_errors_home',\n",
    " 'AVG_1_Rec_%_pos_home',\n",
    " 'AVG_1_Rec_%_perf_home',\n",
    " 'AVG_1_Atack_number_home',\n",
    " 'AVG_1_Atack_error_home',\n",
    " 'AVG_1_Atack_blocked_home',\n",
    " 'AVG_1_Atack_%_eff_home',\n",
    " 'AVG_1_Block_points_home',\n",
    " 'AVG_1_Points_net_home',\n",
    " 'AVG_3_Points_home',\n",
    " 'AVG_3_Serve_number_home',\n",
    " 'AVG_3_Serve_errors_home',\n",
    " 'AVG_3_Serve_aces_home',\n",
    " 'AVG_3_Serve_%_effic_home',\n",
    " 'AVG_3_Rec_number_home',\n",
    " 'AVG_3_Rec_errors_home',\n",
    " 'AVG_3_Rec_%_pos_home',\n",
    " 'AVG_3_Rec_%_perf_home',\n",
    " 'AVG_3_Atack_number_home',\n",
    " 'AVG_3_Atack_error_home',\n",
    " 'AVG_3_Atack_blocked_home',\n",
    " 'AVG_3_Atack_%_eff_home',\n",
    " 'AVG_3_Block_points_home',\n",
    " 'AVG_3_Points_net_home',\n",
    " 'AVG_5_Points_home',\n",
    " 'AVG_5_Serve_number_home',\n",
    " 'AVG_5_Serve_errors_home',\n",
    " 'AVG_5_Serve_aces_home',\n",
    " 'AVG_5_Serve_%_effic_home',\n",
    " 'AVG_5_Rec_number_home',\n",
    " 'AVG_5_Rec_errors_home',\n",
    " 'AVG_5_Rec_%_pos_home',\n",
    " 'AVG_5_Rec_%_perf_home',\n",
    " 'AVG_5_Atack_number_home',\n",
    " 'AVG_5_Atack_error_home',\n",
    " 'AVG_5_Atack_blocked_home',\n",
    " 'AVG_5_Atack_%_eff_home',\n",
    " 'AVG_5_Block_points_home',\n",
    " 'AVG_5_Points_net_home',\n",
    " 'Height_avg_home',\n",
    " 'Weight_avg_home',\n",
    " 'Range_avg_home',\n",
    " 'Opposite_Height_home',\n",
    " 'Libero_Height_home',\n",
    " 'Outside_Height_home',\n",
    " 'Setter_Height_home',\n",
    " 'Middle_Height_home',\n",
    " 'Opposite_Weight_home',\n",
    " 'Libero_Weight_home',\n",
    " 'Outside_Weight_home',\n",
    " 'Setter_Weight_home',\n",
    " 'Middle_Weight_home',\n",
    " 'Opposite_Range_home',\n",
    " 'Libero_Range_home',\n",
    " 'Outside_Range_home',\n",
    " 'Setter_Range_home',\n",
    " 'Middle_Range_home',\n",
    " 'Points_home',\n",
    " 'Matches_won_home',\n",
    " 'Matches_lost_home',\n",
    " 'Sets_won_home',\n",
    " 'Sets_lost_home',\n",
    " 'Points_won_home',\n",
    " 'Points_lost_home',\n",
    " 'Last_1_Points_home',\n",
    " 'Last_1_Matches_won_home',\n",
    " 'Last_1_Matches_lost_home',\n",
    " 'Last_1_Sets_won_home',\n",
    " 'Last_1_Sets_lost_home',\n",
    " 'Last_1_Points_won_home',\n",
    " 'Last_1_Points_lost_home',\n",
    " 'Last_3_Points_home',\n",
    " 'Last_3_Matches_won_home',\n",
    " 'Last_3_Matches_lost_home',\n",
    " 'Last_3_Sets_won_home',\n",
    " 'Last_3_Sets_lost_home',\n",
    " 'Last_3_Points_won_home',\n",
    " 'Last_3_Points_lost_home',\n",
    " 'Last_5_Points_home',\n",
    " 'Last_5_Matches_won_home',\n",
    " 'Last_5_Matches_lost_home',\n",
    " 'Last_5_Sets_won_home',\n",
    " 'Last_5_Sets_lost_home',\n",
    " 'Last_5_Points_won_home',\n",
    " 'Last_5_Points_lost_home',\n",
    " 'ID',\n",
    " 'Year_home',\n",
    " 'Results_home',\n",
    " 'AVG_1_Points_away',\n",
    " 'AVG_1_Serve_number_away',\n",
    " 'AVG_1_Serve_errors_away',\n",
    " 'AVG_1_Serve_aces_away',\n",
    " 'AVG_1_Serve_%_effic_away',\n",
    " 'AVG_1_Rec_number_away',\n",
    " 'AVG_1_Rec_errors_away',\n",
    " 'AVG_1_Rec_%_pos_away',\n",
    " 'AVG_1_Rec_%_perf_away',\n",
    " 'AVG_1_Atack_number_away',\n",
    " 'AVG_1_Atack_error_away',\n",
    " 'AVG_1_Atack_blocked_away',\n",
    " 'AVG_1_Atack_%_eff_away',\n",
    " 'AVG_1_Block_points_away',\n",
    " 'AVG_1_Points_net_away',\n",
    " 'AVG_3_Points_away',\n",
    " 'AVG_3_Serve_number_away',\n",
    " 'AVG_3_Serve_errors_away',\n",
    " 'AVG_3_Serve_aces_away',\n",
    " 'AVG_3_Serve_%_effic_away',\n",
    " 'AVG_3_Rec_number_away',\n",
    " 'AVG_3_Rec_errors_away',\n",
    " 'AVG_3_Rec_%_pos_away',\n",
    " 'AVG_3_Rec_%_perf_away',\n",
    " 'AVG_3_Atack_number_away',\n",
    " 'AVG_3_Atack_error_away',\n",
    " 'AVG_3_Atack_blocked_away',\n",
    " 'AVG_3_Atack_%_eff_away',\n",
    " 'AVG_3_Block_points_away',\n",
    " 'AVG_3_Points_net_away',\n",
    " 'AVG_5_Points_away',\n",
    " 'AVG_5_Serve_number_away',\n",
    " 'AVG_5_Serve_errors_away',\n",
    " 'AVG_5_Serve_aces_away',\n",
    " 'AVG_5_Serve_%_effic_away',\n",
    " 'AVG_5_Rec_number_away',\n",
    " 'AVG_5_Rec_errors_away',\n",
    " 'AVG_5_Rec_%_pos_away',\n",
    " 'AVG_5_Rec_%_perf_away',\n",
    " 'AVG_5_Atack_number_away',\n",
    " 'AVG_5_Atack_error_away',\n",
    " 'AVG_5_Atack_blocked_away',\n",
    " 'AVG_5_Atack_%_eff_away',\n",
    " 'AVG_5_Block_points_away',\n",
    " 'AVG_5_Points_net_away',\n",
    " 'Height_avg_away',\n",
    " 'Weight_avg_away',\n",
    " 'Range_avg_away',\n",
    " 'Opposite_Height_away',\n",
    " 'Libero_Height_away',\n",
    " 'Outside_Height_away',\n",
    " 'Setter_Height_away',\n",
    " 'Middle_Height_away',\n",
    " 'Opposite_Weight_away',\n",
    " 'Libero_Weight_away',\n",
    " 'Outside_Weight_away',\n",
    " 'Setter_Weight_away',\n",
    " 'Middle_Weight_away',\n",
    " 'Opposite_Range_away',\n",
    " 'Libero_Range_away',\n",
    " 'Outside_Range_away',\n",
    " 'Setter_Range_away',\n",
    " 'Middle_Range_away',\n",
    " 'Points_away',\n",
    " 'Matches_won_away',\n",
    " 'Matches_lost_away',\n",
    " 'Sets_won_away',\n",
    " 'Sets_lost_away',\n",
    " 'Points_won_away',\n",
    " 'Points_lost_away',\n",
    " 'Last_1_Points_away',\n",
    " 'Last_1_Matches_won_away',\n",
    " 'Last_1_Matches_lost_away',\n",
    " 'Last_1_Sets_won_away',\n",
    " 'Last_1_Sets_lost_away',\n",
    " 'Last_1_Points_won_away',\n",
    " 'Last_1_Points_lost_away',\n",
    " 'Last_3_Points_away',\n",
    " 'Last_3_Matches_won_away',\n",
    " 'Last_3_Matches_lost_away',\n",
    " 'Last_3_Sets_won_away',\n",
    " 'Last_3_Sets_lost_away',\n",
    " 'Last_3_Points_won_away',\n",
    " 'Last_3_Points_lost_away',\n",
    " 'Last_5_Points_away',\n",
    " 'Last_5_Matches_won_away',\n",
    " 'Last_5_Matches_lost_away',\n",
    " 'Last_5_Sets_won_away',\n",
    " 'Last_5_Sets_lost_away',\n",
    " 'Last_5_Points_won_away',\n",
    " 'Last_5_Points_lost_away',\n",
    " 'AVG_1_Points_diff',\n",
    " 'AVG_1_Serve_number_diff',\n",
    " 'AVG_1_Serve_errors_diff',\n",
    " 'AVG_1_Serve_aces_diff',\n",
    " 'AVG_1_Serve_%_effic_diff',\n",
    " 'AVG_1_Rec_number_diff',\n",
    " 'AVG_1_Rec_errors_diff',\n",
    " 'AVG_1_Rec_%_pos_diff',\n",
    " 'AVG_1_Rec_%_perf_diff',\n",
    " 'AVG_1_Atack_number_diff',\n",
    " 'AVG_1_Atack_error_diff',\n",
    " 'AVG_1_Atack_blocked_diff',\n",
    " 'AVG_1_Atack_%_eff_diff',\n",
    " 'AVG_1_Block_points_diff',\n",
    " 'AVG_1_Points_net_diff',\n",
    " 'AVG_3_Points_diff',\n",
    " 'AVG_3_Serve_number_diff',\n",
    " 'AVG_3_Serve_errors_diff',\n",
    " 'AVG_3_Serve_aces_diff',\n",
    " 'AVG_3_Serve_%_effic_diff',\n",
    " 'AVG_3_Rec_number_diff',\n",
    " 'AVG_3_Rec_errors_diff',\n",
    " 'AVG_3_Rec_%_pos_diff',\n",
    " 'AVG_3_Rec_%_perf_diff',\n",
    " 'AVG_3_Atack_number_diff',\n",
    " 'AVG_3_Atack_error_diff',\n",
    " 'AVG_3_Atack_blocked_diff',\n",
    " 'AVG_3_Atack_%_eff_diff',\n",
    " 'AVG_3_Block_points_diff',\n",
    " 'AVG_3_Points_net_diff',\n",
    " 'AVG_5_Points_diff',\n",
    " 'AVG_5_Serve_number_diff',\n",
    " 'AVG_5_Serve_errors_diff',\n",
    " 'AVG_5_Serve_aces_diff',\n",
    " 'AVG_5_Serve_%_effic_diff',\n",
    " 'AVG_5_Rec_number_diff',\n",
    " 'AVG_5_Rec_errors_diff',\n",
    " 'AVG_5_Rec_%_pos_diff',\n",
    " 'AVG_5_Rec_%_perf_diff',\n",
    " 'AVG_5_Atack_number_diff',\n",
    " 'AVG_5_Atack_error_diff',\n",
    " 'AVG_5_Atack_blocked_diff',\n",
    " 'AVG_5_Atack_%_eff_diff',\n",
    " 'AVG_5_Block_points_diff',\n",
    " 'AVG_5_Points_net_diff',\n",
    " 'Height_avg_diff',\n",
    " 'Weight_avg_diff',\n",
    " 'Range_avg_diff',\n",
    " 'Opposite_Height_diff',\n",
    " 'Libero_Height_diff',\n",
    " 'Outside_Height_diff',\n",
    " 'Setter_Height_diff',\n",
    " 'Middle_Height_diff',\n",
    " 'Opposite_Weight_diff',\n",
    " 'Libero_Weight_diff',\n",
    " 'Outside_Weight_diff',\n",
    " 'Setter_Weight_diff',\n",
    " 'Middle_Weight_diff',\n",
    " 'Opposite_Range_diff',\n",
    " 'Libero_Range_diff',\n",
    " 'Outside_Range_diff',\n",
    " 'Setter_Range_diff',\n",
    " 'Middle_Range_diff',\n",
    " 'Points_diff',\n",
    " 'Matches_won_diff',\n",
    " 'Matches_lost_diff',\n",
    " 'Sets_won_diff',\n",
    " 'Sets_lost_diff',\n",
    " 'Points_won_diff',\n",
    " 'Points_lost_diff',\n",
    " 'Last_1_Points_diff',\n",
    " 'Last_1_Matches_won_diff',\n",
    " 'Last_1_Matches_lost_diff',\n",
    " 'Last_1_Sets_won_diff',\n",
    " 'Last_1_Sets_lost_diff',\n",
    " 'Last_1_Points_won_diff',\n",
    " 'Last_1_Points_lost_diff',\n",
    " 'Last_3_Points_diff',\n",
    " 'Last_3_Matches_won_diff',\n",
    " 'Last_3_Matches_lost_diff',\n",
    " 'Last_3_Sets_won_diff',\n",
    " 'Last_3_Sets_lost_diff',\n",
    " 'Last_3_Points_won_diff',\n",
    " 'Last_3_Points_lost_diff',\n",
    " 'Last_5_Points_diff',\n",
    " 'Last_5_Matches_won_diff',\n",
    " 'Last_5_Matches_lost_diff',\n",
    " 'Last_5_Sets_won_diff',\n",
    " 'Last_5_Sets_lost_diff',\n",
    " 'Last_5_Points_won_diff',\n",
    " 'Last_5_Points_lost_diff',\n",
    " '%_points_poss_home',\n",
    " '%_points_poss_away',\n",
    " '%_points_poss_diff']"
   ]
  },
  {
   "cell_type": "code",
   "execution_count": 8,
   "id": "c4f45a10",
   "metadata": {},
   "outputs": [],
   "source": [
    "data['%_points_poss_diff'] = data['%_points_poss_home'] - data['%_points_poss_away']"
   ]
  },
  {
   "cell_type": "code",
   "execution_count": 9,
   "id": "f1766f5b",
   "metadata": {},
   "outputs": [],
   "source": [
    "data.columns = new_col2"
   ]
  },
  {
   "cell_type": "code",
   "execution_count": 10,
   "id": "38a66210",
   "metadata": {},
   "outputs": [],
   "source": [
    "# define column with the result\n",
    "df1 = data.pop('Results_home') \n",
    "data['Result']=df1 "
   ]
  },
  {
   "cell_type": "code",
   "execution_count": 11,
   "id": "bbda2add",
   "metadata": {},
   "outputs": [],
   "source": [
    "in_sample = data[data['Year_home'].isin(['2020/2021', '2019/2020', '2018/2019', '2017/2018', '2016/2017', '2015/2016', '2014/2015', '2013/2014', \n",
    "        '2012/2013', '2011/2012', '2010/2011'])]"
   ]
  },
  {
   "cell_type": "code",
   "execution_count": 12,
   "id": "fdab49d4",
   "metadata": {},
   "outputs": [],
   "source": [
    "labels = in_sample.pop('Result')"
   ]
  },
  {
   "cell_type": "code",
   "execution_count": 13,
   "id": "55b3410f",
   "metadata": {},
   "outputs": [],
   "source": [
    "in_sample = in_sample.drop(columns=['ID', 'Year_home'])"
   ]
  },
  {
   "cell_type": "code",
   "execution_count": 14,
   "id": "8847f7bf",
   "metadata": {},
   "outputs": [],
   "source": [
    "# split X and y into training and testing sets\n",
    "from sklearn.model_selection import train_test_split\n",
    "X_train, X_test, y_train, y_test = train_test_split(in_sample, labels, test_size = 0.3, random_state = 30)"
   ]
  },
  {
   "cell_type": "code",
   "execution_count": 15,
   "id": "9cf409ff",
   "metadata": {},
   "outputs": [],
   "source": [
    "out_of_time = data[data['Year_home'] == ('2021/2022')]"
   ]
  },
  {
   "cell_type": "code",
   "execution_count": 16,
   "id": "73c9bd91",
   "metadata": {},
   "outputs": [],
   "source": [
    "y_oot = out_of_time['Result']"
   ]
  },
  {
   "cell_type": "code",
   "execution_count": 17,
   "id": "ae945d53",
   "metadata": {},
   "outputs": [],
   "source": [
    "X_oot = out_of_time.drop(columns=['ID', 'Result', 'Year_home'])"
   ]
  },
  {
   "cell_type": "code",
   "execution_count": 18,
   "id": "bc82e683",
   "metadata": {
    "scrolled": false
   },
   "outputs": [
    {
     "name": "stdout",
     "output_type": "stream",
     "text": [
      "Result\n",
      "1.0    0.53257\n",
      "0.0    0.46743\n",
      "Name: proportion, dtype: float64\n",
      "Result\n",
      "1.0    0.561475\n",
      "0.0    0.438525\n",
      "Name: proportion, dtype: float64\n",
      "Result\n",
      "1.0    0.525714\n",
      "0.0    0.474286\n",
      "Name: proportion, dtype: float64\n"
     ]
    }
   ],
   "source": [
    "print(y_train.value_counts(normalize=True))  \n",
    "print(y_test.value_counts(normalize=True))\n",
    "print(y_oot.value_counts(normalize=True))"
   ]
  },
  {
   "cell_type": "code",
   "execution_count": 19,
   "id": "15d3ae51",
   "metadata": {},
   "outputs": [
    {
     "name": "stdout",
     "output_type": "stream",
     "text": [
      "Result\n",
      "1.0    605\n",
      "0.0    531\n",
      "Name: count, dtype: int64\n",
      "Result\n",
      "1.0    274\n",
      "0.0    214\n",
      "Name: count, dtype: int64\n",
      "Result\n",
      "1.0    92\n",
      "0.0    83\n",
      "Name: count, dtype: int64\n"
     ]
    }
   ],
   "source": [
    "print(y_train.value_counts(normalize=False))  \n",
    "print(y_test.value_counts(normalize=False))\n",
    "print(y_oot.value_counts(normalize=False))"
   ]
  },
  {
   "cell_type": "code",
   "execution_count": null,
   "id": "adc054fd",
   "metadata": {},
   "outputs": [],
   "source": []
  },
  {
   "cell_type": "code",
   "execution_count": 20,
   "id": "950f96f6",
   "metadata": {},
   "outputs": [],
   "source": [
    "pl  = pd.DataFrame([['In-sample \\ndataset', 0.53257, 'Home win'], \n",
    "                    ['In-sample \\ndataset', 0.46743, 'Home defeat'], \n",
    "                    ['Out-of-sample \\ndataset', 0.561475, 'Home win'],\n",
    "                    ['Out-of-sample \\ndataset', 0.438525, 'Home defeat'],\n",
    "                    ['Out-of-time \\ndataset', 0.525714, 'Home win'],\n",
    "                    ['Out-of-time \\ndataset', 0.474286, 'Home defeat'],\n",
    "                   ], columns = ['Name', 'Value', 'Result'])"
   ]
  },
  {
   "cell_type": "code",
   "execution_count": 21,
   "id": "66bc2e58",
   "metadata": {},
   "outputs": [],
   "source": [
    "pl2 = pd.DataFrame([['In-sample \\ndataset', 605, 'Home win'], \n",
    "                    ['In-sample \\ndataset', 531, 'Home defeat'], \n",
    "                    ['Out-of-sample \\ndataset', 274, 'Home win'],\n",
    "                    ['Out-of-sample \\ndataset', 214, 'Home defeat'],\n",
    "                    ['Out-of-time \\ndataset', 92, 'Home win'],\n",
    "                    ['Out-of-time \\ndataset', 83, 'Home defeat'],\n",
    "                   ], columns = ['Name', 'Value', 'Result'])"
   ]
  },
  {
   "cell_type": "code",
   "execution_count": 22,
   "id": "18e27964",
   "metadata": {},
   "outputs": [
    {
     "data": {
      "text/html": [
       "<div>\n",
       "<style scoped>\n",
       "    .dataframe tbody tr th:only-of-type {\n",
       "        vertical-align: middle;\n",
       "    }\n",
       "\n",
       "    .dataframe tbody tr th {\n",
       "        vertical-align: top;\n",
       "    }\n",
       "\n",
       "    .dataframe thead th {\n",
       "        text-align: right;\n",
       "    }\n",
       "</style>\n",
       "<table border=\"1\" class=\"dataframe\">\n",
       "  <thead>\n",
       "    <tr style=\"text-align: right;\">\n",
       "      <th></th>\n",
       "      <th>Name</th>\n",
       "      <th>Value</th>\n",
       "      <th>Result</th>\n",
       "    </tr>\n",
       "  </thead>\n",
       "  <tbody>\n",
       "    <tr>\n",
       "      <th>0</th>\n",
       "      <td>In-sample \\ndataset</td>\n",
       "      <td>0.532570</td>\n",
       "      <td>Home win</td>\n",
       "    </tr>\n",
       "    <tr>\n",
       "      <th>1</th>\n",
       "      <td>In-sample \\ndataset</td>\n",
       "      <td>0.467430</td>\n",
       "      <td>Home defeat</td>\n",
       "    </tr>\n",
       "    <tr>\n",
       "      <th>2</th>\n",
       "      <td>Out-of-sample \\ndataset</td>\n",
       "      <td>0.561475</td>\n",
       "      <td>Home win</td>\n",
       "    </tr>\n",
       "    <tr>\n",
       "      <th>3</th>\n",
       "      <td>Out-of-sample \\ndataset</td>\n",
       "      <td>0.438525</td>\n",
       "      <td>Home defeat</td>\n",
       "    </tr>\n",
       "    <tr>\n",
       "      <th>4</th>\n",
       "      <td>Out-of-time \\ndataset</td>\n",
       "      <td>0.525714</td>\n",
       "      <td>Home win</td>\n",
       "    </tr>\n",
       "    <tr>\n",
       "      <th>5</th>\n",
       "      <td>Out-of-time \\ndataset</td>\n",
       "      <td>0.474286</td>\n",
       "      <td>Home defeat</td>\n",
       "    </tr>\n",
       "  </tbody>\n",
       "</table>\n",
       "</div>"
      ],
      "text/plain": [
       "                      Name     Value       Result\n",
       "0      In-sample \\ndataset  0.532570     Home win\n",
       "1      In-sample \\ndataset  0.467430  Home defeat\n",
       "2  Out-of-sample \\ndataset  0.561475     Home win\n",
       "3  Out-of-sample \\ndataset  0.438525  Home defeat\n",
       "4    Out-of-time \\ndataset  0.525714     Home win\n",
       "5    Out-of-time \\ndataset  0.474286  Home defeat"
      ]
     },
     "execution_count": 22,
     "metadata": {},
     "output_type": "execute_result"
    }
   ],
   "source": [
    "pl"
   ]
  },
  {
   "cell_type": "code",
   "execution_count": 23,
   "id": "2c81fb01",
   "metadata": {},
   "outputs": [
    {
     "data": {
      "image/png": "[encoded data removed]",
      "text/plain": [
       "<Figure size 936x648 with 1 Axes>"
      ]
     },
     "metadata": {
      "needs_background": "light"
     },
     "output_type": "display_data"
    }
   ],
   "source": [
    "import seaborn as sns\n",
    "from matplotlib import pyplot as plt\n",
    "plt.figure(figsize=(13,9))\n",
    "rrr = sns.barplot(data=pl2, x=\"Name\", y='Value', hue=\"Result\", palette=['darkblue', 'firebrick'])\n",
    "rrr.set_ylim(0, 700)\n",
    "rrr.legend_.set_title(None)\n",
    "rrr.set_xlabel(\"\")\n",
    "rrr.set_ylabel(\"number of matches\",fontsize=16)\n",
    "# add values above bars\n",
    "for container in rrr.containers:\n",
    "    rrr.bar_label(container, fmt='%.0f')\n",
    "    \n"
   ]
  },
  {
   "cell_type": "code",
   "execution_count": null,
   "id": "f80b59b1",
   "metadata": {},
   "outputs": [],
   "source": []
  },
  {
   "cell_type": "code",
   "execution_count": 24,
   "id": "1cda112b",
   "metadata": {},
   "outputs": [],
   "source": [
    "from sklearn.ensemble import AdaBoostClassifier\n",
    "from sklearn.model_selection import GridSearchCV, cross_validate, validation_curve\n",
    "from sklearn.metrics import roc_auc_score"
   ]
  },
  {
   "cell_type": "code",
   "execution_count": 25,
   "id": "d6e30b98",
   "metadata": {},
   "outputs": [],
   "source": [
    "# create GBM model\n",
    "ab_clf = AdaBoostClassifier(random_state=30)"
   ]
  },
  {
   "cell_type": "code",
   "execution_count": 26,
   "id": "ab4dd91b",
   "metadata": {},
   "outputs": [
    {
     "name": "stdout",
     "output_type": "stream",
     "text": [
      "Fitting 5 folds for each of 72 candidates, totalling 360 fits\n"
     ]
    },
    {
     "data": {
      "text/plain": [
       "GridSearchCV(cv=5, estimator=AdaBoostClassifier(random_state=30), n_jobs=1,\n",
       "             param_grid={'algorithm': ['SAMME', 'SAMME.R'],\n",
       "                         'learning_rate': [0.1, 0.5, 1],\n",
       "                         'n_estimators': [2, 3, 4, 5, 6, 7, 8, 9, 10, 11, 12,\n",
       "                                          20]},\n",
       "             verbose=1)"
      ]
     },
     "execution_count": 26,
     "metadata": {},
     "output_type": "execute_result"
    }
   ],
   "source": [
    "parameters = {\n",
    "    'n_estimators': [2, 3, 4, 5, 6, 7, 8, 9, 10, 11, 12, 20],\n",
    "    'learning_rate': [0.1, 0.5, 1],\n",
    "    'algorithm': ['SAMME', 'SAMME.R']\n",
    "}\n",
    "clf = GridSearchCV(ab_clf, parameters, cv=5, verbose=1, n_jobs=1)\n",
    "clf.fit(X_train, y_train)"
   ]
  },
  {
   "cell_type": "code",
   "execution_count": 27,
   "id": "7750b31d",
   "metadata": {},
   "outputs": [],
   "source": [
    "y_pred_train = clf.predict_proba(X_train)[:,1]\n",
    "y_pred_test = clf.predict_proba(X_test)[:,1]"
   ]
  },
  {
   "cell_type": "code",
   "execution_count": 28,
   "id": "73e7a127",
   "metadata": {},
   "outputs": [],
   "source": [
    "from sklearn.metrics import confusion_matrix, accuracy_score, roc_curve, auc\n",
    "\n",
    "#train data ROC\n",
    "fpr_tr, tpr_tr, threshold = roc_curve(y_train, y_pred_train)\n",
    "roc_auc_train = auc(fpr_tr, tpr_tr)\n",
    "\n",
    "#test data ROC\n",
    "fpr_ts, tpr_ts, threshold = roc_curve(y_test, y_pred_test)\n",
    "roc_auc_test = auc(fpr_ts, tpr_ts)"
   ]
  },
  {
   "cell_type": "code",
   "execution_count": 58,
   "id": "4500f9a0",
   "metadata": {},
   "outputs": [
    {
     "data": {
      "text/plain": [
       "array([0.        , 0.21962617, 0.22429907, 0.29906542, 0.37850467,\n",
       "       0.37850467, 0.53738318, 0.56074766, 1.        ])"
      ]
     },
     "execution_count": 58,
     "metadata": {},
     "output_type": "execute_result"
    }
   ],
   "source": [
    "fpr_ts"
   ]
  },
  {
   "cell_type": "code",
   "execution_count": 59,
   "id": "1a3ab282",
   "metadata": {},
   "outputs": [
    {
     "data": {
      "text/plain": [
       "array([0.        , 0.63138686, 0.6350365 , 0.7189781 , 0.76642336,\n",
       "       0.77737226, 0.86131387, 0.87226277, 1.        ])"
      ]
     },
     "execution_count": 59,
     "metadata": {},
     "output_type": "execute_result"
    }
   ],
   "source": [
    "tpr_ts"
   ]
  },
  {
   "cell_type": "code",
   "execution_count": 57,
   "id": "84889ca7",
   "metadata": {},
   "outputs": [
    {
     "name": "stderr",
     "output_type": "stream",
     "text": [
      "<ipython-input-57-a97c564d3129>:11: UserWarning: color is redundantly defined by the 'color' keyword argument and the fmt string \"r--\" (-> color='r'). The keyword argument will take precedence.\n",
      "  plt.plot([0, 1], [0, 1],'r--', color = 'black')\n"
     ]
    },
    {
     "data": {
      "text/plain": [
       "<matplotlib.legend.Legend at 0x146bd530f40>"
      ]
     },
     "execution_count": 57,
     "metadata": {},
     "output_type": "execute_result"
    },
    {
     "data": {
      "image/png": "[encoded data removed]",
      "text/plain": [
       "<Figure size 576x396 with 1 Axes>"
      ]
     },
     "metadata": {},
     "output_type": "display_data"
    }
   ],
   "source": [
    "#test data ROC\n",
    "fpr_ts, tpr_ts, threshold = roc_curve(y_test, y_pred_test)\n",
    "roc_auc_test = auc(fpr_ts, tpr_ts)\n",
    "\n",
    "#set up plotting area\n",
    "plt.figure(0).clf()\n",
    "\n",
    "\n",
    "plt.plot(fpr_ts,tpr_ts,label=\"Gradient Boosting, AUC=\"+str(np.round(roc_auc_test, 2)))\n",
    "plt.legend(loc = 'lower right')\n",
    "plt.plot([0, 1], [0, 1],'r--', color = 'black')\n",
    "plt.ylabel('True Positive Rate')\n",
    "plt.xlabel('False Positive Rate')\n",
    "#add legend\n",
    "plt.legend()"
   ]
  },
  {
   "cell_type": "code",
   "execution_count": null,
   "id": "2b53f342",
   "metadata": {},
   "outputs": [],
   "source": []
  },
  {
   "cell_type": "code",
   "execution_count": 29,
   "id": "12dac3b0",
   "metadata": {},
   "outputs": [
    {
     "name": "stdout",
     "output_type": "stream",
     "text": [
      "In sample set score: 0.718\n",
      "Out of sample set score: 0.711\n",
      "In sample set auc: 0.756\n",
      "Out of sample set auc: 0.744\n"
     ]
    }
   ],
   "source": [
    "# print scores on training and test set\n",
    "print('In sample set score: {:.3f}'.format(clf.score(X_train, y_train)))\n",
    "print('Out of sample set score: {:.3f}'.format(clf.score(X_test, y_test)))\n",
    "print('In sample set auc: {:.3f}'.format(roc_auc_train))\n",
    "print('Out of sample set auc: {:.3f}'.format(roc_auc_test))"
   ]
  },
  {
   "cell_type": "code",
   "execution_count": 30,
   "id": "aa7e5e3c",
   "metadata": {},
   "outputs": [],
   "source": [
    "y_oot_pred = clf.predict_proba(X_oot)[:,1]"
   ]
  },
  {
   "cell_type": "code",
   "execution_count": 31,
   "id": "a6533986",
   "metadata": {},
   "outputs": [
    {
     "name": "stdout",
     "output_type": "stream",
     "text": [
      "Out of time accuracy: 0.7486\n",
      "Out of time set AUC: 0.7672\n"
     ]
    }
   ],
   "source": [
    "print('Out of time accuracy: {:.4f}'.format(clf.score(X_oot, y_oot)))\n",
    "print('Out of time set AUC: {:.4f}'.format(roc_auc_score(y_oot, y_oot_pred)))"
   ]
  },
  {
   "cell_type": "code",
   "execution_count": null,
   "id": "511409bf",
   "metadata": {},
   "outputs": [],
   "source": []
  },
  {
   "cell_type": "code",
   "execution_count": 32,
   "id": "13f2fc58",
   "metadata": {},
   "outputs": [
    {
     "data": {
      "text/plain": [
       "AdaBoostClassifier(algorithm='SAMME', learning_rate=0.1, n_estimators=6,\n",
       "                   random_state=30)"
      ]
     },
     "execution_count": 32,
     "metadata": {},
     "output_type": "execute_result"
    }
   ],
   "source": [
    "clf_final = AdaBoostClassifier(random_state=30, n_estimators = 6, learning_rate = 0.1, algorithm = 'SAMME')\n",
    "clf_final.fit(X_train, y_train)"
   ]
  },
  {
   "cell_type": "code",
   "execution_count": null,
   "id": "4439b968",
   "metadata": {},
   "outputs": [],
   "source": []
  },
  {
   "cell_type": "code",
   "execution_count": 33,
   "id": "174b54e2",
   "metadata": {},
   "outputs": [],
   "source": [
    "y_oot = y_oot.reset_index(drop=True)\n",
    "y_oot_pred = pd.Series(y_oot_pred).reset_index(drop=True)"
   ]
  },
  {
   "cell_type": "code",
   "execution_count": 34,
   "id": "a59ecd22",
   "metadata": {},
   "outputs": [],
   "source": [
    "import numpy as np\n",
    "np.random.seed(1234)\n",
    "rng=np.random.RandomState(1234)\n",
    "\n",
    "def get_ci_auc( y_true, y_pred ): \n",
    "\n",
    "    from scipy.stats import sem\n",
    "    from sklearn.metrics import roc_auc_score \n",
    "   \n",
    "    n_bootstraps = 10000 \n",
    "    bootstrapped_scores = []   \n",
    "   \n",
    "    for i in range(n_bootstraps):\n",
    "        # bootstrap by sampling with replacement on the prediction indices\n",
    "        indices = rng.randint(0, len(y_pred) - 1, len(y_pred))\n",
    "       \n",
    "        if len(np.unique(y_true[indices])) < 2:\n",
    "            # We need at least one positive and one negative sample for ROC AUC\n",
    "            # to be defined: reject the sample\n",
    "            continue\n",
    "\n",
    "        score = roc_auc_score(y_true[indices], y_pred[indices])\n",
    "        bootstrapped_scores.append(score)   \n",
    " \n",
    "    sorted_scores = np.array(bootstrapped_scores)\n",
    "    sorted_scores.sort()\n",
    "\n",
    "   # 90% c.i.\n",
    "   # confidence_lower = sorted_scores[int(0.05 * len(sorted_scores))]\n",
    "   # confidence_upper = sorted_scores[int(0.95 * len(sorted_scores))]\n",
    " \n",
    "    # 95% c.i.\n",
    "    confidence_lower = sorted_scores[int(0.025 * len(sorted_scores))]\n",
    "    confidence_upper = sorted_scores[int(0.975 * len(sorted_scores))]\n",
    "   \n",
    "    return confidence_lower,confidence_upper"
   ]
  },
  {
   "cell_type": "code",
   "execution_count": 35,
   "id": "b75628d4",
   "metadata": {},
   "outputs": [],
   "source": [
    "ci_lower, ci_upper = get_ci_auc(y_oot, y_oot_pred)"
   ]
  },
  {
   "cell_type": "code",
   "execution_count": 36,
   "id": "18e74f22",
   "metadata": {},
   "outputs": [
    {
     "name": "stdout",
     "output_type": "stream",
     "text": [
      "Out of time set AUC: 0.7672, with confidence interval: 0.7039 - 0.8377\n"
     ]
    }
   ],
   "source": [
    "print('Out of time set AUC: {:.4f}, with confidence interval: {:.4f} - {:.4f}'.format(roc_auc_score(y_oot, y_oot_pred), ci_lower, ci_upper))"
   ]
  },
  {
   "cell_type": "code",
   "execution_count": null,
   "id": "f9c65588",
   "metadata": {},
   "outputs": [],
   "source": []
  },
  {
   "cell_type": "code",
   "execution_count": 37,
   "id": "34e86ee3",
   "metadata": {},
   "outputs": [],
   "source": [
    "y_pred_test_all = clf.predict_proba(X_test)"
   ]
  },
  {
   "cell_type": "code",
   "execution_count": 38,
   "id": "a34cb88d",
   "metadata": {},
   "outputs": [
    {
     "data": {
      "text/html": [
       "<div>\n",
       "<style scoped>\n",
       "    .dataframe tbody tr th:only-of-type {\n",
       "        vertical-align: middle;\n",
       "    }\n",
       "\n",
       "    .dataframe tbody tr th {\n",
       "        vertical-align: top;\n",
       "    }\n",
       "\n",
       "    .dataframe thead th {\n",
       "        text-align: right;\n",
       "    }\n",
       "</style>\n",
       "<table border=\"1\" class=\"dataframe\">\n",
       "  <thead>\n",
       "    <tr style=\"text-align: right;\">\n",
       "      <th></th>\n",
       "      <th>defeat</th>\n",
       "      <th>win</th>\n",
       "    </tr>\n",
       "  </thead>\n",
       "  <tbody>\n",
       "    <tr>\n",
       "      <th>0</th>\n",
       "      <td>0.731059</td>\n",
       "      <td>0.268941</td>\n",
       "    </tr>\n",
       "    <tr>\n",
       "      <th>1</th>\n",
       "      <td>0.268941</td>\n",
       "      <td>0.731059</td>\n",
       "    </tr>\n",
       "    <tr>\n",
       "      <th>2</th>\n",
       "      <td>0.268941</td>\n",
       "      <td>0.731059</td>\n",
       "    </tr>\n",
       "    <tr>\n",
       "      <th>3</th>\n",
       "      <td>0.268941</td>\n",
       "      <td>0.731059</td>\n",
       "    </tr>\n",
       "    <tr>\n",
       "      <th>4</th>\n",
       "      <td>0.268941</td>\n",
       "      <td>0.731059</td>\n",
       "    </tr>\n",
       "    <tr>\n",
       "      <th>...</th>\n",
       "      <td>...</td>\n",
       "      <td>...</td>\n",
       "    </tr>\n",
       "    <tr>\n",
       "      <th>483</th>\n",
       "      <td>0.596151</td>\n",
       "      <td>0.403849</td>\n",
       "    </tr>\n",
       "    <tr>\n",
       "      <th>484</th>\n",
       "      <td>0.731059</td>\n",
       "      <td>0.268941</td>\n",
       "    </tr>\n",
       "    <tr>\n",
       "      <th>485</th>\n",
       "      <td>0.268941</td>\n",
       "      <td>0.731059</td>\n",
       "    </tr>\n",
       "    <tr>\n",
       "      <th>486</th>\n",
       "      <td>0.731059</td>\n",
       "      <td>0.268941</td>\n",
       "    </tr>\n",
       "    <tr>\n",
       "      <th>487</th>\n",
       "      <td>0.268941</td>\n",
       "      <td>0.731059</td>\n",
       "    </tr>\n",
       "  </tbody>\n",
       "</table>\n",
       "<p>488 rows × 2 columns</p>\n",
       "</div>"
      ],
      "text/plain": [
       "       defeat       win\n",
       "0    0.731059  0.268941\n",
       "1    0.268941  0.731059\n",
       "2    0.268941  0.731059\n",
       "3    0.268941  0.731059\n",
       "4    0.268941  0.731059\n",
       "..        ...       ...\n",
       "483  0.596151  0.403849\n",
       "484  0.731059  0.268941\n",
       "485  0.268941  0.731059\n",
       "486  0.731059  0.268941\n",
       "487  0.268941  0.731059\n",
       "\n",
       "[488 rows x 2 columns]"
      ]
     },
     "execution_count": 38,
     "metadata": {},
     "output_type": "execute_result"
    }
   ],
   "source": [
    "df_plot = pd.DataFrame(y_pred_test_all, columns = ['defeat','win'])\n",
    "df_plot"
   ]
  },
  {
   "cell_type": "code",
   "execution_count": 39,
   "id": "71d7bdee",
   "metadata": {},
   "outputs": [
    {
     "data": {
      "text/plain": [
       "array([[<AxesSubplot: title={'center': 'defeat'}>,\n",
       "        <AxesSubplot: title={'center': 'win'}>]], dtype=object)"
      ]
     },
     "execution_count": 39,
     "metadata": {},
     "output_type": "execute_result"
    },
    {
     "data": {
      "image/png": "[encoded data removed]",
      "text/plain": [
       "<Figure size 1080x720 with 2 Axes>"
      ]
     },
     "metadata": {
      "needs_background": "light"
     },
     "output_type": "display_data"
    }
   ],
   "source": [
    "df_plot.hist(bins = 60, figsize=(15, 10), range=[0.1,0.9])"
   ]
  },
  {
   "cell_type": "code",
   "execution_count": null,
   "id": "4ddaf33e",
   "metadata": {},
   "outputs": [],
   "source": []
  },
  {
   "cell_type": "code",
   "execution_count": 40,
   "id": "d9ccbd0f",
   "metadata": {},
   "outputs": [],
   "source": [
    "from sklearn.model_selection import learning_curve\n",
    "train_sizes, train_scores, test_scores = learning_curve(ab_clf, X_train, y_train, cv=10,\n",
    "                                                        scoring='accuracy', n_jobs=-1, \n",
    "                                                        train_sizes=np.linspace(0.01, 1.0, 100))\n",
    "\n",
    "train_mean = np.mean(train_scores, axis=1)\n",
    "validation_mean = np.mean(test_scores, axis=1)"
   ]
  },
  {
   "cell_type": "code",
   "execution_count": 41,
   "id": "1446e9e8",
   "metadata": {},
   "outputs": [
    {
     "name": "stderr",
     "output_type": "stream",
     "text": [
      "<ipython-input-41-f15b17680584>:2: MatplotlibDeprecationWarning: The seaborn styles shipped by Matplotlib are deprecated since 3.6, as they no longer correspond to the styles shipped by seaborn. However, they will remain available as 'seaborn-v0_8-<style>'. Alternatively, directly use the seaborn API instead.\n",
      "  plt.style.use('seaborn')\n"
     ]
    },
    {
     "data": {
      "image/png": "[encoded data removed]",
      "text/plain": [
       "<Figure size 576x396 with 1 Axes>"
      ]
     },
     "metadata": {},
     "output_type": "display_data"
    }
   ],
   "source": [
    "from matplotlib import pyplot as plt\n",
    "plt.style.use('seaborn')\n",
    "plt.plot(train_sizes, train_mean, label = 'Training accuracy')\n",
    "plt.plot(train_sizes, validation_mean, label = 'Validation accuracy')\n",
    "plt.ylabel('Accuracy', fontsize = 14)\n",
    "plt.xlabel('Training set size', fontsize = 14)\n",
    "plt.title('Learning curve for ADAboost', fontsize = 18, y = 1.03)\n",
    "plt.legend();"
   ]
  },
  {
   "cell_type": "code",
   "execution_count": null,
   "id": "728de486",
   "metadata": {},
   "outputs": [],
   "source": []
  },
  {
   "cell_type": "code",
   "execution_count": 42,
   "id": "82cef68e",
   "metadata": {
    "scrolled": false
   },
   "outputs": [
    {
     "data": {
      "image/png": "[encoded data removed]",
      "text/plain": [
       "<Figure size 720x504 with 1 Axes>"
      ]
     },
     "metadata": {},
     "output_type": "display_data"
    }
   ],
   "source": [
    "import matplotlib.pyplot as plt\n",
    "plt.figure(figsize=(10,7))\n",
    "plt.hist(df_plot.iloc[:, 0], bins=50, label='Defeat', color='darkblue')\n",
    "plt.hist(df_plot.iloc[:, 1], bins=50, label='Win', alpha=0.7, color='red')\n",
    "plt.xlabel('Probability of each result ', fontsize=25)\n",
    "plt.ylabel('Frequency', fontsize=25)\n",
    "plt.legend(fontsize=15)\n",
    "plt.tick_params(axis='both', labelsize=25, pad=5)\n",
    "plt.show() "
   ]
  },
  {
   "cell_type": "code",
   "execution_count": null,
   "id": "c893ba5e",
   "metadata": {},
   "outputs": [],
   "source": []
  },
  {
   "cell_type": "code",
   "execution_count": 43,
   "id": "3d8a0842",
   "metadata": {},
   "outputs": [],
   "source": [
    "y_labels = clf.predict(X_test)"
   ]
  },
  {
   "cell_type": "code",
   "execution_count": 44,
   "id": "59b77706",
   "metadata": {},
   "outputs": [],
   "source": [
    "plott = [y_test, y_labels]"
   ]
  },
  {
   "cell_type": "code",
   "execution_count": 45,
   "id": "07ce24cc",
   "metadata": {},
   "outputs": [
    {
     "data": {
      "image/png": "[encoded data removed]",
      "text/plain": [
       "<Figure size 576x396 with 1 Axes>"
      ]
     },
     "metadata": {},
     "output_type": "display_data"
    }
   ],
   "source": [
    "#Plot Real vs Predict\n",
    "colors = ['red', 'darkblue']\n",
    "labels = ['Real', 'Predicted']\n",
    "\n",
    "plt.hist(plott, label=labels, color=colors, histtype='bar')\n",
    "plt.title(\"Real vs Predicted\")\n",
    "plt.legend(loc='best')\n",
    "plt.show()"
   ]
  },
  {
   "cell_type": "code",
   "execution_count": null,
   "id": "5caa2d8e",
   "metadata": {},
   "outputs": [],
   "source": []
  },
  {
   "cell_type": "code",
   "execution_count": 46,
   "id": "2030a2c4",
   "metadata": {},
   "outputs": [],
   "source": [
    "# optimal treshhold"
   ]
  },
  {
   "cell_type": "code",
   "execution_count": 47,
   "id": "a2aafa86",
   "metadata": {},
   "outputs": [],
   "source": [
    "from sklearn.metrics import accuracy_score, precision_score, recall_score, f1_score, roc_auc_score, roc_curve\n",
    "predictions_test = clf.predict(X_test)\n",
    "\n",
    "false_pos_rate, true_pos_rate, proba = roc_curve(y_test, y_pred_test)\n",
    "\n",
    "optimal_proba_cutoff = sorted(list(zip(np.abs(true_pos_rate - false_pos_rate), proba)), key=lambda i: i[0], reverse=True)[0][1]\n",
    "roc_predictions = [1 if i >= optimal_proba_cutoff else 0 for i in y_pred_test]"
   ]
  },
  {
   "cell_type": "code",
   "execution_count": 48,
   "id": "0e4d9434",
   "metadata": {},
   "outputs": [
    {
     "data": {
      "text/plain": [
       "0.5855139645743273"
      ]
     },
     "execution_count": 48,
     "metadata": {},
     "output_type": "execute_result"
    }
   ],
   "source": [
    "# optimal treshhold\n",
    "optimal_proba_cutoff"
   ]
  },
  {
   "cell_type": "code",
   "execution_count": 49,
   "id": "85c83be7",
   "metadata": {},
   "outputs": [
    {
     "name": "stdout",
     "output_type": "stream",
     "text": [
      "Accuracy Score Before and After Thresholding: 0.7110655737704918, 0.7110655737704918\n",
      "Precision Score Before and After Thresholding: 0.7547892720306514, 0.7547892720306514\n",
      "Recall Score Before and After Thresholding: 0.718978102189781, 0.718978102189781\n",
      "F1 Score Before and After Thresholding: 0.7364485981308411, 0.7364485981308411\n"
     ]
    }
   ],
   "source": [
    "print(\"Accuracy Score Before and After Thresholding: {}, {}\".format(accuracy_score(y_test, predictions_test), accuracy_score(y_test, roc_predictions)))\n",
    "print(\"Precision Score Before and After Thresholding: {}, {}\".format(precision_score(y_test, predictions_test), precision_score(y_test, roc_predictions)))\n",
    "print(\"Recall Score Before and After Thresholding: {}, {}\".format(recall_score(y_test, predictions_test), recall_score(y_test, roc_predictions)))\n",
    "print(\"F1 Score Before and After Thresholding: {}, {}\".format(f1_score(y_test, predictions_test), f1_score(y_test, roc_predictions)))"
   ]
  }
 ],
 "metadata": {
  "kernelspec": {
   "display_name": "Python 3",
   "language": "python",
   "name": "python3"
  },
  "language_info": {
   "codemirror_mode": {
    "name": "ipython",
    "version": 3
   },
   "file_extension": ".py",
   "mimetype": "text/x-python",
   "name": "python",
   "nbconvert_exporter": "python",
   "pygments_lexer": "ipython3",
   "version": "3.8.8"
  }
 },
 "nbformat": 4,
 "nbformat_minor": 5
}
